{
 "cells": [
  {
   "cell_type": "markdown",
   "id": "538fa1e7-8eee-41c7-94d8-a78de4867c43",
   "metadata": {},
   "source": [
    "# Which stoves and fuels are used for cooking by the household?"
   ]
  },
  {
   "cell_type": "code",
   "execution_count": 7,
   "id": "b70344e1-c000-4e3f-9568-d2c6385ff58d",
   "metadata": {},
   "outputs": [],
   "source": [
    "import pandas as pd\n",
    "import matplotlib.pyplot as plt\n",
    "import numpy as np"
   ]
  },
  {
   "cell_type": "code",
   "execution_count": 14,
   "id": "1da01d57",
   "metadata": {},
   "outputs": [
    {
     "data": {
      "text/html": [
       "<div>\n",
       "<style scoped>\n",
       "    .dataframe tbody tr th:only-of-type {\n",
       "        vertical-align: middle;\n",
       "    }\n",
       "\n",
       "    .dataframe tbody tr th {\n",
       "        vertical-align: top;\n",
       "    }\n",
       "\n",
       "    .dataframe thead th {\n",
       "        text-align: right;\n",
       "    }\n",
       "</style>\n",
       "<table border=\"1\" class=\"dataframe\">\n",
       "  <thead>\n",
       "    <tr style=\"text-align: right;\">\n",
       "      <th></th>\n",
       "      <th>HH_ID</th>\n",
       "      <th>individ</th>\n",
       "      <th>A2</th>\n",
       "      <th>A3</th>\n",
       "      <th>A4</th>\n",
       "      <th>A5</th>\n",
       "      <th>A7</th>\n",
       "      <th>A8</th>\n",
       "      <th>A9</th>\n",
       "      <th>A11</th>\n",
       "      <th>A12</th>\n",
       "      <th>A14</th>\n",
       "      <th>A14_oths</th>\n",
       "      <th>A15</th>\n",
       "      <th>A16</th>\n",
       "      <th>A17</th>\n",
       "      <th>A18</th>\n",
       "      <th>A20</th>\n",
       "      <th>A19</th>\n",
       "      <th>interview__key</th>\n",
       "    </tr>\n",
       "  </thead>\n",
       "  <tbody>\n",
       "    <tr>\n",
       "      <th>0</th>\n",
       "      <td>1.000506e+12</td>\n",
       "      <td>1</td>\n",
       "      <td>Ibrahim Madi</td>\n",
       "      <td>Male</td>\n",
       "      <td>Head</td>\n",
       "      <td>37</td>\n",
       "      <td>Yes</td>\n",
       "      <td>No</td>\n",
       "      <td>QUARANIC</td>\n",
       "      <td>Married</td>\n",
       "      <td>Never</td>\n",
       "      <td>Self-Employed Non Farm Business enterprise</td>\n",
       "      <td></td>\n",
       "      <td>Wholesale and retail trade; repair of motor ve...</td>\n",
       "      <td>9.0</td>\n",
       "      <td>30.0</td>\n",
       "      <td>200000.0</td>\n",
       "      <td>0.0</td>\n",
       "      <td>No</td>\n",
       "      <td>88-06-47-05</td>\n",
       "    </tr>\n",
       "    <tr>\n",
       "      <th>1</th>\n",
       "      <td>1.000506e+12</td>\n",
       "      <td>2</td>\n",
       "      <td>Bara'atu Ibrahm</td>\n",
       "      <td>Female</td>\n",
       "      <td>Wife/Spouse</td>\n",
       "      <td>30</td>\n",
       "      <td>Yes</td>\n",
       "      <td>No</td>\n",
       "      <td>QUARANIC</td>\n",
       "      <td>Married</td>\n",
       "      <td>A few times in a week</td>\n",
       "      <td>Self-Employed Non Farm Business enterprise</td>\n",
       "      <td></td>\n",
       "      <td>Manufacturing</td>\n",
       "      <td>12.0</td>\n",
       "      <td>30.0</td>\n",
       "      <td>888.0</td>\n",
       "      <td>0.0</td>\n",
       "      <td>Yes</td>\n",
       "      <td>88-06-47-05</td>\n",
       "    </tr>\n",
       "    <tr>\n",
       "      <th>2</th>\n",
       "      <td>1.000506e+12</td>\n",
       "      <td>3</td>\n",
       "      <td>Hassana Ibrahim</td>\n",
       "      <td>Female</td>\n",
       "      <td>Wife/Spouse</td>\n",
       "      <td>33</td>\n",
       "      <td>Yes</td>\n",
       "      <td>No</td>\n",
       "      <td>QUARANIC</td>\n",
       "      <td>Married</td>\n",
       "      <td>Everyday</td>\n",
       "      <td>Self-Employed Non Farm Business enterprise</td>\n",
       "      <td></td>\n",
       "      <td>Manufacturing</td>\n",
       "      <td>12.0</td>\n",
       "      <td>30.0</td>\n",
       "      <td>20000.0</td>\n",
       "      <td>0.0</td>\n",
       "      <td>No</td>\n",
       "      <td>88-06-47-05</td>\n",
       "    </tr>\n",
       "    <tr>\n",
       "      <th>3</th>\n",
       "      <td>1.000506e+12</td>\n",
       "      <td>4</td>\n",
       "      <td>Halima Ibrahim</td>\n",
       "      <td>Female</td>\n",
       "      <td>Child/adopted child</td>\n",
       "      <td>12</td>\n",
       "      <td>Yes</td>\n",
       "      <td>Yes</td>\n",
       "      <td>P4</td>\n",
       "      <td>Never Married</td>\n",
       "      <td>Once a week</td>\n",
       "      <td>NaN</td>\n",
       "      <td></td>\n",
       "      <td>NaN</td>\n",
       "      <td>NaN</td>\n",
       "      <td>NaN</td>\n",
       "      <td>NaN</td>\n",
       "      <td>NaN</td>\n",
       "      <td>NaN</td>\n",
       "      <td>88-06-47-05</td>\n",
       "    </tr>\n",
       "    <tr>\n",
       "      <th>4</th>\n",
       "      <td>1.000506e+12</td>\n",
       "      <td>5</td>\n",
       "      <td>Hindatu Ibrahim</td>\n",
       "      <td>Female</td>\n",
       "      <td>Child/adopted child</td>\n",
       "      <td>2</td>\n",
       "      <td>NaN</td>\n",
       "      <td>NaN</td>\n",
       "      <td>NaN</td>\n",
       "      <td>NaN</td>\n",
       "      <td>NaN</td>\n",
       "      <td>NaN</td>\n",
       "      <td></td>\n",
       "      <td>NaN</td>\n",
       "      <td>NaN</td>\n",
       "      <td>NaN</td>\n",
       "      <td>NaN</td>\n",
       "      <td>NaN</td>\n",
       "      <td>NaN</td>\n",
       "      <td>88-06-47-05</td>\n",
       "    </tr>\n",
       "  </tbody>\n",
       "</table>\n",
       "</div>"
      ],
      "text/plain": [
       "          HH_ID  individ               A2      A3                   A4  A5  \\\n",
       "0  1.000506e+12        1     Ibrahim Madi    Male                 Head  37   \n",
       "1  1.000506e+12        2  Bara'atu Ibrahm  Female          Wife/Spouse  30   \n",
       "2  1.000506e+12        3  Hassana Ibrahim  Female          Wife/Spouse  33   \n",
       "3  1.000506e+12        4   Halima Ibrahim  Female  Child/adopted child  12   \n",
       "4  1.000506e+12        5  Hindatu Ibrahim  Female  Child/adopted child   2   \n",
       "\n",
       "    A7   A8        A9            A11                    A12  \\\n",
       "0  Yes   No  QUARANIC        Married                  Never   \n",
       "1  Yes   No  QUARANIC        Married  A few times in a week   \n",
       "2  Yes   No  QUARANIC        Married               Everyday   \n",
       "3  Yes  Yes        P4  Never Married            Once a week   \n",
       "4  NaN  NaN       NaN            NaN                    NaN   \n",
       "\n",
       "                                          A14 A14_oths  \\\n",
       "0  Self-Employed Non Farm Business enterprise            \n",
       "1  Self-Employed Non Farm Business enterprise            \n",
       "2  Self-Employed Non Farm Business enterprise            \n",
       "3                                         NaN            \n",
       "4                                         NaN            \n",
       "\n",
       "                                                 A15   A16   A17       A18  \\\n",
       "0  Wholesale and retail trade; repair of motor ve...   9.0  30.0  200000.0   \n",
       "1                                      Manufacturing  12.0  30.0     888.0   \n",
       "2                                      Manufacturing  12.0  30.0   20000.0   \n",
       "3                                                NaN   NaN   NaN       NaN   \n",
       "4                                                NaN   NaN   NaN       NaN   \n",
       "\n",
       "   A20  A19 interview__key  \n",
       "0  0.0   No    88-06-47-05  \n",
       "1  0.0  Yes    88-06-47-05  \n",
       "2  0.0   No    88-06-47-05  \n",
       "3  NaN  NaN    88-06-47-05  \n",
       "4  NaN  NaN    88-06-47-05  "
      ]
     },
     "execution_count": 14,
     "metadata": {},
     "output_type": "execute_result"
    }
   ],
   "source": [
    "df_A = pd.read_stata('raw_data/dta/MTF_NG_HH_SEC_A1.dta')\n",
    "df_A.head(5)"
   ]
  },
  {
   "cell_type": "code",
   "execution_count": 15,
   "id": "a854fe54",
   "metadata": {},
   "outputs": [
    {
     "data": {
      "text/plain": [
       "22597"
      ]
     },
     "execution_count": 15,
     "metadata": {},
     "output_type": "execute_result"
    }
   ],
   "source": [
    "len(df_A)"
   ]
  },
  {
   "cell_type": "code",
   "execution_count": 16,
   "id": "7220c935-a387-4d8c-8475-14ef679a8f07",
   "metadata": {},
   "outputs": [],
   "source": [
    "df = pd.read_stata('raw_data/dta/MTF_NG_HH_SEC_I_STOVE.dta')"
   ]
  },
  {
   "cell_type": "code",
   "execution_count": 17,
   "id": "851ad888-c3bd-4a36-811d-7dc96ed8e85f",
   "metadata": {},
   "outputs": [],
   "source": [
    "df.to_csv('stove.csv')"
   ]
  },
  {
   "cell_type": "code",
   "execution_count": 18,
   "id": "a223600a-b18d-48d1-8e98-acdd34d82e11",
   "metadata": {
    "scrolled": true
   },
   "outputs": [
    {
     "data": {
      "text/html": [
       "<div>\n",
       "<style scoped>\n",
       "    .dataframe tbody tr th:only-of-type {\n",
       "        vertical-align: middle;\n",
       "    }\n",
       "\n",
       "    .dataframe tbody tr th {\n",
       "        vertical-align: top;\n",
       "    }\n",
       "\n",
       "    .dataframe thead th {\n",
       "        text-align: right;\n",
       "    }\n",
       "</style>\n",
       "<table border=\"1\" class=\"dataframe\">\n",
       "  <thead>\n",
       "    <tr style=\"text-align: right;\">\n",
       "      <th></th>\n",
       "      <th>HH_ID</th>\n",
       "      <th>I_Cookstove__id</th>\n",
       "      <th>I3</th>\n",
       "      <th>I4</th>\n",
       "      <th>I5</th>\n",
       "      <th>I6</th>\n",
       "      <th>I7</th>\n",
       "      <th>I8</th>\n",
       "      <th>I9</th>\n",
       "      <th>I10</th>\n",
       "      <th>...</th>\n",
       "      <th>I31__7</th>\n",
       "      <th>I31__8</th>\n",
       "      <th>I31__9</th>\n",
       "      <th>I32</th>\n",
       "      <th>I32_oth</th>\n",
       "      <th>I33</th>\n",
       "      <th>I35</th>\n",
       "      <th>I36a</th>\n",
       "      <th>I36b</th>\n",
       "      <th>interview__key</th>\n",
       "    </tr>\n",
       "  </thead>\n",
       "  <tbody>\n",
       "    <tr>\n",
       "      <th>0</th>\n",
       "      <td>1.000506e+12</td>\n",
       "      <td>1</td>\n",
       "      <td>3-Stone/Open Fire Stove</td>\n",
       "      <td>NaN</td>\n",
       "      <td>NaN</td>\n",
       "      <td>NaN</td>\n",
       "      <td>NaN</td>\n",
       "      <td>NaN</td>\n",
       "      <td></td>\n",
       "      <td>NaN</td>\n",
       "      <td>...</td>\n",
       "      <td>No</td>\n",
       "      <td>No</td>\n",
       "      <td>Yes</td>\n",
       "      <td>NaN</td>\n",
       "      <td></td>\n",
       "      <td>Yes</td>\n",
       "      <td>Yes</td>\n",
       "      <td>1000</td>\n",
       "      <td>0.0</td>\n",
       "      <td>88-06-47-05</td>\n",
       "    </tr>\n",
       "    <tr>\n",
       "      <th>1</th>\n",
       "      <td>1.000506e+12</td>\n",
       "      <td>1</td>\n",
       "      <td>3-Stone/Open Fire Stove</td>\n",
       "      <td>NaN</td>\n",
       "      <td>NaN</td>\n",
       "      <td>NaN</td>\n",
       "      <td>NaN</td>\n",
       "      <td>NaN</td>\n",
       "      <td></td>\n",
       "      <td>NaN</td>\n",
       "      <td>...</td>\n",
       "      <td>No</td>\n",
       "      <td>No</td>\n",
       "      <td>Yes</td>\n",
       "      <td>NaN</td>\n",
       "      <td></td>\n",
       "      <td>Yes</td>\n",
       "      <td>Yes</td>\n",
       "      <td>0</td>\n",
       "      <td>NaN</td>\n",
       "      <td>28-74-75-20</td>\n",
       "    </tr>\n",
       "    <tr>\n",
       "      <th>2</th>\n",
       "      <td>1.000506e+12</td>\n",
       "      <td>1</td>\n",
       "      <td>3-Stone/Open Fire Stove</td>\n",
       "      <td>NaN</td>\n",
       "      <td>NaN</td>\n",
       "      <td>NaN</td>\n",
       "      <td>NaN</td>\n",
       "      <td>NaN</td>\n",
       "      <td></td>\n",
       "      <td>NaN</td>\n",
       "      <td>...</td>\n",
       "      <td>No</td>\n",
       "      <td>No</td>\n",
       "      <td>No</td>\n",
       "      <td>Yes</td>\n",
       "      <td></td>\n",
       "      <td>Yes</td>\n",
       "      <td>Yes</td>\n",
       "      <td>0</td>\n",
       "      <td>NaN</td>\n",
       "      <td>73-27-18-12</td>\n",
       "    </tr>\n",
       "    <tr>\n",
       "      <th>3</th>\n",
       "      <td>1.000506e+12</td>\n",
       "      <td>1</td>\n",
       "      <td>3-Stone/Open Fire Stove</td>\n",
       "      <td>NaN</td>\n",
       "      <td>NaN</td>\n",
       "      <td>NaN</td>\n",
       "      <td>NaN</td>\n",
       "      <td>NaN</td>\n",
       "      <td></td>\n",
       "      <td>NaN</td>\n",
       "      <td>...</td>\n",
       "      <td>No</td>\n",
       "      <td>No</td>\n",
       "      <td>Yes</td>\n",
       "      <td>NaN</td>\n",
       "      <td></td>\n",
       "      <td>Yes</td>\n",
       "      <td>Yes</td>\n",
       "      <td>0</td>\n",
       "      <td>0.0</td>\n",
       "      <td>54-16-56-83</td>\n",
       "    </tr>\n",
       "    <tr>\n",
       "      <th>4</th>\n",
       "      <td>1.000506e+12</td>\n",
       "      <td>1</td>\n",
       "      <td>3-Stone/Open Fire Stove</td>\n",
       "      <td>NaN</td>\n",
       "      <td>NaN</td>\n",
       "      <td>NaN</td>\n",
       "      <td>NaN</td>\n",
       "      <td>NaN</td>\n",
       "      <td></td>\n",
       "      <td>NaN</td>\n",
       "      <td>...</td>\n",
       "      <td>No</td>\n",
       "      <td>No</td>\n",
       "      <td>Yes</td>\n",
       "      <td>NaN</td>\n",
       "      <td></td>\n",
       "      <td>Yes</td>\n",
       "      <td>Yes</td>\n",
       "      <td>0</td>\n",
       "      <td>NaN</td>\n",
       "      <td>73-13-57-71</td>\n",
       "    </tr>\n",
       "    <tr>\n",
       "      <th>5</th>\n",
       "      <td>1.000506e+12</td>\n",
       "      <td>1</td>\n",
       "      <td>3-Stone/Open Fire Stove</td>\n",
       "      <td>NaN</td>\n",
       "      <td>NaN</td>\n",
       "      <td>NaN</td>\n",
       "      <td>NaN</td>\n",
       "      <td>NaN</td>\n",
       "      <td></td>\n",
       "      <td>NaN</td>\n",
       "      <td>...</td>\n",
       "      <td>No</td>\n",
       "      <td>No</td>\n",
       "      <td>Yes</td>\n",
       "      <td>NaN</td>\n",
       "      <td></td>\n",
       "      <td>Yes</td>\n",
       "      <td>Yes</td>\n",
       "      <td>0</td>\n",
       "      <td>NaN</td>\n",
       "      <td>75-01-00-19</td>\n",
       "    </tr>\n",
       "    <tr>\n",
       "      <th>6</th>\n",
       "      <td>1.000506e+12</td>\n",
       "      <td>1</td>\n",
       "      <td>3-Stone/Open Fire Stove</td>\n",
       "      <td>NaN</td>\n",
       "      <td>NaN</td>\n",
       "      <td>NaN</td>\n",
       "      <td>NaN</td>\n",
       "      <td>NaN</td>\n",
       "      <td></td>\n",
       "      <td>NaN</td>\n",
       "      <td>...</td>\n",
       "      <td>No</td>\n",
       "      <td>No</td>\n",
       "      <td>Yes</td>\n",
       "      <td>NaN</td>\n",
       "      <td></td>\n",
       "      <td>Yes</td>\n",
       "      <td>Yes</td>\n",
       "      <td>0</td>\n",
       "      <td>NaN</td>\n",
       "      <td>83-06-80-45</td>\n",
       "    </tr>\n",
       "    <tr>\n",
       "      <th>7</th>\n",
       "      <td>1.000506e+12</td>\n",
       "      <td>1</td>\n",
       "      <td>3-Stone/Open Fire Stove</td>\n",
       "      <td>NaN</td>\n",
       "      <td>NaN</td>\n",
       "      <td>NaN</td>\n",
       "      <td>NaN</td>\n",
       "      <td>NaN</td>\n",
       "      <td></td>\n",
       "      <td>NaN</td>\n",
       "      <td>...</td>\n",
       "      <td>No</td>\n",
       "      <td>No</td>\n",
       "      <td>Yes</td>\n",
       "      <td>NaN</td>\n",
       "      <td></td>\n",
       "      <td>Yes</td>\n",
       "      <td>Yes</td>\n",
       "      <td>0</td>\n",
       "      <td>0.0</td>\n",
       "      <td>15-06-84-19</td>\n",
       "    </tr>\n",
       "    <tr>\n",
       "      <th>8</th>\n",
       "      <td>1.000506e+12</td>\n",
       "      <td>1</td>\n",
       "      <td>3-Stone/Open Fire Stove</td>\n",
       "      <td>NaN</td>\n",
       "      <td>NaN</td>\n",
       "      <td>NaN</td>\n",
       "      <td>NaN</td>\n",
       "      <td>NaN</td>\n",
       "      <td></td>\n",
       "      <td>NaN</td>\n",
       "      <td>...</td>\n",
       "      <td>No</td>\n",
       "      <td>No</td>\n",
       "      <td>Yes</td>\n",
       "      <td>NaN</td>\n",
       "      <td></td>\n",
       "      <td>Yes</td>\n",
       "      <td>Yes</td>\n",
       "      <td>0</td>\n",
       "      <td>NaN</td>\n",
       "      <td>97-44-93-73</td>\n",
       "    </tr>\n",
       "    <tr>\n",
       "      <th>9</th>\n",
       "      <td>1.000506e+12</td>\n",
       "      <td>1</td>\n",
       "      <td>3-Stone/Open Fire Stove</td>\n",
       "      <td>NaN</td>\n",
       "      <td>NaN</td>\n",
       "      <td>NaN</td>\n",
       "      <td>NaN</td>\n",
       "      <td>NaN</td>\n",
       "      <td></td>\n",
       "      <td>NaN</td>\n",
       "      <td>...</td>\n",
       "      <td>No</td>\n",
       "      <td>No</td>\n",
       "      <td>No</td>\n",
       "      <td>Yes</td>\n",
       "      <td></td>\n",
       "      <td>Yes</td>\n",
       "      <td>Yes</td>\n",
       "      <td>3000</td>\n",
       "      <td>0.0</td>\n",
       "      <td>46-13-78-78</td>\n",
       "    </tr>\n",
       "  </tbody>\n",
       "</table>\n",
       "<p>10 rows × 59 columns</p>\n",
       "</div>"
      ],
      "text/plain": [
       "          HH_ID  I_Cookstove__id                       I3   I4   I5  I6   I7  \\\n",
       "0  1.000506e+12                1  3-Stone/Open Fire Stove  NaN  NaN NaN  NaN   \n",
       "1  1.000506e+12                1  3-Stone/Open Fire Stove  NaN  NaN NaN  NaN   \n",
       "2  1.000506e+12                1  3-Stone/Open Fire Stove  NaN  NaN NaN  NaN   \n",
       "3  1.000506e+12                1  3-Stone/Open Fire Stove  NaN  NaN NaN  NaN   \n",
       "4  1.000506e+12                1  3-Stone/Open Fire Stove  NaN  NaN NaN  NaN   \n",
       "5  1.000506e+12                1  3-Stone/Open Fire Stove  NaN  NaN NaN  NaN   \n",
       "6  1.000506e+12                1  3-Stone/Open Fire Stove  NaN  NaN NaN  NaN   \n",
       "7  1.000506e+12                1  3-Stone/Open Fire Stove  NaN  NaN NaN  NaN   \n",
       "8  1.000506e+12                1  3-Stone/Open Fire Stove  NaN  NaN NaN  NaN   \n",
       "9  1.000506e+12                1  3-Stone/Open Fire Stove  NaN  NaN NaN  NaN   \n",
       "\n",
       "    I8 I9  I10  ... I31__7  I31__8  I31__9  I32 I32_oth  I33  I35  I36a I36b  \\\n",
       "0  NaN     NaN  ...     No      No     Yes  NaN          Yes  Yes  1000  0.0   \n",
       "1  NaN     NaN  ...     No      No     Yes  NaN          Yes  Yes     0  NaN   \n",
       "2  NaN     NaN  ...     No      No      No  Yes          Yes  Yes     0  NaN   \n",
       "3  NaN     NaN  ...     No      No     Yes  NaN          Yes  Yes     0  0.0   \n",
       "4  NaN     NaN  ...     No      No     Yes  NaN          Yes  Yes     0  NaN   \n",
       "5  NaN     NaN  ...     No      No     Yes  NaN          Yes  Yes     0  NaN   \n",
       "6  NaN     NaN  ...     No      No     Yes  NaN          Yes  Yes     0  NaN   \n",
       "7  NaN     NaN  ...     No      No     Yes  NaN          Yes  Yes     0  0.0   \n",
       "8  NaN     NaN  ...     No      No     Yes  NaN          Yes  Yes     0  NaN   \n",
       "9  NaN     NaN  ...     No      No      No  Yes          Yes  Yes  3000  0.0   \n",
       "\n",
       "  interview__key  \n",
       "0    88-06-47-05  \n",
       "1    28-74-75-20  \n",
       "2    73-27-18-12  \n",
       "3    54-16-56-83  \n",
       "4    73-13-57-71  \n",
       "5    75-01-00-19  \n",
       "6    83-06-80-45  \n",
       "7    15-06-84-19  \n",
       "8    97-44-93-73  \n",
       "9    46-13-78-78  \n",
       "\n",
       "[10 rows x 59 columns]"
      ]
     },
     "execution_count": 18,
     "metadata": {},
     "output_type": "execute_result"
    }
   ],
   "source": [
    "df.head(10)"
   ]
  },
  {
   "cell_type": "code",
   "execution_count": 19,
   "id": "94d5b930-9775-4da4-b814-f2b41e15c2b2",
   "metadata": {},
   "outputs": [
    {
     "name": "stdout",
     "output_type": "stream",
     "text": [
      "<class 'pandas.core.frame.DataFrame'>\n",
      "Int64Index: 4142 entries, 0 to 4141\n",
      "Data columns (total 59 columns):\n",
      " #   Column           Non-Null Count  Dtype   \n",
      "---  ------           --------------  -----   \n",
      " 0   HH_ID            4142 non-null   float64 \n",
      " 1   I_Cookstove__id  4142 non-null   int8    \n",
      " 2   I3               3898 non-null   category\n",
      " 3   I4               940 non-null    category\n",
      " 4   I5               879 non-null    category\n",
      " 5   I6               879 non-null    float64 \n",
      " 6   I7               61 non-null     category\n",
      " 7   I8               940 non-null    category\n",
      " 8   I9               4142 non-null   object  \n",
      " 9   I10              940 non-null    float64 \n",
      " 10  I11              244 non-null    category\n",
      " 11  I12              940 non-null    float64 \n",
      " 12  I13a             4142 non-null   int32   \n",
      " 13  I13b             4142 non-null   int32   \n",
      " 14  I14__111         4142 non-null   category\n",
      " 15  I14__1           4142 non-null   category\n",
      " 16  I14__2           4142 non-null   category\n",
      " 17  I14__3           4142 non-null   category\n",
      " 18  I14__4           4142 non-null   category\n",
      " 19  I14__5           4142 non-null   category\n",
      " 20  I14__6           4142 non-null   category\n",
      " 21  I14__7           4142 non-null   category\n",
      " 22  I14__8           4142 non-null   category\n",
      " 23  I14__9           4142 non-null   category\n",
      " 24  I14__10          4142 non-null   category\n",
      " 25  I14__11          4142 non-null   category\n",
      " 26  I14__12          4142 non-null   category\n",
      " 27  I15              4142 non-null   category\n",
      " 28  I16              4142 non-null   category\n",
      " 29  I16_oth          4142 non-null   object  \n",
      " 30  I17              171 non-null    category\n",
      " 31  I18              26 non-null     category\n",
      " 32  I19a             4142 non-null   category\n",
      " 33  I19b             4142 non-null   category\n",
      " 34  I20a             4142 non-null   category\n",
      " 35  I20b             1388 non-null   category\n",
      " 36  I21              4142 non-null   int32   \n",
      " 37  I22              4142 non-null   int32   \n",
      " 38  I23              4142 non-null   int32   \n",
      " 39  I24              4142 non-null   int32   \n",
      " 40  I25              4142 non-null   int32   \n",
      " 41  I26              4142 non-null   int32   \n",
      " 42  I27              4142 non-null   int32   \n",
      " 43  I31__1           4142 non-null   category\n",
      " 44  I31__2           4142 non-null   category\n",
      " 45  I31__3           4142 non-null   category\n",
      " 46  I31__4           4142 non-null   category\n",
      " 47  I31__5           4142 non-null   category\n",
      " 48  I31__6           4142 non-null   category\n",
      " 49  I31__7           4142 non-null   category\n",
      " 50  I31__8           4142 non-null   category\n",
      " 51  I31__9           4142 non-null   category\n",
      " 52  I32              484 non-null    category\n",
      " 53  I32_oth          4142 non-null   object  \n",
      " 54  I33              4142 non-null   category\n",
      " 55  I35              3727 non-null   category\n",
      " 56  I36a             4142 non-null   int32   \n",
      " 57  I36b             1388 non-null   float64 \n",
      " 58  interview__key   4142 non-null   object  \n",
      "dtypes: category(39), float64(5), int32(10), int8(1), object(4)\n",
      "memory usage: 653.6+ KB\n"
     ]
    }
   ],
   "source": [
    "df.info()"
   ]
  },
  {
   "cell_type": "code",
   "execution_count": 20,
   "id": "05c7a6bf",
   "metadata": {},
   "outputs": [
    {
     "data": {
      "text/plain": [
       "3633"
      ]
     },
     "execution_count": 20,
     "metadata": {},
     "output_type": "execute_result"
    }
   ],
   "source": [
    "len(np.unique(df['HH_ID']))"
   ]
  },
  {
   "cell_type": "code",
   "execution_count": 21,
   "id": "aafeffb9-c23d-4991-b24c-fe301a455859",
   "metadata": {},
   "outputs": [
    {
     "data": {
      "text/plain": [
       "(4142, 59)"
      ]
     },
     "execution_count": 21,
     "metadata": {},
     "output_type": "execute_result"
    }
   ],
   "source": [
    "df.shape"
   ]
  },
  {
   "cell_type": "code",
   "execution_count": 22,
   "id": "2bbe577b-53b1-4818-8a24-302c339dec56",
   "metadata": {},
   "outputs": [
    {
     "data": {
      "text/plain": [
       "HH_ID                 0\n",
       "I_Cookstove__id       0\n",
       "I3                  244\n",
       "I4                 3202\n",
       "I5                 3263\n",
       "I6                 3263\n",
       "I7                 4081\n",
       "I8                 3202\n",
       "I9                    0\n",
       "I10                3202\n",
       "I11                3898\n",
       "I12                3202\n",
       "I13a                  0\n",
       "I13b                  0\n",
       "I14__111              0\n",
       "I14__1                0\n",
       "I14__2                0\n",
       "I14__3                0\n",
       "I14__4                0\n",
       "I14__5                0\n",
       "I14__6                0\n",
       "I14__7                0\n",
       "I14__8                0\n",
       "I14__9                0\n",
       "I14__10               0\n",
       "I14__11               0\n",
       "I14__12               0\n",
       "I15                   0\n",
       "I16                   0\n",
       "I16_oth               0\n",
       "I17                3971\n",
       "I18                4116\n",
       "I19a                  0\n",
       "I19b                  0\n",
       "I20a                  0\n",
       "I20b               2754\n",
       "I21                   0\n",
       "I22                   0\n",
       "I23                   0\n",
       "I24                   0\n",
       "I25                   0\n",
       "I26                   0\n",
       "I27                   0\n",
       "I31__1                0\n",
       "I31__2                0\n",
       "I31__3                0\n",
       "I31__4                0\n",
       "I31__5                0\n",
       "I31__6                0\n",
       "I31__7                0\n",
       "I31__8                0\n",
       "I31__9                0\n",
       "I32                3658\n",
       "I32_oth               0\n",
       "I33                   0\n",
       "I35                 415\n",
       "I36a                  0\n",
       "I36b               2754\n",
       "interview__key        0\n",
       "dtype: int64"
      ]
     },
     "execution_count": 22,
     "metadata": {},
     "output_type": "execute_result"
    }
   ],
   "source": [
    "df.isna().sum()"
   ]
  },
  {
   "cell_type": "code",
   "execution_count": 23,
   "id": "070f7c87-920b-4dda-ab73-9d8cf5c3591d",
   "metadata": {},
   "outputs": [],
   "source": [
    "type_of_stoves_i3=df[\"I3\"]"
   ]
  },
  {
   "cell_type": "code",
   "execution_count": 24,
   "id": "37f4b41b-4ed0-40de-aadc-c3e03b033ad1",
   "metadata": {},
   "outputs": [
    {
     "data": {
      "text/plain": [
       "0       3-Stone/Open Fire Stove\n",
       "1       3-Stone/Open Fire Stove\n",
       "2       3-Stone/Open Fire Stove\n",
       "3       3-Stone/Open Fire Stove\n",
       "4       3-Stone/Open Fire Stove\n",
       "                 ...           \n",
       "4137    3-Stone/Open Fire Stove\n",
       "4138    3-Stone/Open Fire Stove\n",
       "4139    3-Stone/Open Fire Stove\n",
       "4140    3-Stone/Open Fire Stove\n",
       "4141                        NaN\n",
       "Name: I3, Length: 4142, dtype: category\n",
       "Categories (6, object): ['3-Stone/Open Fire Stove' < 'Manufactured Stove Traditional' < 'LPG/Natural Gas Stove' < 'Koresone Stove' < 'Electric Stove' < 'Other, Specify']"
      ]
     },
     "execution_count": 24,
     "metadata": {},
     "output_type": "execute_result"
    }
   ],
   "source": [
    "type_of_stoves_i3"
   ]
  },
  {
   "cell_type": "code",
   "execution_count": 25,
   "id": "c9fb1315-e39a-4e4c-b387-714a80d35d2a",
   "metadata": {},
   "outputs": [
    {
     "data": {
      "text/plain": [
       "3-Stone/Open Fire Stove           2959\n",
       "Manufactured Stove Traditional     435\n",
       "Koresone Stove                     320\n",
       "LPG/Natural Gas Stove              129\n",
       "Electric Stove                      52\n",
       "Other, Specify                       3\n",
       "Name: I3, dtype: int64"
      ]
     },
     "execution_count": 25,
     "metadata": {},
     "output_type": "execute_result"
    }
   ],
   "source": [
    "type_of_stoves_i3.value_counts()"
   ]
  },
  {
   "cell_type": "code",
   "execution_count": 26,
   "id": "def9a28b-d716-45a8-82db-726f26c685b4",
   "metadata": {},
   "outputs": [],
   "source": [
    "type_of_fuel_i19=df[\"I19a\"]"
   ]
  },
  {
   "cell_type": "code",
   "execution_count": 27,
   "id": "1f52cae7-9ec5-49d2-9a47-39eb376d5902",
   "metadata": {},
   "outputs": [
    {
     "data": {
      "text/plain": [
       "0       Wood purchased\n",
       "1       Wood collected\n",
       "2       Wood collected\n",
       "3       Wood collected\n",
       "4       Wood collected\n",
       "             ...      \n",
       "4137    Wood purchased\n",
       "4138    Wood purchased\n",
       "4139    Wood purchased\n",
       "4140    Wood purchased\n",
       "4141    Wood purchased\n",
       "Name: I19a, Length: 4142, dtype: category\n",
       "Categories (14, object): ['LPG/cooking gas' < 'Wood purchased' < 'Wood collected' < 'Charcoal' ... 'Electric' < 'Garbage' < 'Charcoal Briquettes' < 'Other, specify']"
      ]
     },
     "execution_count": 27,
     "metadata": {},
     "output_type": "execute_result"
    }
   ],
   "source": [
    "type_of_fuel_i19"
   ]
  },
  {
   "cell_type": "code",
   "execution_count": 34,
   "id": "9fad0f76-3ede-4225-bc1d-fa642d719a79",
   "metadata": {},
   "outputs": [
    {
     "data": {
      "text/plain": [
       "I19a\n",
       "Wood purchased                1881\n",
       "Wood collected                1146\n",
       "Charcoal                       397\n",
       "Kerosene                       329\n",
       "Crop Residue/Plant Biomass     144\n",
       "LPG/cooking gas                124\n",
       "Garbage                         56\n",
       "Electric                        53\n",
       "Piped Natural Gas                5\n",
       "Charcoal Briquettes              3\n",
       "Coal/lignite                     1\n",
       "Coal Briquette                   1\n",
       "Biomass Briquette                1\n",
       "Other, specify                   1\n",
       "Name: count, dtype: int64"
      ]
     },
     "execution_count": 34,
     "metadata": {},
     "output_type": "execute_result"
    }
   ],
   "source": [
    "type_of_fuel_i19.value_counts()"
   ]
  },
  {
   "cell_type": "code",
   "execution_count": 41,
   "id": "331c7363-ab7a-451e-9152-f87957dbcdd6",
   "metadata": {},
   "outputs": [
    {
     "data": {
      "image/png": "[encoded data removed]",
      "text/plain": [
       "<Figure size 1000x400 with 1 Axes>"
      ]
     },
     "metadata": {},
     "output_type": "display_data"
    }
   ],
   "source": [
    "plt.figure(figsize=(10,4))\n",
    "type_of_stoves_i3.value_counts().plot(kind=\"pie\",autopct=\"%1.2f%%\")\n",
    "plt.show()"
   ]
  },
  {
   "cell_type": "code",
   "execution_count": 44,
   "id": "f8152556-3540-488b-ba88-140c6746f5dd",
   "metadata": {},
   "outputs": [
    {
     "data": {
      "image/png": "[encoded data removed]",
      "text/plain": [
       "<Figure size 2000x400 with 1 Axes>"
      ]
     },
     "metadata": {},
     "output_type": "display_data"
    }
   ],
   "source": [
    "plt.figure(figsize=(20,4))\n",
    "type_of_fuel_i19.value_counts().plot(kind=\"pie\",autopct=\"%1.2f%%\")\n",
    "plt.show()"
   ]
  },
  {
   "cell_type": "code",
   "execution_count": 45,
   "id": "e8b8cd20-5de0-4f9b-8add-a1849ca0e4ab",
   "metadata": {},
   "outputs": [
    {
     "data": {
      "image/png": "[encoded data removed]",
      "text/plain": [
       "<Figure size 640x480 with 1 Axes>"
      ]
     },
     "metadata": {},
     "output_type": "display_data"
    }
   ],
   "source": [
    "#plt.figure(figsize=(10,4))\n",
    "type_of_stoves_i3.value_counts().plot(kind=\"barh\")\n",
    "plt.show()"
   ]
  },
  {
   "cell_type": "code",
   "execution_count": 46,
   "id": "537bdbd2-47e8-48b3-82c5-ef9f15e79ac9",
   "metadata": {},
   "outputs": [
    {
     "data": {
      "image/png": "[encoded data removed]",
      "text/plain": [
       "<Figure size 640x480 with 1 Axes>"
      ]
     },
     "metadata": {},
     "output_type": "display_data"
    }
   ],
   "source": [
    "#plt.figure(figsize=(10,4))\n",
    "type_of_fuel_i19.value_counts().plot(kind=\"barh\")\n",
    "plt.show()"
   ]
  },
  {
   "cell_type": "markdown",
   "id": "12ad95e4-9dfa-44b5-a6de-11278c7e0eea",
   "metadata": {},
   "source": [
    "#  Conclusion:\n",
    "\n",
    "Most of the households use 3-stove/open fired and most used fuel is wood purchased"
   ]
  },
  {
   "cell_type": "code",
   "execution_count": null,
   "id": "b586a1c9-1b72-4707-b299-17c15eb3aa23",
   "metadata": {},
   "outputs": [],
   "source": []
  },
  {
   "cell_type": "code",
   "execution_count": null,
   "id": "fffca7c7-84ee-4833-b215-7eaf3d8f2cfd",
   "metadata": {},
   "outputs": [],
   "source": []
  },
  {
   "cell_type": "code",
   "execution_count": null,
   "id": "07c2c217-2b49-488b-9451-24e2ff3981ca",
   "metadata": {},
   "outputs": [],
   "source": []
  },
  {
   "cell_type": "code",
   "execution_count": null,
   "id": "9a868f8a-68b8-456b-a6ed-666f772a0489",
   "metadata": {},
   "outputs": [],
   "source": []
  },
  {
   "cell_type": "code",
   "execution_count": null,
   "id": "9a4c1af0-2bf6-4235-a041-11b7e863c94c",
   "metadata": {},
   "outputs": [],
   "source": []
  },
  {
   "cell_type": "code",
   "execution_count": null,
   "id": "adb315f5-5471-4070-b106-de9cad8564d2",
   "metadata": {},
   "outputs": [],
   "source": []
  },
  {
   "cell_type": "code",
   "execution_count": null,
   "id": "53f8d24f-af16-409b-be1a-446a26d22829",
   "metadata": {},
   "outputs": [],
   "source": []
  },
  {
   "cell_type": "code",
   "execution_count": null,
   "id": "ce8faa73-d145-4a1c-affe-c384538c86f6",
   "metadata": {},
   "outputs": [],
   "source": []
  },
  {
   "cell_type": "code",
   "execution_count": null,
   "id": "09338bce-0a48-4274-932f-62e226a07f78",
   "metadata": {},
   "outputs": [],
   "source": []
  },
  {
   "cell_type": "code",
   "execution_count": null,
   "id": "a88ee206-5661-45c8-a04f-e04057f9b810",
   "metadata": {},
   "outputs": [],
   "source": []
  },
  {
   "cell_type": "code",
   "execution_count": null,
   "id": "0a67c607-1fad-4ddc-a539-6489dd258c47",
   "metadata": {},
   "outputs": [],
   "source": []
  },
  {
   "cell_type": "code",
   "execution_count": null,
   "id": "6e79aa5c-0675-4943-bf7f-cd56174a147b",
   "metadata": {},
   "outputs": [],
   "source": []
  }
 ],
 "metadata": {
  "kernelspec": {
   "display_name": "Python 3",
   "language": "python",
   "name": "python3"
  },
  "language_info": {
   "codemirror_mode": {
    "name": "ipython",
    "version": 3
   },
   "file_extension": ".py",
   "mimetype": "text/x-python",
   "name": "python",
   "nbconvert_exporter": "python",
   "pygments_lexer": "ipython3",
   "version": "3.8.8"
  }
 },
 "nbformat": 4,
 "nbformat_minor": 5
}
