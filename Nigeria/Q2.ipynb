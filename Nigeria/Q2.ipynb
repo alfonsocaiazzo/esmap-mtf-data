{
 "cells": [
  {
   "cell_type": "markdown",
   "id": "8b63395b-a52e-44b2-b82d-59b6aead177e",
   "metadata": {},
   "source": [
    "# Which electricity sources are used?"
   ]
  },
  {
   "cell_type": "code",
   "execution_count": 1,
   "id": "575a69bb-f99f-451c-8e0d-479910748df7",
   "metadata": {},
   "outputs": [],
   "source": [
    "import pandas as pd\n",
    "import matplotlib.pyplot as plt"
   ]
  },
  {
   "cell_type": "code",
   "execution_count": 4,
   "id": "148d0830-ee2c-4f48-88de-273116dee1f1",
   "metadata": {},
   "outputs": [],
   "source": [
    "df = pd.read_stata('raw_data/dta/MTF_NG_HH_SEC_C.dta')"
   ]
  },
  {
   "cell_type": "code",
   "execution_count": 5,
   "id": "4d9c0e13-71e1-4828-9373-3e2d3f16f564",
   "metadata": {},
   "outputs": [],
   "source": [
    "df.to_csv('elecsources.csv')"
   ]
  },
  {
   "cell_type": "code",
   "execution_count": 6,
   "id": "e0339b6e-16f9-4720-b13f-c38290c7fef9",
   "metadata": {},
   "outputs": [
    {
     "data": {
      "text/html": [
       "<div>\n",
       "<style scoped>\n",
       "    .dataframe tbody tr th:only-of-type {\n",
       "        vertical-align: middle;\n",
       "    }\n",
       "\n",
       "    .dataframe tbody tr th {\n",
       "        vertical-align: top;\n",
       "    }\n",
       "\n",
       "    .dataframe thead th {\n",
       "        text-align: right;\n",
       "    }\n",
       "</style>\n",
       "<table border=\"1\" class=\"dataframe\">\n",
       "  <thead>\n",
       "    <tr style=\"text-align: right;\">\n",
       "      <th></th>\n",
       "      <th>HH_ID</th>\n",
       "      <th>C_start</th>\n",
       "      <th>C1</th>\n",
       "      <th>C2</th>\n",
       "      <th>C3</th>\n",
       "      <th>C4</th>\n",
       "      <th>C4_oth</th>\n",
       "      <th>C5</th>\n",
       "      <th>C6</th>\n",
       "      <th>C7</th>\n",
       "      <th>...</th>\n",
       "      <th>C181</th>\n",
       "      <th>C182</th>\n",
       "      <th>C182_oth</th>\n",
       "      <th>C183</th>\n",
       "      <th>C184</th>\n",
       "      <th>C185</th>\n",
       "      <th>C186</th>\n",
       "      <th>C187</th>\n",
       "      <th>C188</th>\n",
       "      <th>C189</th>\n",
       "    </tr>\n",
       "  </thead>\n",
       "  <tbody>\n",
       "    <tr>\n",
       "      <th>0</th>\n",
       "      <td>1.000506e+12</td>\n",
       "      <td>2017-11-20T07:09:19-05:00</td>\n",
       "      <td>1.0</td>\n",
       "      <td>No</td>\n",
       "      <td>2.0</td>\n",
       "      <td>Other, specify</td>\n",
       "      <td>government fault</td>\n",
       "      <td>No</td>\n",
       "      <td>NaN</td>\n",
       "      <td>NaN</td>\n",
       "      <td>...</td>\n",
       "      <td>NaN</td>\n",
       "      <td>Dry-cell battery</td>\n",
       "      <td></td>\n",
       "      <td>1.0</td>\n",
       "      <td>No</td>\n",
       "      <td>No</td>\n",
       "      <td>No</td>\n",
       "      <td>1.0</td>\n",
       "      <td>Yes</td>\n",
       "      <td>600.0</td>\n",
       "    </tr>\n",
       "    <tr>\n",
       "      <th>1</th>\n",
       "      <td>1.000506e+12</td>\n",
       "      <td>2017-11-20T06:58:23-05:00</td>\n",
       "      <td>1.0</td>\n",
       "      <td>No</td>\n",
       "      <td>2.0</td>\n",
       "      <td>Grid is too far from household/not available</td>\n",
       "      <td></td>\n",
       "      <td>Yes</td>\n",
       "      <td>Don't Know</td>\n",
       "      <td>NaN</td>\n",
       "      <td>...</td>\n",
       "      <td>NaN</td>\n",
       "      <td>Dry-cell battery</td>\n",
       "      <td></td>\n",
       "      <td>0.0</td>\n",
       "      <td>NaN</td>\n",
       "      <td>NaN</td>\n",
       "      <td>NaN</td>\n",
       "      <td>NaN</td>\n",
       "      <td>NaN</td>\n",
       "      <td>NaN</td>\n",
       "    </tr>\n",
       "    <tr>\n",
       "      <th>2</th>\n",
       "      <td>1.000506e+12</td>\n",
       "      <td>2017-11-20T08:14:17-05:00</td>\n",
       "      <td>1.0</td>\n",
       "      <td>No</td>\n",
       "      <td>2.0</td>\n",
       "      <td>Other, specify</td>\n",
       "      <td>government fault</td>\n",
       "      <td>No</td>\n",
       "      <td>NaN</td>\n",
       "      <td>NaN</td>\n",
       "      <td>...</td>\n",
       "      <td>NaN</td>\n",
       "      <td>Dry-cell battery</td>\n",
       "      <td></td>\n",
       "      <td>0.0</td>\n",
       "      <td>NaN</td>\n",
       "      <td>NaN</td>\n",
       "      <td>NaN</td>\n",
       "      <td>NaN</td>\n",
       "      <td>NaN</td>\n",
       "      <td>NaN</td>\n",
       "    </tr>\n",
       "    <tr>\n",
       "      <th>3</th>\n",
       "      <td>1.000506e+12</td>\n",
       "      <td>2017-11-20T07:13:22-05:00</td>\n",
       "      <td>1.0</td>\n",
       "      <td>No</td>\n",
       "      <td>NaN</td>\n",
       "      <td>Grid is too far from household/not available</td>\n",
       "      <td></td>\n",
       "      <td>No</td>\n",
       "      <td>NaN</td>\n",
       "      <td>NaN</td>\n",
       "      <td>...</td>\n",
       "      <td>NaN</td>\n",
       "      <td>Dry-cell battery</td>\n",
       "      <td></td>\n",
       "      <td>1.0</td>\n",
       "      <td>No</td>\n",
       "      <td>No</td>\n",
       "      <td>No</td>\n",
       "      <td>1.0</td>\n",
       "      <td>Yes</td>\n",
       "      <td>400.0</td>\n",
       "    </tr>\n",
       "    <tr>\n",
       "      <th>4</th>\n",
       "      <td>1.000506e+12</td>\n",
       "      <td>2017-11-20T07:04:08-05:00</td>\n",
       "      <td>2.0</td>\n",
       "      <td>No</td>\n",
       "      <td>NaN</td>\n",
       "      <td>Company refused to connect the household</td>\n",
       "      <td></td>\n",
       "      <td>Don't know</td>\n",
       "      <td>NaN</td>\n",
       "      <td>NaN</td>\n",
       "      <td>...</td>\n",
       "      <td>NaN</td>\n",
       "      <td>Dry-cell battery</td>\n",
       "      <td></td>\n",
       "      <td>0.0</td>\n",
       "      <td>NaN</td>\n",
       "      <td>NaN</td>\n",
       "      <td>NaN</td>\n",
       "      <td>NaN</td>\n",
       "      <td>NaN</td>\n",
       "      <td>NaN</td>\n",
       "    </tr>\n",
       "  </tbody>\n",
       "</table>\n",
       "<p>5 rows × 287 columns</p>\n",
       "</div>"
      ],
      "text/plain": [
       "          HH_ID                    C_start   C1  C2   C3  \\\n",
       "0  1.000506e+12  2017-11-20T07:09:19-05:00  1.0  No  2.0   \n",
       "1  1.000506e+12  2017-11-20T06:58:23-05:00  1.0  No  2.0   \n",
       "2  1.000506e+12  2017-11-20T08:14:17-05:00  1.0  No  2.0   \n",
       "3  1.000506e+12  2017-11-20T07:13:22-05:00  1.0  No  NaN   \n",
       "4  1.000506e+12  2017-11-20T07:04:08-05:00  2.0  No  NaN   \n",
       "\n",
       "                                             C4            C4_oth          C5  \\\n",
       "0                                Other, specify  government fault          No   \n",
       "1  Grid is too far from household/not available                           Yes   \n",
       "2                                Other, specify  government fault          No   \n",
       "3  Grid is too far from household/not available                            No   \n",
       "4      Company refused to connect the household                    Don't know   \n",
       "\n",
       "           C6  C7  ...  C181              C182  C182_oth  C183 C184 C185 C186  \\\n",
       "0         NaN NaN  ...   NaN  Dry-cell battery             1.0   No   No   No   \n",
       "1  Don't Know NaN  ...   NaN  Dry-cell battery             0.0  NaN  NaN  NaN   \n",
       "2         NaN NaN  ...   NaN  Dry-cell battery             0.0  NaN  NaN  NaN   \n",
       "3         NaN NaN  ...   NaN  Dry-cell battery             1.0   No   No   No   \n",
       "4         NaN NaN  ...   NaN  Dry-cell battery             0.0  NaN  NaN  NaN   \n",
       "\n",
       "  C187 C188   C189  \n",
       "0  1.0  Yes  600.0  \n",
       "1  NaN  NaN    NaN  \n",
       "2  NaN  NaN    NaN  \n",
       "3  1.0  Yes  400.0  \n",
       "4  NaN  NaN    NaN  \n",
       "\n",
       "[5 rows x 287 columns]"
      ]
     },
     "execution_count": 6,
     "metadata": {},
     "output_type": "execute_result"
    }
   ],
   "source": [
    "df.head()"
   ]
  },
  {
   "cell_type": "code",
   "execution_count": 7,
   "id": "d1a36b2a-b060-4934-8300-e0d79e750c6e",
   "metadata": {},
   "outputs": [
    {
     "data": {
      "text/plain": [
       "(3669, 287)"
      ]
     },
     "execution_count": 7,
     "metadata": {},
     "output_type": "execute_result"
    }
   ],
   "source": [
    "df.shape"
   ]
  },
  {
   "cell_type": "code",
   "execution_count": 8,
   "id": "f7e0aaf8-ce9c-4928-b53e-e778ec108903",
   "metadata": {},
   "outputs": [
    {
     "data": {
      "text/plain": [
       "HH_ID         0\n",
       "C_start       0\n",
       "C1            1\n",
       "C2            1\n",
       "C3         2230\n",
       "           ... \n",
       "C185       2516\n",
       "C186       2611\n",
       "C187       2611\n",
       "C188       2630\n",
       "C189       2630\n",
       "Length: 287, dtype: int64"
      ]
     },
     "execution_count": 8,
     "metadata": {},
     "output_type": "execute_result"
    }
   ],
   "source": [
    "df.isna().sum()"
   ]
  },
  {
   "cell_type": "code",
   "execution_count": 9,
   "id": "cc5458d8-9b91-4baf-9c99-6e408746806f",
   "metadata": {},
   "outputs": [],
   "source": [
    "electricity_sources= df[\"C182\"]"
   ]
  },
  {
   "cell_type": "code",
   "execution_count": 10,
   "id": "450fac6f-f7cb-455b-a9fd-47069dc17625",
   "metadata": {},
   "outputs": [
    {
     "data": {
      "text/plain": [
       "Dry-cell battery              1998\n",
       "National Grid Connection      1387\n",
       "No electricity                 203\n",
       "Electric generator              47\n",
       "Other, specify                  18\n",
       "Solar Multi-Light Product        7\n",
       "Solar Home System                4\n",
       "Solar Lantern                    2\n",
       "Local Mini Grid connection       1\n",
       "Rechargeable Battery             1\n",
       "Name: C182, dtype: int64"
      ]
     },
     "execution_count": 10,
     "metadata": {},
     "output_type": "execute_result"
    }
   ],
   "source": [
    "electricity_sources.value_counts()"
   ]
  },
  {
   "cell_type": "code",
   "execution_count": 11,
   "id": "3bfe1ac6-b8f3-4f93-b893-85329dc812bc",
   "metadata": {
    "scrolled": true
   },
   "outputs": [
    {
     "data": {
      "text/plain": [
       "CategoricalDtype(categories=['National Grid Connection', 'Local Mini Grid connection',\n",
       "                  'Electric generator', 'Solar Lantern',\n",
       "                  'Solar Multi-Light Product', 'Solar Home System',\n",
       "                  'Rechargeable Battery', 'Dry-cell battery', 'No electricity',\n",
       "                  'Other, specify'],\n",
       ", ordered=True)"
      ]
     },
     "execution_count": 11,
     "metadata": {},
     "output_type": "execute_result"
    }
   ],
   "source": [
    "electricity_sources.dtype"
   ]
  },
  {
   "cell_type": "code",
   "execution_count": 12,
   "id": "1080745c-c4a8-4cff-ba90-8b2da2bc0fc5",
   "metadata": {
    "scrolled": true
   },
   "outputs": [
    {
     "data": {
      "image/png": "[encoded data removed]",
      "text/plain": [
       "<Figure size 432x288 with 1 Axes>"
      ]
     },
     "metadata": {
      "needs_background": "light"
     },
     "output_type": "display_data"
    }
   ],
   "source": [
    "#plt.figure(figsize=(10,4))\n",
    "electricity_sources.value_counts().plot(kind=\"barh\")\n",
    "plt.show()"
   ]
  },
  {
   "cell_type": "markdown",
   "id": "82e41c85-025e-4f24-9ae3-a0c120877371",
   "metadata": {},
   "source": [
    "### The most used energy source used is dry cell battery"
   ]
  },
  {
   "cell_type": "code",
   "execution_count": 13,
   "id": "3d2f6125-cb5e-406d-a481-db21650c709c",
   "metadata": {},
   "outputs": [
    {
     "data": {
      "text/plain": [
       "10"
      ]
     },
     "execution_count": 13,
     "metadata": {},
     "output_type": "execute_result"
    }
   ],
   "source": [
    "electricity_sources.nunique()"
   ]
  },
  {
   "cell_type": "markdown",
   "id": "afa9252f-6cde-442e-b31a-2a3c8170369e",
   "metadata": {},
   "source": [
    "### The energy sources are given below"
   ]
  },
  {
   "cell_type": "code",
   "execution_count": 14,
   "id": "4f09d50f-b349-4387-a1b4-98bcd1b9beb6",
   "metadata": {},
   "outputs": [
    {
     "data": {
      "text/plain": [
       "['Solar Home System',\n",
       " nan,\n",
       " 'Rechargeable Battery',\n",
       " 'Solar Lantern',\n",
       " 'Other, specify',\n",
       " 'Electric generator',\n",
       " 'Solar Multi-Light Product',\n",
       " 'Dry-cell battery',\n",
       " 'No electricity',\n",
       " 'National Grid Connection',\n",
       " 'Local Mini Grid connection']"
      ]
     },
     "execution_count": 14,
     "metadata": {},
     "output_type": "execute_result"
    }
   ],
   "source": [
    "list(set(list(electricity_sources)))"
   ]
  },
  {
   "cell_type": "code",
   "execution_count": null,
   "id": "0818cf44-b4ea-4388-a54d-eedc1172cdf2",
   "metadata": {},
   "outputs": [],
   "source": []
  },
  {
   "cell_type": "code",
   "execution_count": null,
   "id": "d213abf3",
   "metadata": {},
   "outputs": [],
   "source": []
  }
 ],
 "metadata": {
  "kernelspec": {
   "display_name": "Python 3",
   "language": "python",
   "name": "python3"
  },
  "language_info": {
   "codemirror_mode": {
    "name": "ipython",
    "version": 3
   },
   "file_extension": ".py",
   "mimetype": "text/x-python",
   "name": "python",
   "nbconvert_exporter": "python",
   "pygments_lexer": "ipython3",
   "version": "3.8.8"
  }
 },
 "nbformat": 4,
 "nbformat_minor": 5
}
