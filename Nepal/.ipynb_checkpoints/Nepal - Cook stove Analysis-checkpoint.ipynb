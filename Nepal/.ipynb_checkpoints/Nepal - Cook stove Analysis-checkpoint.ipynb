{
 "cells": [
  {
   "cell_type": "markdown",
   "metadata": {
    "ExecuteTime": {
     "end_time": "2021-03-15T07:41:47.805802Z",
     "start_time": "2021-03-15T07:41:47.793858Z"
    }
   },
   "source": [
    "# The Multi-Tier Framework for measuring access to cooking solutions (Nepal)"
   ]
  },
  {
   "cell_type": "markdown",
   "metadata": {},
   "source": [
    "### Preliminaries"
   ]
  },
  {
   "cell_type": "markdown",
   "metadata": {},
   "source": [
    "According to [the MTF survey data](https://mtfenergyaccess.esmap.org/country/nepal), as of 2017, **62.7%** of Nepalese households **use a three-stone stove or traditional stove** as their primary stove and **26.3% use an LPG stove**.  Using the MTF definition, **25.7%** of the households in Nepal **are in MTF Tiers 3 or above.**\n",
    "\n",
    "To learn more about energy access in Nepal, download MTF’s Country Diagnostic Report, [here](https://mtfenergyaccess.esmap.org/force-download/1527)"
   ]
  },
  {
   "cell_type": "markdown",
   "metadata": {},
   "source": [
    "## General information"
   ]
  },
  {
   "cell_type": "markdown",
   "metadata": {},
   "source": [
    "### Typologies of cookstoves\n",
    "\n",
    "The various types of cookstove used in Nepal were classified into seven stove categories (see box 2 of the report for details & pictures):\n",
    "\n",
    "- **Open fire biomass:** The most traditional method of cooking in Nepal. A pot is balanced on three stones over an open fire and fuel placed on the ground. \n",
    "- **Traditional biomass:** These are locally produced using available and low-cost materials and fuels, reflecting cultural practices. A Pot placed above fire on the enclosed combustion chamber while the fuel rests on ground.\n",
    "- **Improved biomass:** The improved biomass stove uses newer stove technology compared to traditional stoves to improve efficiency, cleanliness, and safety. They may be built with local materials or be factory manufactured. In addition, improved biomass stoves may have some exhaust system.\n",
    "- **Biogas:** The digester converts organic wastes and dung into combustible methane gas called biogas, which is piped from the digester to the cookstove.\n",
    "- **Solar cookstoves:** Often called solar cookers, can be used in areas where solar energy is abundant for most of the year, typically between 30 degrees north and south of the equator. There are several types of solar cookers: panel cookers with a clamshell shape, box cookers that fully enclose the pot, parabolic cookers that resemble a satellite dish, and vacuum tube cookers that work like greenhouses.\n",
    "- **Liquefied petroleum gas (LPG):** Exclusively burn LPG, which is a gaseous fuel obtained during petroleum refining and consists mainly of butane or propane. For distribution to the end-user, LPG is bottled in individual gas cylinders of various sizes (between 3 kg and 50 kg or larger).\n",
    "- **Electric cookstoves:** Convert electrical energy into heat for cooking. Electric stoves can be either an induction type stove or an electric coil stove\n",
    "\n",
    "> The last 4 are considered as clean stove types"
   ]
  },
  {
   "cell_type": "markdown",
   "metadata": {
    "ExecuteTime": {
     "end_time": "2021-03-15T10:10:14.986744Z",
     "start_time": "2021-03-15T10:10:14.563358Z"
    }
   },
   "source": [
    "## Analysis\n",
    "\n",
    "Measuring access to modern energy cooking solutions in Nepal is crucial, as the country has historically relied heavily on solid biomass, and making concerted efforts to change this trend is key to numerous potential positive outcomes.\n",
    "\n",
    "> The questions related to cooking are in the sections I & J. "
   ]
  },
  {
   "cell_type": "code",
   "execution_count": 1,
   "metadata": {
    "ExecuteTime": {
     "end_time": "2021-03-15T14:51:09.313316Z",
     "start_time": "2021-03-15T14:50:53.449830Z"
    }
   },
   "outputs": [],
   "source": [
    "import pandas as pd\n",
    "import matplotlib.pyplot as plt\n",
    "plt.style.use('fivethirtyeight')\n",
    "from IPython.display import Image\n",
    "import itertools\n",
    "import warnings\n",
    "warnings.filterwarnings('ignore')"
   ]
  },
  {
   "cell_type": "code",
   "execution_count": 2,
   "metadata": {
    "ExecuteTime": {
     "end_time": "2021-03-15T14:51:17.842987Z",
     "start_time": "2021-03-15T14:51:09.325082Z"
    }
   },
   "outputs": [],
   "source": [
    "main_dataset = pd.read_stata('raw_data/dta/maindataset.dta')"
   ]
  },
  {
   "cell_type": "code",
   "execution_count": 3,
   "metadata": {
    "ExecuteTime": {
     "end_time": "2021-03-15T14:51:17.851519Z",
     "start_time": "2021-03-15T14:51:17.847129Z"
    }
   },
   "outputs": [],
   "source": [
    "#Extracting columns corresponding to Household information and Cooking Questions (I & J Sections)\n",
    "all_columns = main_dataset.columns\n",
    "household_info_columns = all_columns[:19]"
   ]
  },
  {
   "cell_type": "code",
   "execution_count": 4,
   "metadata": {
    "ExecuteTime": {
     "end_time": "2021-03-15T14:51:18.013978Z",
     "start_time": "2021-03-15T14:51:17.856269Z"
    }
   },
   "outputs": [],
   "source": [
    "I_section = [column for column in all_columns if column.startswith('I')]\n",
    "I_section = I_section[2:]\n",
    "I_section.sort()"
   ]
  },
  {
   "cell_type": "code",
   "execution_count": 5,
   "metadata": {
    "ExecuteTime": {
     "end_time": "2021-03-15T14:51:18.145417Z",
     "start_time": "2021-03-15T14:51:18.019169Z"
    }
   },
   "outputs": [],
   "source": [
    "J_section = [column for column in all_columns if column.startswith('J')]\n",
    "J_section.sort()"
   ]
  },
  {
   "cell_type": "code",
   "execution_count": 6,
   "metadata": {
    "ExecuteTime": {
     "end_time": "2021-03-15T14:51:18.280749Z",
     "start_time": "2021-03-15T14:51:18.149867Z"
    }
   },
   "outputs": [],
   "source": [
    "target_columns = list(itertools.chain(household_info_columns ,I_section ,J_section))"
   ]
  },
  {
   "cell_type": "code",
   "execution_count": 7,
   "metadata": {
    "ExecuteTime": {
     "end_time": "2021-03-15T14:51:18.468002Z",
     "start_time": "2021-03-15T14:51:18.287946Z"
    }
   },
   "outputs": [],
   "source": [
    "cooking = main_dataset[target_columns]"
   ]
  },
  {
   "cell_type": "code",
   "execution_count": 8,
   "metadata": {
    "ExecuteTime": {
     "end_time": "2021-03-15T14:51:18.863954Z",
     "start_time": "2021-03-15T14:51:18.472967Z"
    }
   },
   "outputs": [
    {
     "data": {
      "text/html": [
       "<div>\n",
       "<style scoped>\n",
       "    .dataframe tbody tr th:only-of-type {\n",
       "        vertical-align: middle;\n",
       "    }\n",
       "\n",
       "    .dataframe tbody tr th {\n",
       "        vertical-align: top;\n",
       "    }\n",
       "\n",
       "    .dataframe thead th {\n",
       "        text-align: right;\n",
       "    }\n",
       "</style>\n",
       "<table border=\"1\" class=\"dataframe\">\n",
       "  <thead>\n",
       "    <tr style=\"text-align: right;\">\n",
       "      <th></th>\n",
       "      <th>HHID</th>\n",
       "      <th>Id</th>\n",
       "      <th>Date_HH_Visit</th>\n",
       "      <th>Eco_Reg</th>\n",
       "      <th>Province</th>\n",
       "      <th>Dev_Region</th>\n",
       "      <th>Zone</th>\n",
       "      <th>VDC_MUN</th>\n",
       "      <th>VDC_MUN_NAME</th>\n",
       "      <th>District</th>\n",
       "      <th>...</th>\n",
       "      <th>J3__4</th>\n",
       "      <th>J3__5</th>\n",
       "      <th>J3__6</th>\n",
       "      <th>J3__7</th>\n",
       "      <th>J3__8</th>\n",
       "      <th>J40</th>\n",
       "      <th>J41</th>\n",
       "      <th>J42</th>\n",
       "      <th>J43</th>\n",
       "      <th>J44</th>\n",
       "    </tr>\n",
       "  </thead>\n",
       "  <tbody>\n",
       "    <tr>\n",
       "      <th>0</th>\n",
       "      <td>110148801</td>\n",
       "      <td>2cd3defe83504f3593c43b93509a4c9f</td>\n",
       "      <td>2017-11-11</td>\n",
       "      <td>Mountain</td>\n",
       "      <td>Province 1</td>\n",
       "      <td>Eastern</td>\n",
       "      <td>Mechi</td>\n",
       "      <td>VDC</td>\n",
       "      <td>Khewang</td>\n",
       "      <td>Taplejung</td>\n",
       "      <td>...</td>\n",
       "      <td>No</td>\n",
       "      <td>No</td>\n",
       "      <td>No</td>\n",
       "      <td>No</td>\n",
       "      <td>No</td>\n",
       "      <td>15.0</td>\n",
       "      <td>10.0</td>\n",
       "      <td>Gable (triangular cross-section)</td>\n",
       "      <td>8.0</td>\n",
       "      <td>4.0</td>\n",
       "    </tr>\n",
       "    <tr>\n",
       "      <th>1</th>\n",
       "      <td>110148802</td>\n",
       "      <td>d85646020ba744eb9b1b4bf76ca4e454</td>\n",
       "      <td>2017-11-11</td>\n",
       "      <td>Mountain</td>\n",
       "      <td>Province 1</td>\n",
       "      <td>Eastern</td>\n",
       "      <td>Mechi</td>\n",
       "      <td>VDC</td>\n",
       "      <td>Khewang</td>\n",
       "      <td>Taplejung</td>\n",
       "      <td>...</td>\n",
       "      <td>No</td>\n",
       "      <td>No</td>\n",
       "      <td>No</td>\n",
       "      <td>No</td>\n",
       "      <td>No</td>\n",
       "      <td>6.0</td>\n",
       "      <td>9.0</td>\n",
       "      <td>Flat</td>\n",
       "      <td>5.0</td>\n",
       "      <td>2.0</td>\n",
       "    </tr>\n",
       "    <tr>\n",
       "      <th>2</th>\n",
       "      <td>110148803</td>\n",
       "      <td>d8612908fadc4ba58c01a706a7e5ef64</td>\n",
       "      <td>2017-11-11</td>\n",
       "      <td>Mountain</td>\n",
       "      <td>Province 1</td>\n",
       "      <td>Eastern</td>\n",
       "      <td>Mechi</td>\n",
       "      <td>VDC</td>\n",
       "      <td>Khewang</td>\n",
       "      <td>Taplejung</td>\n",
       "      <td>...</td>\n",
       "      <td>No</td>\n",
       "      <td>No</td>\n",
       "      <td>No</td>\n",
       "      <td>No</td>\n",
       "      <td>No</td>\n",
       "      <td>7.0</td>\n",
       "      <td>NaN</td>\n",
       "      <td>Flat</td>\n",
       "      <td>6.0</td>\n",
       "      <td>2.0</td>\n",
       "    </tr>\n",
       "    <tr>\n",
       "      <th>3</th>\n",
       "      <td>110148804</td>\n",
       "      <td>9157d2376525473f925444bf756cdbe7</td>\n",
       "      <td>2017-11-11</td>\n",
       "      <td>Mountain</td>\n",
       "      <td>Province 1</td>\n",
       "      <td>Eastern</td>\n",
       "      <td>Mechi</td>\n",
       "      <td>VDC</td>\n",
       "      <td>Khewang</td>\n",
       "      <td>Taplejung</td>\n",
       "      <td>...</td>\n",
       "      <td>No</td>\n",
       "      <td>No</td>\n",
       "      <td>No</td>\n",
       "      <td>No</td>\n",
       "      <td>No</td>\n",
       "      <td>9.0</td>\n",
       "      <td>6.0</td>\n",
       "      <td>Flat</td>\n",
       "      <td>5.0</td>\n",
       "      <td>3.0</td>\n",
       "    </tr>\n",
       "    <tr>\n",
       "      <th>4</th>\n",
       "      <td>110148805</td>\n",
       "      <td>b84e1ea7a450429c8a90de5f2a42fe4b</td>\n",
       "      <td>2017-11-11</td>\n",
       "      <td>Mountain</td>\n",
       "      <td>Province 1</td>\n",
       "      <td>Eastern</td>\n",
       "      <td>Mechi</td>\n",
       "      <td>VDC</td>\n",
       "      <td>Khewang</td>\n",
       "      <td>Taplejung</td>\n",
       "      <td>...</td>\n",
       "      <td>No</td>\n",
       "      <td>No</td>\n",
       "      <td>No</td>\n",
       "      <td>No</td>\n",
       "      <td>No</td>\n",
       "      <td>8.0</td>\n",
       "      <td>NaN</td>\n",
       "      <td>Flat</td>\n",
       "      <td>5.0</td>\n",
       "      <td>2.0</td>\n",
       "    </tr>\n",
       "  </tbody>\n",
       "</table>\n",
       "<p>5 rows × 476 columns</p>\n",
       "</div>"
      ],
      "text/plain": [
       "        HHID                                Id Date_HH_Visit   Eco_Reg  \\\n",
       "0  110148801  2cd3defe83504f3593c43b93509a4c9f    2017-11-11  Mountain   \n",
       "1  110148802  d85646020ba744eb9b1b4bf76ca4e454    2017-11-11  Mountain   \n",
       "2  110148803  d8612908fadc4ba58c01a706a7e5ef64    2017-11-11  Mountain   \n",
       "3  110148804  9157d2376525473f925444bf756cdbe7    2017-11-11  Mountain   \n",
       "4  110148805  b84e1ea7a450429c8a90de5f2a42fe4b    2017-11-11  Mountain   \n",
       "\n",
       "     Province Dev_Region   Zone VDC_MUN VDC_MUN_NAME   District  ...  J3__4  \\\n",
       "0  Province 1    Eastern  Mechi     VDC      Khewang  Taplejung  ...     No   \n",
       "1  Province 1    Eastern  Mechi     VDC      Khewang  Taplejung  ...     No   \n",
       "2  Province 1    Eastern  Mechi     VDC      Khewang  Taplejung  ...     No   \n",
       "3  Province 1    Eastern  Mechi     VDC      Khewang  Taplejung  ...     No   \n",
       "4  Province 1    Eastern  Mechi     VDC      Khewang  Taplejung  ...     No   \n",
       "\n",
       "  J3__5  J3__6 J3__7 J3__8   J40   J41                               J42  J43  \\\n",
       "0    No     No    No    No  15.0  10.0  Gable (triangular cross-section)  8.0   \n",
       "1    No     No    No    No   6.0   9.0                              Flat  5.0   \n",
       "2    No     No    No    No   7.0   NaN                              Flat  6.0   \n",
       "3    No     No    No    No   9.0   6.0                              Flat  5.0   \n",
       "4    No     No    No    No   8.0   NaN                              Flat  5.0   \n",
       "\n",
       "   J44  \n",
       "0  4.0  \n",
       "1  2.0  \n",
       "2  2.0  \n",
       "3  3.0  \n",
       "4  2.0  \n",
       "\n",
       "[5 rows x 476 columns]"
      ]
     },
     "execution_count": 8,
     "metadata": {},
     "output_type": "execute_result"
    }
   ],
   "source": [
    "cooking.head()"
   ]
  },
  {
   "cell_type": "markdown",
   "metadata": {},
   "source": [
    "### Fuels used for cooking\n",
    "\n",
    "In Nepal, households are still heavily reliant on biomass to meet their cooking needs. The share of the\n",
    "total households using a fuel indicates the nationwide dependency on different fuel types. Firewood\n",
    "is the most widely used source of cooking fuel.\n",
    "\n",
    "As seen on the image below, the responses corresponding to this part are in section `I2` and up to 18 possible types were to be multiselected."
   ]
  },
  {
   "cell_type": "code",
   "execution_count": 9,
   "metadata": {
    "ExecuteTime": {
     "end_time": "2021-03-15T14:51:18.896585Z",
     "start_time": "2021-03-15T14:51:18.870331Z"
    }
   },
   "outputs": [
    {
     "data": {
      "image/jpeg": "[encoded data removed]",
      "text/plain": [
       "<IPython.core.display.Image object>"
      ]
     },
     "execution_count": 9,
     "metadata": {},
     "output_type": "execute_result"
    }
   ],
   "source": [
    "Image('references/fuel type.JPG')"
   ]
  },
  {
   "cell_type": "code",
   "execution_count": 10,
   "metadata": {
    "ExecuteTime": {
     "end_time": "2021-03-15T14:51:19.029102Z",
     "start_time": "2021-03-15T14:51:18.904984Z"
    }
   },
   "outputs": [],
   "source": [
    "#Extracting columns related to the fuel type\n",
    "fuel_response_columns = [column for column in I_section if column.startswith('I2')]\n",
    "fuel_type = cooking[fuel_response_columns]"
   ]
  },
  {
   "cell_type": "code",
   "execution_count": 11,
   "metadata": {
    "ExecuteTime": {
     "end_time": "2021-03-15T14:51:19.243711Z",
     "start_time": "2021-03-15T14:51:19.036997Z"
    }
   },
   "outputs": [
    {
     "data": {
      "text/html": [
       "<div>\n",
       "<style scoped>\n",
       "    .dataframe tbody tr th:only-of-type {\n",
       "        vertical-align: middle;\n",
       "    }\n",
       "\n",
       "    .dataframe tbody tr th {\n",
       "        vertical-align: top;\n",
       "    }\n",
       "\n",
       "    .dataframe thead th {\n",
       "        text-align: right;\n",
       "    }\n",
       "</style>\n",
       "<table border=\"1\" class=\"dataframe\">\n",
       "  <thead>\n",
       "    <tr style=\"text-align: right;\">\n",
       "      <th></th>\n",
       "      <th>I2__1</th>\n",
       "      <th>I2__10</th>\n",
       "      <th>I2__11</th>\n",
       "      <th>I2__13</th>\n",
       "      <th>I2__14</th>\n",
       "      <th>I2__15</th>\n",
       "      <th>I2__16</th>\n",
       "      <th>I2__18</th>\n",
       "      <th>I2__2</th>\n",
       "      <th>I2__4</th>\n",
       "      <th>I2__5</th>\n",
       "      <th>I2__6</th>\n",
       "      <th>I2__9</th>\n",
       "    </tr>\n",
       "  </thead>\n",
       "  <tbody>\n",
       "    <tr>\n",
       "      <th>0</th>\n",
       "      <td>No</td>\n",
       "      <td>No</td>\n",
       "      <td>No</td>\n",
       "      <td>No</td>\n",
       "      <td>No</td>\n",
       "      <td>No</td>\n",
       "      <td>No</td>\n",
       "      <td>No</td>\n",
       "      <td>Yes</td>\n",
       "      <td>No</td>\n",
       "      <td>No</td>\n",
       "      <td>No</td>\n",
       "      <td>No</td>\n",
       "    </tr>\n",
       "    <tr>\n",
       "      <th>1</th>\n",
       "      <td>No</td>\n",
       "      <td>No</td>\n",
       "      <td>No</td>\n",
       "      <td>No</td>\n",
       "      <td>No</td>\n",
       "      <td>No</td>\n",
       "      <td>No</td>\n",
       "      <td>No</td>\n",
       "      <td>Yes</td>\n",
       "      <td>No</td>\n",
       "      <td>No</td>\n",
       "      <td>No</td>\n",
       "      <td>No</td>\n",
       "    </tr>\n",
       "    <tr>\n",
       "      <th>2</th>\n",
       "      <td>No</td>\n",
       "      <td>No</td>\n",
       "      <td>No</td>\n",
       "      <td>No</td>\n",
       "      <td>No</td>\n",
       "      <td>No</td>\n",
       "      <td>No</td>\n",
       "      <td>No</td>\n",
       "      <td>Yes</td>\n",
       "      <td>No</td>\n",
       "      <td>No</td>\n",
       "      <td>No</td>\n",
       "      <td>No</td>\n",
       "    </tr>\n",
       "    <tr>\n",
       "      <th>3</th>\n",
       "      <td>No</td>\n",
       "      <td>No</td>\n",
       "      <td>No</td>\n",
       "      <td>No</td>\n",
       "      <td>No</td>\n",
       "      <td>No</td>\n",
       "      <td>No</td>\n",
       "      <td>No</td>\n",
       "      <td>Yes</td>\n",
       "      <td>No</td>\n",
       "      <td>No</td>\n",
       "      <td>No</td>\n",
       "      <td>No</td>\n",
       "    </tr>\n",
       "    <tr>\n",
       "      <th>4</th>\n",
       "      <td>No</td>\n",
       "      <td>No</td>\n",
       "      <td>No</td>\n",
       "      <td>No</td>\n",
       "      <td>No</td>\n",
       "      <td>No</td>\n",
       "      <td>No</td>\n",
       "      <td>No</td>\n",
       "      <td>Yes</td>\n",
       "      <td>No</td>\n",
       "      <td>No</td>\n",
       "      <td>No</td>\n",
       "      <td>No</td>\n",
       "    </tr>\n",
       "  </tbody>\n",
       "</table>\n",
       "</div>"
      ],
      "text/plain": [
       "  I2__1 I2__10 I2__11 I2__13 I2__14 I2__15 I2__16 I2__18 I2__2 I2__4 I2__5  \\\n",
       "0    No     No     No     No     No     No     No     No   Yes    No    No   \n",
       "1    No     No     No     No     No     No     No     No   Yes    No    No   \n",
       "2    No     No     No     No     No     No     No     No   Yes    No    No   \n",
       "3    No     No     No     No     No     No     No     No   Yes    No    No   \n",
       "4    No     No     No     No     No     No     No     No   Yes    No    No   \n",
       "\n",
       "  I2__6 I2__9  \n",
       "0    No    No  \n",
       "1    No    No  \n",
       "2    No    No  \n",
       "3    No    No  \n",
       "4    No    No  "
      ]
     },
     "execution_count": 11,
     "metadata": {},
     "output_type": "execute_result"
    }
   ],
   "source": [
    "fuel_type.head()"
   ]
  },
  {
   "cell_type": "code",
   "execution_count": null,
   "metadata": {
    "ExecuteTime": {
     "end_time": "2021-03-15T11:17:25.328505Z",
     "start_time": "2021-03-15T11:17:25.279110Z"
    }
   },
   "outputs": [],
   "source": []
  },
  {
   "cell_type": "code",
   "execution_count": 12,
   "metadata": {
    "ExecuteTime": {
     "end_time": "2021-03-15T14:51:19.495123Z",
     "start_time": "2021-03-15T14:51:19.250280Z"
    }
   },
   "outputs": [],
   "source": [
    "#Replacing the columns' name with corresponding fuel type in questionaire dictionary\n",
    "columns_mapping = {'I2__1':'LPG/Cooking gas', 'I2__10':'Crop Residue/Plant Biomas', 'I2__11':'Sawdust',\n",
    "                   'I2__13':'Biomas Briquette', 'I2__14':'Electric', 'I2__15':'Pellets/Processes biomass/wood chips',\n",
    "                   'I2__16':'Biogas', 'I2__18':'Garbage', 'I2__2':'Wood', 'I2__4':'Charcoal', 'I2__5':'Solar',\n",
    "                   'I2__6':'Kerosene', 'I2__9':'Animal waste/Dung'}\n",
    "fuel_type = fuel_type.rename(columns = columns_mapping)\n",
    "\n",
    "#Replacing the answer No with False and Yes with True to easy the calculations\n",
    "response_mapping = {'No':False, 'Yes':True}\n",
    "fuel_type = fuel_type.replace(response_mapping)"
   ]
  },
  {
   "cell_type": "code",
   "execution_count": 13,
   "metadata": {
    "ExecuteTime": {
     "end_time": "2021-03-15T14:51:19.722231Z",
     "start_time": "2021-03-15T14:51:19.499785Z"
    }
   },
   "outputs": [
    {
     "data": {
      "text/html": [
       "<div>\n",
       "<style scoped>\n",
       "    .dataframe tbody tr th:only-of-type {\n",
       "        vertical-align: middle;\n",
       "    }\n",
       "\n",
       "    .dataframe tbody tr th {\n",
       "        vertical-align: top;\n",
       "    }\n",
       "\n",
       "    .dataframe thead th {\n",
       "        text-align: right;\n",
       "    }\n",
       "</style>\n",
       "<table border=\"1\" class=\"dataframe\">\n",
       "  <thead>\n",
       "    <tr style=\"text-align: right;\">\n",
       "      <th></th>\n",
       "      <th>LPG/Cooking gas</th>\n",
       "      <th>Crop Residue/Plant Biomas</th>\n",
       "      <th>Sawdust</th>\n",
       "      <th>Biomas Briquette</th>\n",
       "      <th>Electric</th>\n",
       "      <th>Pellets/Processes biomass/wood chips</th>\n",
       "      <th>Biogas</th>\n",
       "      <th>Garbage</th>\n",
       "      <th>Wood</th>\n",
       "      <th>Charcoal</th>\n",
       "      <th>Solar</th>\n",
       "      <th>Kerosene</th>\n",
       "      <th>Animal waste/Dung</th>\n",
       "    </tr>\n",
       "  </thead>\n",
       "  <tbody>\n",
       "    <tr>\n",
       "      <th>0</th>\n",
       "      <td>False</td>\n",
       "      <td>False</td>\n",
       "      <td>False</td>\n",
       "      <td>False</td>\n",
       "      <td>False</td>\n",
       "      <td>False</td>\n",
       "      <td>False</td>\n",
       "      <td>False</td>\n",
       "      <td>True</td>\n",
       "      <td>False</td>\n",
       "      <td>False</td>\n",
       "      <td>False</td>\n",
       "      <td>False</td>\n",
       "    </tr>\n",
       "    <tr>\n",
       "      <th>1</th>\n",
       "      <td>False</td>\n",
       "      <td>False</td>\n",
       "      <td>False</td>\n",
       "      <td>False</td>\n",
       "      <td>False</td>\n",
       "      <td>False</td>\n",
       "      <td>False</td>\n",
       "      <td>False</td>\n",
       "      <td>True</td>\n",
       "      <td>False</td>\n",
       "      <td>False</td>\n",
       "      <td>False</td>\n",
       "      <td>False</td>\n",
       "    </tr>\n",
       "    <tr>\n",
       "      <th>2</th>\n",
       "      <td>False</td>\n",
       "      <td>False</td>\n",
       "      <td>False</td>\n",
       "      <td>False</td>\n",
       "      <td>False</td>\n",
       "      <td>False</td>\n",
       "      <td>False</td>\n",
       "      <td>False</td>\n",
       "      <td>True</td>\n",
       "      <td>False</td>\n",
       "      <td>False</td>\n",
       "      <td>False</td>\n",
       "      <td>False</td>\n",
       "    </tr>\n",
       "    <tr>\n",
       "      <th>3</th>\n",
       "      <td>False</td>\n",
       "      <td>False</td>\n",
       "      <td>False</td>\n",
       "      <td>False</td>\n",
       "      <td>False</td>\n",
       "      <td>False</td>\n",
       "      <td>False</td>\n",
       "      <td>False</td>\n",
       "      <td>True</td>\n",
       "      <td>False</td>\n",
       "      <td>False</td>\n",
       "      <td>False</td>\n",
       "      <td>False</td>\n",
       "    </tr>\n",
       "    <tr>\n",
       "      <th>4</th>\n",
       "      <td>False</td>\n",
       "      <td>False</td>\n",
       "      <td>False</td>\n",
       "      <td>False</td>\n",
       "      <td>False</td>\n",
       "      <td>False</td>\n",
       "      <td>False</td>\n",
       "      <td>False</td>\n",
       "      <td>True</td>\n",
       "      <td>False</td>\n",
       "      <td>False</td>\n",
       "      <td>False</td>\n",
       "      <td>False</td>\n",
       "    </tr>\n",
       "  </tbody>\n",
       "</table>\n",
       "</div>"
      ],
      "text/plain": [
       "   LPG/Cooking gas  Crop Residue/Plant Biomas  Sawdust  Biomas Briquette  \\\n",
       "0            False                      False    False             False   \n",
       "1            False                      False    False             False   \n",
       "2            False                      False    False             False   \n",
       "3            False                      False    False             False   \n",
       "4            False                      False    False             False   \n",
       "\n",
       "   Electric  Pellets/Processes biomass/wood chips  Biogas  Garbage  Wood  \\\n",
       "0     False                                 False   False    False  True   \n",
       "1     False                                 False   False    False  True   \n",
       "2     False                                 False   False    False  True   \n",
       "3     False                                 False   False    False  True   \n",
       "4     False                                 False   False    False  True   \n",
       "\n",
       "   Charcoal  Solar  Kerosene  Animal waste/Dung  \n",
       "0     False  False     False              False  \n",
       "1     False  False     False              False  \n",
       "2     False  False     False              False  \n",
       "3     False  False     False              False  \n",
       "4     False  False     False              False  "
      ]
     },
     "execution_count": 13,
     "metadata": {},
     "output_type": "execute_result"
    }
   ],
   "source": [
    "fuel_type.head()"
   ]
  },
  {
   "cell_type": "code",
   "execution_count": 14,
   "metadata": {
    "ExecuteTime": {
     "end_time": "2021-03-15T14:51:19.880897Z",
     "start_time": "2021-03-15T14:51:19.731120Z"
    }
   },
   "outputs": [],
   "source": [
    "#Calculating the percentage contribution and considering only the fuel type reported in the report\n",
    "fuel_type_df = (fuel_type.sum()*100/6000).to_frame().reset_index().rename(columns = {'index':'Fuel Type', 0:'% Population'})"
   ]
  },
  {
   "cell_type": "code",
   "execution_count": 15,
   "metadata": {
    "ExecuteTime": {
     "end_time": "2021-03-15T14:51:20.026672Z",
     "start_time": "2021-03-15T14:51:19.886934Z"
    }
   },
   "outputs": [],
   "source": [
    "types_mapping = {'Electric':'Electric/Solar', 'Solar':'Electric/Solar', 'Animal waste/Dung':'Dung',\n",
    "                'Crop Residue/Plant Biomas':'Crop residue', 'Pellets/Processes biomass/wood chips':'Processed biomas'}\n",
    "fuel_type_df['Fuel Type'] = fuel_type_df['Fuel Type'].replace(types_mapping)"
   ]
  },
  {
   "cell_type": "code",
   "execution_count": 16,
   "metadata": {
    "ExecuteTime": {
     "end_time": "2021-03-15T14:51:20.173296Z",
     "start_time": "2021-03-15T14:51:20.033456Z"
    }
   },
   "outputs": [],
   "source": [
    "fuel_type_df = fuel_type_df.groupby(['Fuel Type']).sum().reset_index()"
   ]
  },
  {
   "cell_type": "code",
   "execution_count": 17,
   "metadata": {
    "ExecuteTime": {
     "end_time": "2021-03-15T14:51:20.380928Z",
     "start_time": "2021-03-15T14:51:20.181696Z"
    }
   },
   "outputs": [],
   "source": [
    "fuel_type_df = fuel_type_df[~fuel_type_df['Fuel Type'].isin(['Biomas Briquette','Kerosene','Garbage'])]"
   ]
  },
  {
   "cell_type": "code",
   "execution_count": 18,
   "metadata": {
    "ExecuteTime": {
     "end_time": "2021-03-15T14:51:20.630964Z",
     "start_time": "2021-03-15T14:51:20.389869Z"
    }
   },
   "outputs": [],
   "source": [
    "fuel_type_df['% Population'] = fuel_type_df['% Population'].apply(lambda x: round(x,1))"
   ]
  },
  {
   "cell_type": "code",
   "execution_count": 19,
   "metadata": {
    "ExecuteTime": {
     "end_time": "2021-03-15T14:51:20.813780Z",
     "start_time": "2021-03-15T14:51:20.634409Z"
    }
   },
   "outputs": [
    {
     "data": {
      "text/html": [
       "<div>\n",
       "<style scoped>\n",
       "    .dataframe tbody tr th:only-of-type {\n",
       "        vertical-align: middle;\n",
       "    }\n",
       "\n",
       "    .dataframe tbody tr th {\n",
       "        vertical-align: top;\n",
       "    }\n",
       "\n",
       "    .dataframe thead th {\n",
       "        text-align: right;\n",
       "    }\n",
       "</style>\n",
       "<table border=\"1\" class=\"dataframe\">\n",
       "  <thead>\n",
       "    <tr style=\"text-align: right;\">\n",
       "      <th></th>\n",
       "      <th>Fuel Type</th>\n",
       "      <th>% Population</th>\n",
       "    </tr>\n",
       "  </thead>\n",
       "  <tbody>\n",
       "    <tr>\n",
       "      <th>0</th>\n",
       "      <td>Biogas</td>\n",
       "      <td>1.9</td>\n",
       "    </tr>\n",
       "    <tr>\n",
       "      <th>2</th>\n",
       "      <td>Charcoal</td>\n",
       "      <td>0.2</td>\n",
       "    </tr>\n",
       "    <tr>\n",
       "      <th>3</th>\n",
       "      <td>Crop residue</td>\n",
       "      <td>1.2</td>\n",
       "    </tr>\n",
       "    <tr>\n",
       "      <th>4</th>\n",
       "      <td>Dung</td>\n",
       "      <td>3.3</td>\n",
       "    </tr>\n",
       "    <tr>\n",
       "      <th>5</th>\n",
       "      <td>Electric/Solar</td>\n",
       "      <td>0.5</td>\n",
       "    </tr>\n",
       "    <tr>\n",
       "      <th>8</th>\n",
       "      <td>LPG/Cooking gas</td>\n",
       "      <td>39.3</td>\n",
       "    </tr>\n",
       "    <tr>\n",
       "      <th>9</th>\n",
       "      <td>Processed biomas</td>\n",
       "      <td>0.1</td>\n",
       "    </tr>\n",
       "    <tr>\n",
       "      <th>10</th>\n",
       "      <td>Sawdust</td>\n",
       "      <td>0.2</td>\n",
       "    </tr>\n",
       "    <tr>\n",
       "      <th>11</th>\n",
       "      <td>Wood</td>\n",
       "      <td>68.5</td>\n",
       "    </tr>\n",
       "  </tbody>\n",
       "</table>\n",
       "</div>"
      ],
      "text/plain": [
       "           Fuel Type  % Population\n",
       "0             Biogas           1.9\n",
       "2           Charcoal           0.2\n",
       "3       Crop residue           1.2\n",
       "4               Dung           3.3\n",
       "5     Electric/Solar           0.5\n",
       "8    LPG/Cooking gas          39.3\n",
       "9   Processed biomas           0.1\n",
       "10           Sawdust           0.2\n",
       "11              Wood          68.5"
      ]
     },
     "execution_count": 19,
     "metadata": {},
     "output_type": "execute_result"
    }
   ],
   "source": [
    "fuel_type_df"
   ]
  },
  {
   "cell_type": "code",
   "execution_count": 20,
   "metadata": {
    "ExecuteTime": {
     "end_time": "2021-03-15T14:51:21.770068Z",
     "start_time": "2021-03-15T14:51:20.820664Z"
    }
   },
   "outputs": [
    {
     "data": {
      "image/png": "[encoded data removed]",
      "text/plain": [
       "<Figure size 1440x720 with 1 Axes>"
      ]
     },
     "metadata": {},
     "output_type": "display_data"
    }
   ],
   "source": [
    "#Ploting the result\n",
    "plt.figure(figsize = (20,10))\n",
    "plt.bar(fuel_type_df['Fuel Type'], fuel_type_df['% Population']);\n",
    "plt.axhline(0, color = 'black')\n",
    "plt.title('Fuel used for cooking (Nationwide)')\n",
    "plt.ylabel('% Population')\n",
    "plt.xlabel('Fuel Type')\n",
    "for i,pop in enumerate(fuel_type_df['% Population']):\n",
    "    plt.text(i-0.1,pop+1, f'{pop}%')"
   ]
  },
  {
   "cell_type": "markdown",
   "metadata": {},
   "source": [
    "> The numbers from this analysis are small compared to what is in the report!"
   ]
  },
  {
   "cell_type": "code",
   "execution_count": 21,
   "metadata": {
    "ExecuteTime": {
     "end_time": "2021-03-15T14:51:21.786628Z",
     "start_time": "2021-03-15T14:51:21.773077Z"
    }
   },
   "outputs": [
    {
     "data": {
      "image/jpeg": "[encoded data removed]",
      "text/plain": [
       "<IPython.core.display.Image object>"
      ]
     },
     "execution_count": 21,
     "metadata": {},
     "output_type": "execute_result"
    }
   ],
   "source": [
    "Image('references/Fuel penetration rate nationwide.JPG')"
   ]
  },
  {
   "cell_type": "markdown",
   "metadata": {
    "ExecuteTime": {
     "end_time": "2021-03-15T15:01:38.330008Z",
     "start_time": "2021-03-15T15:01:38.318646Z"
    }
   },
   "source": [
    "### Time needed for cooking\n",
    "\n",
    "Question: *How much time do household members spend preparing the cookstove and fuel for each meal on average [including\n",
    "setting up the fuel and turning on the stove but not including gathering fuel or cooking time]?*"
   ]
  }
 ],
 "metadata": {
  "kernelspec": {
   "display_name": "Python 3",
   "language": "python",
   "name": "python3"
  },
  "language_info": {
   "codemirror_mode": {
    "name": "ipython",
    "version": 3
   },
   "file_extension": ".py",
   "mimetype": "text/x-python",
   "name": "python",
   "nbconvert_exporter": "python",
   "pygments_lexer": "ipython3",
   "version": "3.8.5"
  },
  "toc": {
   "base_numbering": 1,
   "nav_menu": {},
   "number_sections": true,
   "sideBar": true,
   "skip_h1_title": false,
   "title_cell": "Table of Contents",
   "title_sidebar": "Contents",
   "toc_cell": false,
   "toc_position": {},
   "toc_section_display": true,
   "toc_window_display": false
  },
  "varInspector": {
   "cols": {
    "lenName": 16,
    "lenType": 16,
    "lenVar": 40
   },
   "kernels_config": {
    "python": {
     "delete_cmd_postfix": "",
     "delete_cmd_prefix": "del ",
     "library": "var_list.py",
     "varRefreshCmd": "print(var_dic_list())"
    },
    "r": {
     "delete_cmd_postfix": ") ",
     "delete_cmd_prefix": "rm(",
     "library": "var_list.r",
     "varRefreshCmd": "cat(var_dic_list()) "
    }
   },
   "types_to_exclude": [
    "module",
    "function",
    "builtin_function_or_method",
    "instance",
    "_Feature"
   ],
   "window_display": false
  }
 },
 "nbformat": 4,
 "nbformat_minor": 4
}
