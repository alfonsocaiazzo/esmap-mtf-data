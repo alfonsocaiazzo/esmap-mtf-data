{
 "cells": [
  {
   "cell_type": "markdown",
   "metadata": {},
   "source": [
    "# The Multi Tier Framework for measuring energy access in Nepal\n",
    "\n",
    "\n",
    "\n",
    "\n",
    "As reported by [The MTF survey data ](https://mtfenergyaccess.esmap.org/country/nepal) in 2017, Nepal shows that 71.7% of households have grid access, while 23% have access through off-grid solutions.  Using the MTF definition of access, 93.7% of households nationwide are in Tier 1 or above for access to electricity.\n",
    "\n",
    "To learn more about energy access in Nepal, download MTF’s Country Diagnostic Report,[here](esmap-mtf-data/Nepal/references/mtf-energy-access-country-diagnostic-report_nepal-9.2019.pdf)"
   ]
  },
  {
   "cell_type": "markdown",
   "metadata": {},
   "source": [
    "## The structure of the database\n",
    "\n",
    "- Section A: Household Roster\n",
    "- Section B: Household Characteristics\n",
    "- Section C: Supply and Demand of Electricity \n",
    "- Section D: Willingness to pay for a grid connection\n",
    "- Section E: Willingness to pay for improved electricity supply\n",
    "- Section F: Willingness to pay for solar device\n",
    "- Section J: Use of cooking Solutions\n",
    "- Section K: Space and Water heating \n",
    "- Section L: Willingness to pay for an improved cookstove\n",
    "- Section M: Consumption / Expenditure\n",
    "- Section N: Households Assets : Transport and Agriculture Equipment Ownership and Total\n",
    "- Section O: Household land ownership and other assets\n",
    "- Section P: Household economiv shocks\n",
    "- Section Q: Street Ligthing\n",
    "- Section R: Time use\n",
    "- Section S: Health impacts\n",
    "- Section T: Attitudes\n",
    "- Section U: Women's empowerment \n"
   ]
  },
  {
   "cell_type": "markdown",
   "metadata": {},
   "source": [
    "### Analysis\n",
    "\n",
    "Section C contains the informations related to Supply and Demand electricity. "
   ]
  },
  {
   "cell_type": "code",
   "execution_count": 2,
   "metadata": {
    "ExecuteTime": {
     "end_time": "2021-04-01T10:57:13.031044Z",
     "start_time": "2021-04-01T10:57:13.025028Z"
    }
   },
   "outputs": [],
   "source": [
    "# Importing necessary libraries \n",
    "import pandas as pd \n",
    "import numpy as np\n",
    "import matplotlib.pyplot as plt\n",
    "plt.style.use('fivethirtyeight')\n",
    "from IPython.display import Image\n",
    "import itertools\n",
    "%matplotlib inline\n",
    "import warnings\n",
    "warnings.filterwarnings('ignore')"
   ]
  },
  {
   "cell_type": "code",
   "execution_count": 3,
   "metadata": {
    "ExecuteTime": {
     "end_time": "2021-04-01T10:57:49.272872Z",
     "start_time": "2021-04-01T10:57:19.877079Z"
    }
   },
   "outputs": [],
   "source": [
    "# Loading main dataset into python\n",
    "#main_dataset = pd.read_stata(\"raw_data/dta/maindataset.dta\")\n",
    "\n",
    "main_dataset = pd.read_csv(\"raw_data/csv/main.csv\")\n",
    "main_dataset.drop('Unnamed: 0', axis = 1, inplace = True)\n",
    "#main_dataset\n",
    "\n",
    "# This may not be needed, but decideced to read it\n",
    "codebook = pd.read_excel('references/codebook.xlsx')\n"
   ]
  },
  {
   "cell_type": "code",
   "execution_count": 4,
   "metadata": {
    "ExecuteTime": {
     "end_time": "2021-04-01T10:57:50.086777Z",
     "start_time": "2021-04-01T10:57:49.452090Z"
    }
   },
   "outputs": [
    {
     "data": {
      "text/html": [
       "<div>\n",
       "<style scoped>\n",
       "    .dataframe tbody tr th:only-of-type {\n",
       "        vertical-align: middle;\n",
       "    }\n",
       "\n",
       "    .dataframe tbody tr th {\n",
       "        vertical-align: top;\n",
       "    }\n",
       "\n",
       "    .dataframe thead th {\n",
       "        text-align: right;\n",
       "    }\n",
       "</style>\n",
       "<table border=\"1\" class=\"dataframe\">\n",
       "  <thead>\n",
       "    <tr style=\"text-align: right;\">\n",
       "      <th></th>\n",
       "      <th>HHID</th>\n",
       "      <th>Id</th>\n",
       "      <th>Date_HH_Visit</th>\n",
       "      <th>Eco_Reg</th>\n",
       "      <th>Province</th>\n",
       "      <th>Dev_Region</th>\n",
       "      <th>Zone</th>\n",
       "      <th>VDC_MUN</th>\n",
       "      <th>VDC_MUN_NAME</th>\n",
       "      <th>District</th>\n",
       "      <th>...</th>\n",
       "      <th>M32</th>\n",
       "      <th>M33</th>\n",
       "      <th>O1</th>\n",
       "      <th>O2</th>\n",
       "      <th>O2_SO</th>\n",
       "      <th>O2_SO_Recode</th>\n",
       "      <th>O3</th>\n",
       "      <th>O3_con</th>\n",
       "      <th>O4</th>\n",
       "      <th>TIME_END_VISIT1</th>\n",
       "    </tr>\n",
       "  </thead>\n",
       "  <tbody>\n",
       "    <tr>\n",
       "      <th>0</th>\n",
       "      <td>110148801</td>\n",
       "      <td>2cd3defe83504f3593c43b93509a4c9f</td>\n",
       "      <td>2017-11-11</td>\n",
       "      <td>1</td>\n",
       "      <td>1</td>\n",
       "      <td>1</td>\n",
       "      <td>1</td>\n",
       "      <td>1</td>\n",
       "      <td>Khewang</td>\n",
       "      <td>1</td>\n",
       "      <td>...</td>\n",
       "      <td>8000.0</td>\n",
       "      <td>5000.0</td>\n",
       "      <td>1</td>\n",
       "      <td>1.0</td>\n",
       "      <td>NaN</td>\n",
       "      <td>NaN</td>\n",
       "      <td>8.0</td>\n",
       "      <td>0.406990</td>\n",
       "      <td>1200000.0</td>\n",
       "      <td>2017-11-11T02:49:33Z</td>\n",
       "    </tr>\n",
       "    <tr>\n",
       "      <th>1</th>\n",
       "      <td>110148802</td>\n",
       "      <td>d85646020ba744eb9b1b4bf76ca4e454</td>\n",
       "      <td>2017-11-11</td>\n",
       "      <td>1</td>\n",
       "      <td>1</td>\n",
       "      <td>1</td>\n",
       "      <td>1</td>\n",
       "      <td>1</td>\n",
       "      <td>Khewang</td>\n",
       "      <td>1</td>\n",
       "      <td>...</td>\n",
       "      <td>0.0</td>\n",
       "      <td>0.0</td>\n",
       "      <td>1</td>\n",
       "      <td>1.0</td>\n",
       "      <td>NaN</td>\n",
       "      <td>NaN</td>\n",
       "      <td>15.0</td>\n",
       "      <td>0.763106</td>\n",
       "      <td>2000000.0</td>\n",
       "      <td>2017-11-11T04:04:27Z</td>\n",
       "    </tr>\n",
       "    <tr>\n",
       "      <th>2</th>\n",
       "      <td>110148803</td>\n",
       "      <td>d8612908fadc4ba58c01a706a7e5ef64</td>\n",
       "      <td>2017-11-11</td>\n",
       "      <td>1</td>\n",
       "      <td>1</td>\n",
       "      <td>1</td>\n",
       "      <td>1</td>\n",
       "      <td>1</td>\n",
       "      <td>Khewang</td>\n",
       "      <td>1</td>\n",
       "      <td>...</td>\n",
       "      <td>15000.0</td>\n",
       "      <td>10000.0</td>\n",
       "      <td>1</td>\n",
       "      <td>1.0</td>\n",
       "      <td>NaN</td>\n",
       "      <td>NaN</td>\n",
       "      <td>9.0</td>\n",
       "      <td>0.457863</td>\n",
       "      <td>1350000.0</td>\n",
       "      <td>2017-11-11T04:47:09Z</td>\n",
       "    </tr>\n",
       "    <tr>\n",
       "      <th>3</th>\n",
       "      <td>110148804</td>\n",
       "      <td>9157d2376525473f925444bf756cdbe7</td>\n",
       "      <td>2017-11-11</td>\n",
       "      <td>1</td>\n",
       "      <td>1</td>\n",
       "      <td>1</td>\n",
       "      <td>1</td>\n",
       "      <td>1</td>\n",
       "      <td>Khewang</td>\n",
       "      <td>1</td>\n",
       "      <td>...</td>\n",
       "      <td>0.0</td>\n",
       "      <td>0.0</td>\n",
       "      <td>1</td>\n",
       "      <td>1.0</td>\n",
       "      <td>NaN</td>\n",
       "      <td>NaN</td>\n",
       "      <td>8.0</td>\n",
       "      <td>0.406990</td>\n",
       "      <td>1000000.0</td>\n",
       "      <td>2017-11-11T05:41:59Z</td>\n",
       "    </tr>\n",
       "    <tr>\n",
       "      <th>4</th>\n",
       "      <td>110148805</td>\n",
       "      <td>b84e1ea7a450429c8a90de5f2a42fe4b</td>\n",
       "      <td>2017-11-11</td>\n",
       "      <td>1</td>\n",
       "      <td>1</td>\n",
       "      <td>1</td>\n",
       "      <td>1</td>\n",
       "      <td>1</td>\n",
       "      <td>Khewang</td>\n",
       "      <td>1</td>\n",
       "      <td>...</td>\n",
       "      <td>0.0</td>\n",
       "      <td>0.0</td>\n",
       "      <td>1</td>\n",
       "      <td>1.0</td>\n",
       "      <td>NaN</td>\n",
       "      <td>NaN</td>\n",
       "      <td>5.0</td>\n",
       "      <td>0.254369</td>\n",
       "      <td>600000.0</td>\n",
       "      <td>2017-11-11T07:00:32Z</td>\n",
       "    </tr>\n",
       "  </tbody>\n",
       "</table>\n",
       "<p>5 rows × 1247 columns</p>\n",
       "</div>"
      ],
      "text/plain": [
       "        HHID                                Id Date_HH_Visit  Eco_Reg  \\\n",
       "0  110148801  2cd3defe83504f3593c43b93509a4c9f    2017-11-11        1   \n",
       "1  110148802  d85646020ba744eb9b1b4bf76ca4e454    2017-11-11        1   \n",
       "2  110148803  d8612908fadc4ba58c01a706a7e5ef64    2017-11-11        1   \n",
       "3  110148804  9157d2376525473f925444bf756cdbe7    2017-11-11        1   \n",
       "4  110148805  b84e1ea7a450429c8a90de5f2a42fe4b    2017-11-11        1   \n",
       "\n",
       "   Province  Dev_Region  Zone  VDC_MUN VDC_MUN_NAME  District  ...      M32  \\\n",
       "0         1           1     1        1      Khewang         1  ...   8000.0   \n",
       "1         1           1     1        1      Khewang         1  ...      0.0   \n",
       "2         1           1     1        1      Khewang         1  ...  15000.0   \n",
       "3         1           1     1        1      Khewang         1  ...      0.0   \n",
       "4         1           1     1        1      Khewang         1  ...      0.0   \n",
       "\n",
       "       M33  O1   O2  O2_SO  O2_SO_Recode    O3    O3_con         O4  \\\n",
       "0   5000.0   1  1.0    NaN           NaN   8.0  0.406990  1200000.0   \n",
       "1      0.0   1  1.0    NaN           NaN  15.0  0.763106  2000000.0   \n",
       "2  10000.0   1  1.0    NaN           NaN   9.0  0.457863  1350000.0   \n",
       "3      0.0   1  1.0    NaN           NaN   8.0  0.406990  1000000.0   \n",
       "4      0.0   1  1.0    NaN           NaN   5.0  0.254369   600000.0   \n",
       "\n",
       "        TIME_END_VISIT1  \n",
       "0  2017-11-11T02:49:33Z  \n",
       "1  2017-11-11T04:04:27Z  \n",
       "2  2017-11-11T04:47:09Z  \n",
       "3  2017-11-11T05:41:59Z  \n",
       "4  2017-11-11T07:00:32Z  \n",
       "\n",
       "[5 rows x 1247 columns]"
      ]
     },
     "execution_count": 4,
     "metadata": {},
     "output_type": "execute_result"
    }
   ],
   "source": [
    "main_dataset.head()\n"
   ]
  },
  {
   "cell_type": "code",
   "execution_count": 5,
   "metadata": {
    "ExecuteTime": {
     "end_time": "2021-04-01T10:57:50.547687Z",
     "start_time": "2021-04-01T10:57:50.165488Z"
    }
   },
   "outputs": [
    {
     "name": "stdout",
     "output_type": "stream",
     "text": [
      "(6000, 1247)\n",
      "Index(['HHID', 'Id', 'Date_HH_Visit', 'Eco_Reg', 'Province', 'Dev_Region',\n",
      "       'Zone', 'VDC_MUN', 'VDC_MUN_NAME', 'District',\n",
      "       ...\n",
      "       'M32', 'M33', 'O1', 'O2', 'O2_SO', 'O2_SO_Recode', 'O3', 'O3_con', 'O4',\n",
      "       'TIME_END_VISIT1'],\n",
      "      dtype='object', length=1247)\n"
     ]
    }
   ],
   "source": [
    "# Exploring the shape of the dataset\n",
    "print(main_dataset.shape)\n",
    "print(main_dataset.columns)\n",
    "\n",
    "column_names = main_dataset.columns\n",
    "household_info_columns = column_names[:19]\n",
    "# electricity_df[household_info_columns].head()"
   ]
  },
  {
   "cell_type": "code",
   "execution_count": null,
   "metadata": {},
   "outputs": [],
   "source": [
    "\n",
    "\n"
   ]
  },
  {
   "cell_type": "markdown",
   "metadata": {},
   "source": [
    "## section c creation from the main dataset\n",
    "The section c relates to electricity access in Nepal"
   ]
  },
  {
   "cell_type": "code",
   "execution_count": 6,
   "metadata": {
    "ExecuteTime": {
     "end_time": "2021-04-01T10:57:51.466000Z",
     "start_time": "2021-04-01T10:57:50.639400Z"
    }
   },
   "outputs": [
    {
     "data": {
      "text/html": [
       "<div>\n",
       "<style scoped>\n",
       "    .dataframe tbody tr th:only-of-type {\n",
       "        vertical-align: middle;\n",
       "    }\n",
       "\n",
       "    .dataframe tbody tr th {\n",
       "        vertical-align: top;\n",
       "    }\n",
       "\n",
       "    .dataframe thead th {\n",
       "        text-align: right;\n",
       "    }\n",
       "</style>\n",
       "<table border=\"1\" class=\"dataframe\">\n",
       "  <thead>\n",
       "    <tr style=\"text-align: right;\">\n",
       "      <th></th>\n",
       "      <th>HHID</th>\n",
       "      <th>Id</th>\n",
       "      <th>Date_HH_Visit</th>\n",
       "      <th>Eco_Reg</th>\n",
       "      <th>Province</th>\n",
       "      <th>Dev_Region</th>\n",
       "      <th>Zone</th>\n",
       "      <th>VDC_MUN</th>\n",
       "      <th>VDC_MUN_NAME</th>\n",
       "      <th>District</th>\n",
       "      <th>...</th>\n",
       "      <th>C97</th>\n",
       "      <th>C98</th>\n",
       "      <th>C99</th>\n",
       "      <th>C9_A</th>\n",
       "      <th>CF_F</th>\n",
       "      <th>CF_Stove</th>\n",
       "      <th>CONSENT</th>\n",
       "      <th>C_AVAILABLE</th>\n",
       "      <th>C_DATE_TIME</th>\n",
       "      <th>C_WHO</th>\n",
       "    </tr>\n",
       "  </thead>\n",
       "  <tbody>\n",
       "    <tr>\n",
       "      <th>0</th>\n",
       "      <td>110148801</td>\n",
       "      <td>2cd3defe83504f3593c43b93509a4c9f</td>\n",
       "      <td>2017-11-11</td>\n",
       "      <td>1</td>\n",
       "      <td>1</td>\n",
       "      <td>1</td>\n",
       "      <td>1</td>\n",
       "      <td>1</td>\n",
       "      <td>Khewang</td>\n",
       "      <td>1</td>\n",
       "      <td>...</td>\n",
       "      <td>NaN</td>\n",
       "      <td>NaN</td>\n",
       "      <td>NaN</td>\n",
       "      <td>NaN</td>\n",
       "      <td>NaN</td>\n",
       "      <td>NaN</td>\n",
       "      <td>1</td>\n",
       "      <td>1</td>\n",
       "      <td>NaN</td>\n",
       "      <td>0</td>\n",
       "    </tr>\n",
       "    <tr>\n",
       "      <th>1</th>\n",
       "      <td>110148802</td>\n",
       "      <td>d85646020ba744eb9b1b4bf76ca4e454</td>\n",
       "      <td>2017-11-11</td>\n",
       "      <td>1</td>\n",
       "      <td>1</td>\n",
       "      <td>1</td>\n",
       "      <td>1</td>\n",
       "      <td>1</td>\n",
       "      <td>Khewang</td>\n",
       "      <td>1</td>\n",
       "      <td>...</td>\n",
       "      <td>NaN</td>\n",
       "      <td>NaN</td>\n",
       "      <td>NaN</td>\n",
       "      <td>NaN</td>\n",
       "      <td>NaN</td>\n",
       "      <td>3000.0</td>\n",
       "      <td>1</td>\n",
       "      <td>1</td>\n",
       "      <td>NaN</td>\n",
       "      <td>0</td>\n",
       "    </tr>\n",
       "    <tr>\n",
       "      <th>2</th>\n",
       "      <td>110148803</td>\n",
       "      <td>d8612908fadc4ba58c01a706a7e5ef64</td>\n",
       "      <td>2017-11-11</td>\n",
       "      <td>1</td>\n",
       "      <td>1</td>\n",
       "      <td>1</td>\n",
       "      <td>1</td>\n",
       "      <td>1</td>\n",
       "      <td>Khewang</td>\n",
       "      <td>1</td>\n",
       "      <td>...</td>\n",
       "      <td>NaN</td>\n",
       "      <td>NaN</td>\n",
       "      <td>NaN</td>\n",
       "      <td>NaN</td>\n",
       "      <td>NaN</td>\n",
       "      <td>1500.0</td>\n",
       "      <td>1</td>\n",
       "      <td>1</td>\n",
       "      <td>NaN</td>\n",
       "      <td>0</td>\n",
       "    </tr>\n",
       "    <tr>\n",
       "      <th>3</th>\n",
       "      <td>110148804</td>\n",
       "      <td>9157d2376525473f925444bf756cdbe7</td>\n",
       "      <td>2017-11-11</td>\n",
       "      <td>1</td>\n",
       "      <td>1</td>\n",
       "      <td>1</td>\n",
       "      <td>1</td>\n",
       "      <td>1</td>\n",
       "      <td>Khewang</td>\n",
       "      <td>1</td>\n",
       "      <td>...</td>\n",
       "      <td>NaN</td>\n",
       "      <td>NaN</td>\n",
       "      <td>NaN</td>\n",
       "      <td>NaN</td>\n",
       "      <td>NaN</td>\n",
       "      <td>5000.0</td>\n",
       "      <td>1</td>\n",
       "      <td>1</td>\n",
       "      <td>NaN</td>\n",
       "      <td>0</td>\n",
       "    </tr>\n",
       "    <tr>\n",
       "      <th>4</th>\n",
       "      <td>110148805</td>\n",
       "      <td>b84e1ea7a450429c8a90de5f2a42fe4b</td>\n",
       "      <td>2017-11-11</td>\n",
       "      <td>1</td>\n",
       "      <td>1</td>\n",
       "      <td>1</td>\n",
       "      <td>1</td>\n",
       "      <td>1</td>\n",
       "      <td>Khewang</td>\n",
       "      <td>1</td>\n",
       "      <td>...</td>\n",
       "      <td>NaN</td>\n",
       "      <td>NaN</td>\n",
       "      <td>NaN</td>\n",
       "      <td>NaN</td>\n",
       "      <td>NaN</td>\n",
       "      <td>1500.0</td>\n",
       "      <td>1</td>\n",
       "      <td>1</td>\n",
       "      <td>NaN</td>\n",
       "      <td>0</td>\n",
       "    </tr>\n",
       "  </tbody>\n",
       "</table>\n",
       "<p>5 rows × 403 columns</p>\n",
       "</div>"
      ],
      "text/plain": [
       "        HHID                                Id Date_HH_Visit  Eco_Reg  \\\n",
       "0  110148801  2cd3defe83504f3593c43b93509a4c9f    2017-11-11        1   \n",
       "1  110148802  d85646020ba744eb9b1b4bf76ca4e454    2017-11-11        1   \n",
       "2  110148803  d8612908fadc4ba58c01a706a7e5ef64    2017-11-11        1   \n",
       "3  110148804  9157d2376525473f925444bf756cdbe7    2017-11-11        1   \n",
       "4  110148805  b84e1ea7a450429c8a90de5f2a42fe4b    2017-11-11        1   \n",
       "\n",
       "   Province  Dev_Region  Zone  VDC_MUN VDC_MUN_NAME  District  ...  C97  C98  \\\n",
       "0         1           1     1        1      Khewang         1  ...  NaN  NaN   \n",
       "1         1           1     1        1      Khewang         1  ...  NaN  NaN   \n",
       "2         1           1     1        1      Khewang         1  ...  NaN  NaN   \n",
       "3         1           1     1        1      Khewang         1  ...  NaN  NaN   \n",
       "4         1           1     1        1      Khewang         1  ...  NaN  NaN   \n",
       "\n",
       "   C99  C9_A  CF_F  CF_Stove CONSENT C_AVAILABLE  C_DATE_TIME  C_WHO  \n",
       "0  NaN   NaN   NaN       NaN       1           1          NaN      0  \n",
       "1  NaN   NaN   NaN    3000.0       1           1          NaN      0  \n",
       "2  NaN   NaN   NaN    1500.0       1           1          NaN      0  \n",
       "3  NaN   NaN   NaN    5000.0       1           1          NaN      0  \n",
       "4  NaN   NaN   NaN    1500.0       1           1          NaN      0  \n",
       "\n",
       "[5 rows x 403 columns]"
      ]
     },
     "execution_count": 6,
     "metadata": {},
     "output_type": "execute_result"
    }
   ],
   "source": [
    "#Obtaining C section list\n",
    "c_section = [column for column in column_names if column.startswith('C')]\n",
    "type(c_section)\n",
    "c_section[4:]\n",
    "c_section.sort()\n",
    "\n",
    "c_section\n",
    "target_columns = list(itertools.chain(household_info_columns ,c_section))\n",
    "electricity_df = main_dataset[target_columns]\n",
    "electricity_df.head()\n",
    "\n",
    "\n"
   ]
  },
  {
   "cell_type": "code",
   "execution_count": 7,
   "metadata": {
    "ExecuteTime": {
     "end_time": "2021-04-01T10:57:51.916315Z",
     "start_time": "2021-04-01T10:57:51.621414Z"
    }
   },
   "outputs": [
    {
     "data": {
      "text/html": [
       "<div>\n",
       "<style scoped>\n",
       "    .dataframe tbody tr th:only-of-type {\n",
       "        vertical-align: middle;\n",
       "    }\n",
       "\n",
       "    .dataframe tbody tr th {\n",
       "        vertical-align: top;\n",
       "    }\n",
       "\n",
       "    .dataframe thead th {\n",
       "        text-align: right;\n",
       "    }\n",
       "</style>\n",
       "<table border=\"1\" class=\"dataframe\">\n",
       "  <thead>\n",
       "    <tr style=\"text-align: right;\">\n",
       "      <th></th>\n",
       "      <th>HHID</th>\n",
       "      <th>Id</th>\n",
       "      <th>Date_HH_Visit</th>\n",
       "      <th>Eco_Reg</th>\n",
       "      <th>Province</th>\n",
       "      <th>Dev_Region</th>\n",
       "      <th>Zone</th>\n",
       "      <th>VDC_MUN</th>\n",
       "      <th>VDC_MUN_NAME</th>\n",
       "      <th>District</th>\n",
       "      <th>...</th>\n",
       "      <th>C97</th>\n",
       "      <th>C98</th>\n",
       "      <th>C99</th>\n",
       "      <th>C9_A</th>\n",
       "      <th>CF_F</th>\n",
       "      <th>CF_Stove</th>\n",
       "      <th>CONSENT</th>\n",
       "      <th>C_AVAILABLE</th>\n",
       "      <th>C_DATE_TIME</th>\n",
       "      <th>C_WHO</th>\n",
       "    </tr>\n",
       "  </thead>\n",
       "  <tbody>\n",
       "    <tr>\n",
       "      <th>0</th>\n",
       "      <td>110148801</td>\n",
       "      <td>2cd3defe83504f3593c43b93509a4c9f</td>\n",
       "      <td>2017-11-11</td>\n",
       "      <td>1</td>\n",
       "      <td>1</td>\n",
       "      <td>1</td>\n",
       "      <td>1</td>\n",
       "      <td>1</td>\n",
       "      <td>Khewang</td>\n",
       "      <td>1</td>\n",
       "      <td>...</td>\n",
       "      <td>NaN</td>\n",
       "      <td>NaN</td>\n",
       "      <td>NaN</td>\n",
       "      <td>NaN</td>\n",
       "      <td>NaN</td>\n",
       "      <td>NaN</td>\n",
       "      <td>1</td>\n",
       "      <td>1</td>\n",
       "      <td>NaN</td>\n",
       "      <td>0</td>\n",
       "    </tr>\n",
       "    <tr>\n",
       "      <th>1</th>\n",
       "      <td>110148802</td>\n",
       "      <td>d85646020ba744eb9b1b4bf76ca4e454</td>\n",
       "      <td>2017-11-11</td>\n",
       "      <td>1</td>\n",
       "      <td>1</td>\n",
       "      <td>1</td>\n",
       "      <td>1</td>\n",
       "      <td>1</td>\n",
       "      <td>Khewang</td>\n",
       "      <td>1</td>\n",
       "      <td>...</td>\n",
       "      <td>NaN</td>\n",
       "      <td>NaN</td>\n",
       "      <td>NaN</td>\n",
       "      <td>NaN</td>\n",
       "      <td>NaN</td>\n",
       "      <td>3000.0</td>\n",
       "      <td>1</td>\n",
       "      <td>1</td>\n",
       "      <td>NaN</td>\n",
       "      <td>0</td>\n",
       "    </tr>\n",
       "    <tr>\n",
       "      <th>2</th>\n",
       "      <td>110148803</td>\n",
       "      <td>d8612908fadc4ba58c01a706a7e5ef64</td>\n",
       "      <td>2017-11-11</td>\n",
       "      <td>1</td>\n",
       "      <td>1</td>\n",
       "      <td>1</td>\n",
       "      <td>1</td>\n",
       "      <td>1</td>\n",
       "      <td>Khewang</td>\n",
       "      <td>1</td>\n",
       "      <td>...</td>\n",
       "      <td>NaN</td>\n",
       "      <td>NaN</td>\n",
       "      <td>NaN</td>\n",
       "      <td>NaN</td>\n",
       "      <td>NaN</td>\n",
       "      <td>1500.0</td>\n",
       "      <td>1</td>\n",
       "      <td>1</td>\n",
       "      <td>NaN</td>\n",
       "      <td>0</td>\n",
       "    </tr>\n",
       "    <tr>\n",
       "      <th>3</th>\n",
       "      <td>110148804</td>\n",
       "      <td>9157d2376525473f925444bf756cdbe7</td>\n",
       "      <td>2017-11-11</td>\n",
       "      <td>1</td>\n",
       "      <td>1</td>\n",
       "      <td>1</td>\n",
       "      <td>1</td>\n",
       "      <td>1</td>\n",
       "      <td>Khewang</td>\n",
       "      <td>1</td>\n",
       "      <td>...</td>\n",
       "      <td>NaN</td>\n",
       "      <td>NaN</td>\n",
       "      <td>NaN</td>\n",
       "      <td>NaN</td>\n",
       "      <td>NaN</td>\n",
       "      <td>5000.0</td>\n",
       "      <td>1</td>\n",
       "      <td>1</td>\n",
       "      <td>NaN</td>\n",
       "      <td>0</td>\n",
       "    </tr>\n",
       "    <tr>\n",
       "      <th>4</th>\n",
       "      <td>110148805</td>\n",
       "      <td>b84e1ea7a450429c8a90de5f2a42fe4b</td>\n",
       "      <td>2017-11-11</td>\n",
       "      <td>1</td>\n",
       "      <td>1</td>\n",
       "      <td>1</td>\n",
       "      <td>1</td>\n",
       "      <td>1</td>\n",
       "      <td>Khewang</td>\n",
       "      <td>1</td>\n",
       "      <td>...</td>\n",
       "      <td>NaN</td>\n",
       "      <td>NaN</td>\n",
       "      <td>NaN</td>\n",
       "      <td>NaN</td>\n",
       "      <td>NaN</td>\n",
       "      <td>1500.0</td>\n",
       "      <td>1</td>\n",
       "      <td>1</td>\n",
       "      <td>NaN</td>\n",
       "      <td>0</td>\n",
       "    </tr>\n",
       "  </tbody>\n",
       "</table>\n",
       "<p>5 rows × 403 columns</p>\n",
       "</div>"
      ],
      "text/plain": [
       "        HHID                                Id Date_HH_Visit  Eco_Reg  \\\n",
       "0  110148801  2cd3defe83504f3593c43b93509a4c9f    2017-11-11        1   \n",
       "1  110148802  d85646020ba744eb9b1b4bf76ca4e454    2017-11-11        1   \n",
       "2  110148803  d8612908fadc4ba58c01a706a7e5ef64    2017-11-11        1   \n",
       "3  110148804  9157d2376525473f925444bf756cdbe7    2017-11-11        1   \n",
       "4  110148805  b84e1ea7a450429c8a90de5f2a42fe4b    2017-11-11        1   \n",
       "\n",
       "   Province  Dev_Region  Zone  VDC_MUN VDC_MUN_NAME  District  ...  C97  C98  \\\n",
       "0         1           1     1        1      Khewang         1  ...  NaN  NaN   \n",
       "1         1           1     1        1      Khewang         1  ...  NaN  NaN   \n",
       "2         1           1     1        1      Khewang         1  ...  NaN  NaN   \n",
       "3         1           1     1        1      Khewang         1  ...  NaN  NaN   \n",
       "4         1           1     1        1      Khewang         1  ...  NaN  NaN   \n",
       "\n",
       "   C99  C9_A  CF_F  CF_Stove CONSENT C_AVAILABLE  C_DATE_TIME  C_WHO  \n",
       "0  NaN   NaN   NaN       NaN       1           1          NaN      0  \n",
       "1  NaN   NaN   NaN    3000.0       1           1          NaN      0  \n",
       "2  NaN   NaN   NaN    1500.0       1           1          NaN      0  \n",
       "3  NaN   NaN   NaN    5000.0       1           1          NaN      0  \n",
       "4  NaN   NaN   NaN    1500.0       1           1          NaN      0  \n",
       "\n",
       "[5 rows x 403 columns]"
      ]
     },
     "execution_count": 7,
     "metadata": {},
     "output_type": "execute_result"
    }
   ],
   "source": [
    "electricity_df.head(5)\n"
   ]
  },
  {
   "cell_type": "code",
   "execution_count": 8,
   "metadata": {
    "ExecuteTime": {
     "end_time": "2021-04-01T10:57:52.325312Z",
     "start_time": "2021-04-01T10:57:52.045160Z"
    }
   },
   "outputs": [
    {
     "data": {
      "text/plain": [
       "Index(['C135__1', 'C135__2', 'C135__3', 'C135__4'], dtype='object')"
      ]
     },
     "execution_count": 8,
     "metadata": {},
     "output_type": "execute_result"
    }
   ],
   "source": [
    "\n",
    "solar_based_device_name =  [column for column in c_section if column.startswith('C135')]\n",
    "solar_based_device = electricity_df [solar_based_device_name]\n",
    "solar_based_device.columns"
   ]
  },
  {
   "cell_type": "code",
   "execution_count": null,
   "metadata": {},
   "outputs": [],
   "source": []
  },
  {
   "cell_type": "code",
   "execution_count": 9,
   "metadata": {
    "ExecuteTime": {
     "end_time": "2021-04-01T10:57:53.355560Z",
     "start_time": "2021-04-01T10:57:52.451650Z"
    }
   },
   "outputs": [
    {
     "data": {
      "text/html": [
       "<div>\n",
       "<style scoped>\n",
       "    .dataframe tbody tr th:only-of-type {\n",
       "        vertical-align: middle;\n",
       "    }\n",
       "\n",
       "    .dataframe tbody tr th {\n",
       "        vertical-align: top;\n",
       "    }\n",
       "\n",
       "    .dataframe thead th {\n",
       "        text-align: right;\n",
       "    }\n",
       "</style>\n",
       "<table border=\"1\" class=\"dataframe\">\n",
       "  <thead>\n",
       "    <tr style=\"text-align: right;\">\n",
       "      <th></th>\n",
       "      <th>HHID</th>\n",
       "      <th>C44</th>\n",
       "    </tr>\n",
       "  </thead>\n",
       "  <tbody>\n",
       "    <tr>\n",
       "      <th>0</th>\n",
       "      <td>110148801</td>\n",
       "      <td>2.0</td>\n",
       "    </tr>\n",
       "    <tr>\n",
       "      <th>1</th>\n",
       "      <td>110148802</td>\n",
       "      <td>2.0</td>\n",
       "    </tr>\n",
       "    <tr>\n",
       "      <th>2</th>\n",
       "      <td>110148803</td>\n",
       "      <td>2.0</td>\n",
       "    </tr>\n",
       "    <tr>\n",
       "      <th>3</th>\n",
       "      <td>110148804</td>\n",
       "      <td>2.0</td>\n",
       "    </tr>\n",
       "    <tr>\n",
       "      <th>4</th>\n",
       "      <td>110148805</td>\n",
       "      <td>2.0</td>\n",
       "    </tr>\n",
       "  </tbody>\n",
       "</table>\n",
       "</div>"
      ],
      "text/plain": [
       "        HHID  C44\n",
       "0  110148801  2.0\n",
       "1  110148802  2.0\n",
       "2  110148803  2.0\n",
       "3  110148804  2.0\n",
       "4  110148805  2.0"
      ]
     },
     "execution_count": 9,
     "metadata": {},
     "output_type": "execute_result"
    }
   ],
   "source": [
    "# solar and grid connected people and set H\n",
    "\n",
    "grid = electricity_df[['HHID','C4']]\n",
    "province = electricity_df[['HHID','Province']]\n",
    "solar_based_device = electricity_df[['HHID','C135__4']]\n",
    "hydro_grid = electricity_df[electricity_df[\"C44\"]!=3][['HHID','C44']]\n",
    "hydro_grid.head()"
   ]
  },
  {
   "cell_type": "code",
   "execution_count": 10,
   "metadata": {
    "ExecuteTime": {
     "end_time": "2021-04-01T10:57:53.623363Z",
     "start_time": "2021-04-01T10:57:53.507435Z"
    }
   },
   "outputs": [],
   "source": [
    "\n",
    "grid_solar = pd.merge(grid, solar_based_device, how = 'left', on = \"HHID\")\n",
    "\n",
    "connection_type = pd.merge(grid_solar,hydro_grid, how = 'left',on = \"HHID\")\n",
    "connection_type.columns = ['HHID','grid','solar','hydro']\n",
    "connection_type.fillna(0,inplace = True)\n",
    "connection_type.reset_index(inplace=True)\n",
    "connection_type = pd.merge(connection_type,province,how = 'left',on = 'HHID' )\n"
   ]
  },
  {
   "cell_type": "code",
   "execution_count": 29,
   "metadata": {
    "ExecuteTime": {
     "end_time": "2021-04-01T12:00:38.857390Z",
     "start_time": "2021-04-01T12:00:38.847362Z"
    }
   },
   "outputs": [],
   "source": [
    "connection_type['hydro'] = connection_type['hydro'].apply(lambda x: 1 if x>0 else 0)\n",
    "connection_type['solar'] = connection_type['solar'].apply(lambda x: 0 if x>0 else 1)"
   ]
  },
  {
   "cell_type": "code",
   "execution_count": 30,
   "metadata": {
    "ExecuteTime": {
     "end_time": "2021-04-01T12:00:41.761077Z",
     "start_time": "2021-04-01T12:00:41.753522Z"
    }
   },
   "outputs": [],
   "source": [
    "ctype_pro = connection_type[['grid','solar','hydro','Province']].groupby('Province').sum()"
   ]
  },
  {
   "cell_type": "code",
   "execution_count": 32,
   "metadata": {
    "ExecuteTime": {
     "end_time": "2021-04-01T13:00:43.785284Z",
     "start_time": "2021-04-01T13:00:43.726627Z"
    }
   },
   "outputs": [
    {
     "data": {
      "text/html": [
       "<div>\n",
       "<style scoped>\n",
       "    .dataframe tbody tr th:only-of-type {\n",
       "        vertical-align: middle;\n",
       "    }\n",
       "\n",
       "    .dataframe tbody tr th {\n",
       "        vertical-align: top;\n",
       "    }\n",
       "\n",
       "    .dataframe thead th {\n",
       "        text-align: right;\n",
       "    }\n",
       "</style>\n",
       "<table border=\"1\" class=\"dataframe\">\n",
       "  <thead>\n",
       "    <tr style=\"text-align: right;\">\n",
       "      <th></th>\n",
       "      <th>grid</th>\n",
       "      <th>solar</th>\n",
       "      <th>hydro</th>\n",
       "    </tr>\n",
       "    <tr>\n",
       "      <th>Province</th>\n",
       "      <th></th>\n",
       "      <th></th>\n",
       "      <th></th>\n",
       "    </tr>\n",
       "  </thead>\n",
       "  <tbody>\n",
       "    <tr>\n",
       "      <th>1</th>\n",
       "      <td>1472.0</td>\n",
       "      <td>447</td>\n",
       "      <td>280</td>\n",
       "    </tr>\n",
       "    <tr>\n",
       "      <th>2</th>\n",
       "      <td>5958.0</td>\n",
       "      <td>26</td>\n",
       "      <td>0</td>\n",
       "    </tr>\n",
       "    <tr>\n",
       "      <th>3</th>\n",
       "      <td>5462.0</td>\n",
       "      <td>560</td>\n",
       "      <td>93</td>\n",
       "    </tr>\n",
       "    <tr>\n",
       "      <th>4</th>\n",
       "      <td>605.0</td>\n",
       "      <td>66</td>\n",
       "      <td>14</td>\n",
       "    </tr>\n",
       "    <tr>\n",
       "      <th>5</th>\n",
       "      <td>2648.0</td>\n",
       "      <td>69</td>\n",
       "      <td>72</td>\n",
       "    </tr>\n",
       "    <tr>\n",
       "      <th>6</th>\n",
       "      <td>3441.0</td>\n",
       "      <td>419</td>\n",
       "      <td>147</td>\n",
       "    </tr>\n",
       "    <tr>\n",
       "      <th>7</th>\n",
       "      <td>2922.0</td>\n",
       "      <td>346</td>\n",
       "      <td>209</td>\n",
       "    </tr>\n",
       "  </tbody>\n",
       "</table>\n",
       "</div>"
      ],
      "text/plain": [
       "            grid  solar  hydro\n",
       "Province                      \n",
       "1         1472.0    447    280\n",
       "2         5958.0     26      0\n",
       "3         5462.0    560     93\n",
       "4          605.0     66     14\n",
       "5         2648.0     69     72\n",
       "6         3441.0    419    147\n",
       "7         2922.0    346    209"
      ]
     },
     "execution_count": 32,
     "metadata": {},
     "output_type": "execute_result"
    }
   ],
   "source": [
    "ctype_pro"
   ]
  },
  {
   "cell_type": "code",
   "execution_count": 31,
   "metadata": {
    "ExecuteTime": {
     "end_time": "2021-04-01T12:00:42.761477Z",
     "start_time": "2021-04-01T12:00:42.549309Z"
    },
    "scrolled": true
   },
   "outputs": [
    {
     "data": {
      "image/png": "[encoded data removed]",
      "text/plain": [
       "<Figure size 720x360 with 1 Axes>"
      ]
     },
     "metadata": {
      "needs_background": "light"
     },
     "output_type": "display_data"
    }
   ],
   "source": [
    "ctype_pro.plot(kind = 'bar', stacked = True, figsize = (10,5));\n",
    "plt.xticks(rotation = 0);"
   ]
  },
  {
   "cell_type": "code",
   "execution_count": null,
   "metadata": {},
   "outputs": [],
   "source": []
  },
  {
   "cell_type": "markdown",
   "metadata": {},
   "source": [
    "# Access to Electricity (Nepal)\n",
    "Section C starts from C2 to C182 column from the main_dataset.  \n",
    "\n",
    "For Further analysis Specific column will be selected from the main dataset dataframe."
   ]
  },
  {
   "cell_type": "markdown",
   "metadata": {},
   "source": [
    "## Connection to the national grid \n",
    "From **C2.Is the household connected to the national grid? ** \n",
    "\n",
    "1: Yes  ,  2: No "
   ]
  },
  {
   "cell_type": "code",
   "execution_count": null,
   "metadata": {},
   "outputs": [],
   "source": [
    "\n",
    "Grid_connection_column = main_dataset[\"C2\"]\n",
    "#Grid_connection_column\n",
    "#2 is not connected to the grid \n",
    "#1 is connected to the grid \n",
    "\n",
    "Grid_connection_column.replace({1:'Connected',2:'Not Connected'}, inplace=True)\n",
    "Perc_Grid_connection = (Grid_connection_column.value_counts(normalize = True)*100)\n",
    "\n",
    "\n",
    "Perc_Grid_connection\n",
    "\n"
   ]
  },
  {
   "cell_type": "code",
   "execution_count": null,
   "metadata": {
    "scrolled": false
   },
   "outputs": [],
   "source": [
    "labels = \"National Grid Connection\",  \"Not Connected to the grid\"\n",
    "explode = (0.1, 0.01) \n",
    "fig1, ax1 = plt.subplots()\n",
    "ax1.pie(Perc_Grid_connection, explode=explode, labels=labels, autopct='%1.0f%%',shadow=True, startangle=90)\n",
    "ax1.axis('equal')\n",
    "#ax1.title(\"Nepal Grid connection \")\n",
    "ax1.set_title(\"Nepal Grid connection\")\n",
    "plt.show()"
   ]
  },
  {
   "cell_type": "code",
   "execution_count": null,
   "metadata": {},
   "outputs": [],
   "source": [
    "# \n",
    "Perc_Grid_connection.plot(kind = 'bar')\n",
    "plt.xticks(rotation=0);\n",
    "\n",
    "for index, value in enumerate(Perc_Grid_connection.values):\n",
    "    plt.text(index,value+1, f'{value:.0f}%');\n"
   ]
  },
  {
   "cell_type": "markdown",
   "metadata": {},
   "source": [
    "### Analysis of Nepal  national grid connection \n",
    "From the mtf Nepal energy access, the report claims that 71.1% and 23% households are and not  connected to the national grid respectively. However by looking on the above pie chart from the raw data,  67% households are connected to the national grid, while 33% are not not connected to the  grid "
   ]
  },
  {
   "cell_type": "markdown",
   "metadata": {},
   "source": [
    "### main services for the grid connection \n",
    "\n",
    "\n",
    "From C7.Who is the service provider of the grid connection: \n",
    "\n",
    "- 01: Nepal Electricity Authority(NEA)\n",
    "- 02: Other Private Electricity Providers"
   ]
  },
  {
   "cell_type": "code",
   "execution_count": null,
   "metadata": {
    "scrolled": true
   },
   "outputs": [],
   "source": [
    "service_provider = electricity_df['C7']\n",
    "#filling NAN values with zero\n",
    "service_provider.fillna(0)\n",
    "service_provider_def = service_provider.to_frame()\n",
    "type(service_provider_def)\n",
    "Perc_service_provider = (service_provider.value_counts(normalize = True)*100)\n",
    "Perc_service_provider\n",
    "\n",
    "# plotting the pie chart\n",
    "labels = \"Nepal Electricity Authority(NEA)\",  \"Other Private Electricity Providers\"\n",
    "explode = (0.1,0.5 ) \n",
    "fig1, ax1 = plt.subplots()\n",
    "ax1.pie(Perc_service_provider, explode=explode, labels=labels, autopct='%1.2f%%',shadow=True, startangle=90)\n",
    "ax1.axis('equal')\n",
    "#ax1.title(\"Nepal Grid connection \")\n",
    "ax1.set_title(\"Nepal Grid  service connection Provider\")\n",
    "\n",
    "plt.show()\n"
   ]
  },
  {
   "cell_type": "markdown",
   "metadata": {},
   "source": [
    "99.51% of the households connected to the national grid pay to the Nepal Electricity Authorithy (NEA) and few households are connected to private service provider which accounts for 0.49%."
   ]
  },
  {
   "cell_type": "markdown",
   "metadata": {},
   "source": [
    "\n",
    "\n",
    "### Reasons households not connected to the grid \n",
    "C4. What is the main reason why your household is not connected to the grid? \n",
    "- 001 : Grid is too far from household/not available\n",
    "- 002 : Cost of initial connection is too expensive\n",
    "- 003: Monthly fee is too expensive\n",
    "- 004: Satisfied with current energy solution \n",
    "- 005: Renting, Landlord decision\n",
    "- 006: Service Unreliable\n",
    "- 007: Administrative procedure is too complicated\n",
    "- 008: Submitted application and waiting for connection\n",
    "- 009: Company refused to connect the household\n",
    "- 555: Other, specify\n",
    "\n"
   ]
  },
  {
   "cell_type": "code",
   "execution_count": null,
   "metadata": {},
   "outputs": [],
   "source": [
    "reason_no_grid_connection =  main_dataset[\"C4\"]\n",
    "type(reason_no_grid_connection)\n",
    "# Converting the series into dataframe \n",
    "reason_no_grid_connection_df = reason_no_grid_connection.to_frame()\n",
    "type(reason_no_grid_connection_df)\n",
    "\n",
    "# Filling NaNs with Zero. This means that the information were not given \n",
    "\n",
    "reason_no_grid_connection_df.fillna(0).head(5)\n",
    "#reason_no_grid_connection.value_counts()\n",
    "#reason_no_grid_connection_df.value_counts() \n",
    "Perc_reason_no_grid_connection = (reason_no_grid_connection.value_counts(normalize = True)*100)\n",
    "Perc_reason_no_grid_connection\n",
    "\n"
   ]
  },
  {
   "cell_type": "code",
   "execution_count": null,
   "metadata": {},
   "outputs": [],
   "source": [
    "#Visualizing the reasons why households are not connected to the grid \n",
    "\n",
    "labels = \"Grid not available\",\"Expensive initial connection\",\"Expensive monthly fee\",\"Current energy solution satisfaction\",\"Landlord decision\",\"Service Unreliable\",\"Complicated Procedure\",\"Waiting connection\",\"Company rejection\",\"Other\"\n",
    "\n",
    "explode = (0.1, 0.1,0.1,0.3,0.5,0.6,0.7,0.8,0.9,1) \n",
    "fig1, ax1 = plt.subplots(figsize=(20,20))\n",
    "patches, texts, auto = ax1.pie(Perc_reason_no_grid_connection, explode=explode, autopct='%1.0f%%',shadow=True, startangle=90,radius=1.2)\n",
    "\n",
    "#patches, texts, auto = ax1.pie(Perc_reason_no_grid_connection, shadow=True, startangle=90,explode=explode, autopct='%1.1f%%' )\n",
    " \n",
    "plt.legend(patches, labels,loc=\"left center\",bbox_to_anchor=(-0.1, 1.),fontsize=10)\n",
    "#ax1.title(\"Nepal Grid connection \")\n",
    "ax1.axis('equal')\n",
    "ax1.set_title(\"Reason households are not connected to the national grid \")\n",
    "plt.show()\n",
    "\n",
    "\n",
    "#ax = Perc_reason_no_grid_connection.plot.bar(rot= 30)\n"
   ]
  },
  {
   "cell_type": "markdown",
   "metadata": {},
   "source": [
    "From the above pie chart, 70% households were not connected og the grid due to unavailability of grid. "
   ]
  },
  {
   "cell_type": "markdown",
   "metadata": {},
   "source": [
    "### Main source of electricity\n",
    "\n",
    "**C44. is this house connected to a:  **\n",
    "\n",
    "- 01: Pico hydro\n",
    "- 02: Micro/Mini-hydro grid\n",
    "- 03: Neither pico-hydro nor mini/micro grid\n",
    "- 04: Both pico-hydro and mini/micro-hydro grid\n",
    "\n"
   ]
  },
  {
   "cell_type": "code",
   "execution_count": null,
   "metadata": {},
   "outputs": [],
   "source": [
    "#electricity_df[\"C45\"].value_counts(dropna = False)\n"
   ]
  },
  {
   "cell_type": "code",
   "execution_count": null,
   "metadata": {},
   "outputs": [],
   "source": [
    "main_source = electricity_df[\"C44\"]\n",
    "\n",
    "type(main_source)\n",
    "grid_source_df = main_source\n",
    "grid_source.fillna(0)\n",
    "Perc_main_source = (grid_source_df.value_counts(normalize = True)*100)\n",
    "Perc_main_source\n",
    "\n",
    "\n"
   ]
  },
  {
   "cell_type": "code",
   "execution_count": null,
   "metadata": {},
   "outputs": [],
   "source": [
    "#Visualizing the main source of electricity \n",
    "\n",
    "labels = \"Pico hydro\",\" Micro/Mini-hydro grid\",\" Neither pico-hydro grid nor mini/micro grid\",\"Both pico-hydro and mini/micro-hydro grid\"\n",
    "\n",
    "explode = (0.1, 0.1,0.1,0.8) \n",
    "fig1, ax1 = plt.subplots(figsize=(6,5))\n",
    "patches, texts, auto = ax1.pie(Perc_main_source, explode=explode, autopct='%1.2f%%',shadow=True, startangle=90,radius=1.2)\n",
    "\n",
    "#patches, texts, auto = ax1.pie(Perc_reason_no_grid_connection, shadow=True, startangle=90,explode=explode, autopct='%1.1f%%' )\n",
    " \n",
    "plt.legend(patches, labels,loc=\"left center\",bbox_to_anchor=(-0.1, 1.),fontsize=10)\n",
    "\n",
    "ax1.axis('equal')\n",
    "ax1.set_title(\"Main source of Electricity in Nepal\")\n",
    "plt.show()\n",
    "\n"
   ]
  },
  {
   "cell_type": "markdown",
   "metadata": {},
   "source": [
    "58.27% of national grid are connected to the pico hydro so this set it to the main source of electricity in Nepal. \n",
    "0.05% are connected to both pico and mini/micro hydro. Small portion of 7.12% are not connected pico hydro nor mini/micro hydro."
   ]
  },
  {
   "cell_type": "code",
   "execution_count": null,
   "metadata": {},
   "outputs": [],
   "source": []
  }
 ],
 "metadata": {
  "kernelspec": {
   "display_name": "Python 3",
   "language": "python",
   "name": "python3"
  },
  "language_info": {
   "codemirror_mode": {
    "name": "ipython",
    "version": 3
   },
   "file_extension": ".py",
   "mimetype": "text/x-python",
   "name": "python",
   "nbconvert_exporter": "python",
   "pygments_lexer": "ipython3",
   "version": "3.8.5"
  },
  "toc": {
   "base_numbering": 1,
   "nav_menu": {},
   "number_sections": true,
   "sideBar": true,
   "skip_h1_title": false,
   "title_cell": "Table of Contents",
   "title_sidebar": "Contents",
   "toc_cell": false,
   "toc_position": {},
   "toc_section_display": true,
   "toc_window_display": false
  },
  "varInspector": {
   "cols": {
    "lenName": 16,
    "lenType": 16,
    "lenVar": 40
   },
   "kernels_config": {
    "python": {
     "delete_cmd_postfix": "",
     "delete_cmd_prefix": "del ",
     "library": "var_list.py",
     "varRefreshCmd": "print(var_dic_list())"
    },
    "r": {
     "delete_cmd_postfix": ") ",
     "delete_cmd_prefix": "rm(",
     "library": "var_list.r",
     "varRefreshCmd": "cat(var_dic_list()) "
    }
   },
   "types_to_exclude": [
    "module",
    "function",
    "builtin_function_or_method",
    "instance",
    "_Feature"
   ],
   "window_display": false
  }
 },
 "nbformat": 4,
 "nbformat_minor": 2
}
