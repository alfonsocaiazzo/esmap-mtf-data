{
 "cells": [
  {
   "cell_type": "code",
   "execution_count": 2,
   "metadata": {},
   "outputs": [],
   "source": [
    "# Preliminaries\n",
    "\n",
    "import numpy as np\n",
    "import pandas as pd\n",
    "import matplotlib.pyplot as plt\n",
    "from IPython.display import Image"
   ]
  },
  {
   "cell_type": "markdown",
   "metadata": {},
   "source": [
    "# The Multi-tier framework for measuring energy access\n",
    "\n",
    "This notebook analized the energy access data published by the \n",
    "[ESMAP Sector of the World Bank](https://mtfenergyaccess.esmap.org/country/rwanda), related to the energy access assessment\n",
    "in Rwanda.\n",
    "\n",
    "The assessment is based on the [Multi-Tier Framework](). In this approach, energy access is evaluated across a range of dimensions (called *attributes*). Along each attribute, each household is ranked in a \n",
    "**tier** (a level), from 0 (no access to energy) to 5 (full access to energy). The final energy access ranking\n",
    "is then defined as the **minimum** over all attributed.\n",
    "\n",
    "The report concerning the study in Rwanda can be downloaded [here](https://energydata.info/dataset/rwanda-multi-tier-framework-mtf-survey-2018)\n",
    "\n"
   ]
  },
  {
   "cell_type": "markdown",
   "metadata": {},
   "source": [
    "## Structure of the Database\n",
    "\n",
    "The questionnaire consists of ... Sections.\n",
    "\n",
    "- Section A: (what is contained in Section A, what are the entries (households or something else, ...)\n",
    "\n",
    "- Section B:\n",
    "\n",
    "- Section C:"
   ]
  },
  {
   "cell_type": "code",
   "execution_count": 14,
   "metadata": {},
   "outputs": [],
   "source": [
    "# read all the relevant data\n",
    "\n",
    "# ...\n",
    "\n",
    "# section I\n",
    "section_I = pd.read_excel('../raw_data/complete_dataset.xlsx',sheet_name = \"Section_I\")\n",
    "codebook_I = pd.read_excel('../references/codebook.xlsx', sheet_name= 'Section I')\n"
   ]
  },
  {
   "cell_type": "code",
   "execution_count": 67,
   "metadata": {},
   "outputs": [],
   "source": [
    "# main dataset\n",
    "main = pd.read_excel('../raw_data/complete_dataset.xlsx',sheet_name = \"main_dataset\")"
   ]
  },
  {
   "cell_type": "markdown",
   "metadata": {},
   "source": [
    "## Description of the sample\n",
    "\n",
    "Before starting the tier computation, we extract some general information about the sample (residential area, type of electricity/cooking solution used, etc.)\n"
   ]
  },
  {
   "cell_type": "markdown",
   "metadata": {},
   "source": [
    "### Type of habitat\n",
    "\n",
    "The question related to the habitat is in the main dataset (**B5**: \"What is the type of habitat?\"). Answers 1-3 are considered **rural**, answers 4-6 are considered **urban**."
   ]
  },
  {
   "cell_type": "code",
   "execution_count": null,
   "metadata": {},
   "outputs": [],
   "source": [
    "# add image\n",
    "#Image(\"rural_urban.png\")"
   ]
  },
  {
   "cell_type": "code",
   "execution_count": 74,
   "metadata": {},
   "outputs": [],
   "source": [
    "# We add a new column to the main dataset, with values 'urban','rural', or 'other'\n",
    "habitat_question = \"B5_What is the type of habitat\"\n",
    "habitat = []\n",
    "for index,row in main.iterrows():\n",
    "    if row[habitat_question]==4 or row[habitat_question]==5 or row[habitat_question]==6:\n",
    "        habitat.append('urban')\n",
    "    elif row[habitat_question]==1 or row[habitat_question]==2 or row[habitat_question]==3:\n",
    "        habitat.append('rural')\n",
    "    else:\n",
    "        habitat.append('other')\n",
    "        \n",
    "main['habitat'] = habitat\n",
    "\n"
   ]
  },
  {
   "cell_type": "markdown",
   "metadata": {},
   "source": [
    "## Access to modern cooking solutions\n",
    "\n",
    "... some intro about attributes ...."
   ]
  },
  {
   "cell_type": "markdown",
   "metadata": {},
   "source": [
    "### Health and Safety \n",
    "\n",
    "\n",
    "In the case of Rwanda, three different categories are considered:\n",
    "- Major injury (death, permanent health damage, burns/fire/poisoning, severe cough or respiratory problem)\n",
    "- Minor injury (e.g., watery eyes)\n",
    "- No accidents\n",
    "\n",
    "Households where major injury has occurred are ranked in **Tier 3**, otherwise in **Tier 5**.\n",
    "\n",
    "The question for the evaluation of the Tier is **I31**: \"In the last 12 months, what type of harm/injury did your household face from this cookstove?\"\n",
    "\n",
    "**Remark**[Naomi] In the report, it seems that the World consideres only injuries from the **primary** cookstove. One should check how to get this out of the data\n"
   ]
  },
  {
   "cell_type": "code",
   "execution_count": 15,
   "metadata": {},
   "outputs": [],
   "source": [
    "# figure missing\n",
    "# Image(\"cooking_injuries.png\")"
   ]
  },
  {
   "cell_type": "markdown",
   "metadata": {},
   "source": [
    "There are therefore 8 options for this (multiple choice) question, which are coded as I31_1, ...,I31_8 in the database. Let us create a list of labels for this."
   ]
  },
  {
   "cell_type": "code",
   "execution_count": 26,
   "metadata": {},
   "outputs": [],
   "source": [
    "safety_questions_code = ['I31_'+str(k) for k in range(1,9)]\n"
   ]
  },
  {
   "cell_type": "code",
   "execution_count": 31,
   "metadata": {
    "scrolled": true
   },
   "outputs": [
    {
     "name": "stdout",
     "output_type": "stream",
     "text": [
      "Statistics according to cookstoves \n",
      "Death or permanent damage  =  1  ( 0.03 %)\n",
      "Burns/fire/poisoning  =  45  ( 1.24 %)\n",
      "Severe cough/respiratory problem  =  29  ( 0.8 %)\n",
      "Other major injury  =  8  ( 0.22 %)\n",
      "Minor injury  =  78  ( 2.14 %)\n",
      "Fire with no injury  =  25  ( 0.69 %)\n",
      "Itchy/watery eyes  =  5  ( 0.14 %)\n",
      "None  =  3447  ( 94.75 %)\n"
     ]
    }
   ],
   "source": [
    "# Note: we can get the total number of answers per categoty from the 'codebook'\n",
    "choices_id = []\n",
    "choices_count = []\n",
    "choices_label = []\n",
    "for index,row in codebook_I.iterrows():\n",
    "    if 'I31' in row['Variable']:\n",
    "        choices_id.append(int(row['Variable'].replace('I31_','')))\n",
    "        choices_count.append(row['Obs'])\n",
    "        choices_label.append(row['Label'].replace(row['Variable']+'_',''))\n",
    "\n",
    "total = sum(choices_count)\n",
    "print(\"Statistics according to cookstoves \")\n",
    "for l in range(0,len(choices_label)):\n",
    "    print(choices_label[l],\" = \",choices_count[l],\" (\", round(choices_count[l]/total*100,2),\"%)\")\n",
    "\n"
   ]
  },
  {
   "cell_type": "markdown",
   "metadata": {},
   "source": [
    "**Remark**: To get the data **per household** we have to go throught the database using the HHID key"
   ]
  },
  {
   "cell_type": "code",
   "execution_count": 138,
   "metadata": {},
   "outputs": [],
   "source": [
    "# Check the number of household\n",
    "n_household = len(np.unique(section_I[\"HHID\"]))\n",
    "section_I_HHID = section_I.groupby(['HHID']).sum()\n",
    "\n",
    "# Let's add the type of habitat to the section I so we can separate according to rural/Urban info. \n",
    "injuries_df = pd.DataFrame.from_dict({'habitat':main['habitat'],'HHID': np.unique(section_I[\"HHID\"])})\n",
    "for i in safety_questions_code:\n",
    "    injuries_df[i] = np.array(section_I_HHID[i])\n"
   ]
  },
  {
   "cell_type": "code",
   "execution_count": 148,
   "metadata": {},
   "outputs": [],
   "source": [
    "def get_multiple_choice_values(df,questions):\n",
    "    values = []\n",
    "    for i in questions:\n",
    "        values.append(sum(df[i]>0))\n",
    "\n",
    "    # We return a dictionary with the count per injury type\n",
    "    return {\n",
    "        'major_accident': 100*(values[0]+values[1]+values[2]+values[3])/len(df),\n",
    "        'minor_accident': 100*(values[4]+values[5]+values[6])/len(df),\n",
    "        'no_accident': 100*(values[7])/len(df)\n",
    "    }\n",
    "\n",
    "# now we can calculate the results for total sample, urban and rural habitat using the same function\n",
    "total_injuries = get_multiple_choice_values(injuries_df,safety_questions_code)\n",
    "urban_injuries = get_multiple_choice_values(injuries_df.loc[injuries_df['habitat']=='urban'],safety_questions_code)\n",
    "rural_injuries = get_multiple_choice_values(injuries_df.loc[injuries_df['habitat']=='rural'],safety_questions_code)"
   ]
  },
  {
   "cell_type": "code",
   "execution_count": 154,
   "metadata": {},
   "outputs": [
    {
     "data": {
      "image/png": "[encoded data removed]",
      "text/plain": [
       "<Figure size 864x576 with 1 Axes>"
      ]
     },
     "metadata": {
      "needs_background": "light"
     },
     "output_type": "display_data"
    }
   ],
   "source": [
    "# grouped bar chart\n",
    "labels = ['No injury','Minor injury','Major injury']\n",
    "\n",
    "total_count = [total_injuries['no_accident'],total_injuries['minor_accident'],total_injuries['major_accident']]\n",
    "urban_count = [urban_injuries['no_accident'],urban_injuries['minor_accident'],urban_injuries['major_accident']]\n",
    "rural_count = [rural_injuries['no_accident'],rural_injuries['minor_accident'],rural_injuries['major_accident']]\n",
    "\n",
    "x = np.arange(len(labels))  # the label locations\n",
    "width = 0.25  # the width of the bars\n",
    "\n",
    "fig,ax = plt.subplots(figsize=(12,8))\n",
    "rects1 = ax.bar(x - width, total_count, width, label='Total Sample')\n",
    "rects2 = ax.bar(x, urban_count, width, label='Urban Households')\n",
    "rects3 = ax.bar(x + width, rural_count, width, label='Rural Households')\n",
    "\n",
    "def autolabel(rects):\n",
    "    \"\"\"Attach a text label above each bar in *rects*, displaying its height.\"\"\"\n",
    "    for rect in rects:\n",
    "        height = rect.get_height()\n",
    "        ax.annotate('{}%'.format(round(height,1)),\n",
    "                    xy=(rect.get_x() + rect.get_width() / 2, height),\n",
    "                    xytext=(0, 3),  # 3 points vertical offset\n",
    "                    textcoords=\"offset points\",\n",
    "                    ha='center', va='bottom')\n",
    "\n",
    "\n",
    "autolabel(rects1)\n",
    "autolabel(rects2)\n",
    "autolabel(rects3)\n",
    "\n",
    "fig.tight_layout()\n",
    "\n",
    "# Add some text for labels, title and custom x-axis tick labels, etc.\n",
    "\n",
    "ax.set_xticks(x)\n",
    "ax.set_xticklabels(labels)\n",
    "ax.legend()\n",
    "plt.show()"
   ]
  },
  {
   "cell_type": "code",
   "execution_count": 95,
   "metadata": {},
   "outputs": [
    {
     "data": {
      "text/plain": [
       "<matplotlib.axes._subplots.AxesSubplot at 0x7f948d844850>"
      ]
     },
     "execution_count": 95,
     "metadata": {},
     "output_type": "execute_result"
    },
    {
     "data": {
      "image/png": "[encoded data removed]",
      "text/plain": [
       "<Figure size 720x720 with 1 Axes>"
      ]
     },
     "metadata": {
      "needs_background": "light"
     },
     "output_type": "display_data"
    }
   ],
   "source": [
    "percent = [100*no_accident/n_household, 100*minor_accident/n_household, 100*major_accident/n_household] \n",
    "\n",
    "pie_ = pd.DataFrame({'Number of Households': percent},\n",
    "                  index = ['{0} - {1:1.2f} %'.format(i,j) for i,j in zip(index, percent)])\n",
    "\n",
    "pie_.plot.bar(y ='Number of Households', figsize=(10, 10), title = 'Proportion of accident')\n"
   ]
  },
  {
   "cell_type": "markdown",
   "metadata": {},
   "source": [
    "### Results \n",
    "- 2.5% of households are ranked in Safety Tier 3 (in the Rwanda Report: 2.2%)\n",
    "- 97.5% of households are ranked in Safety Tier 5\n",
    "\n",
    "#### Per Habitat:\n",
    "- MTF urban Tier 3 : 1.2% - here: 1.48%\n",
    "- MTF rural Tier 3 : 2.1% - here: 2.70%\n"
   ]
  },
  {
   "cell_type": "markdown",
   "metadata": {},
   "source": [
    "____________________________________"
   ]
  },
  {
   "cell_type": "markdown",
   "metadata": {},
   "source": [
    "# Safety of electricity"
   ]
  },
  {
   "cell_type": "markdown",
   "metadata": {},
   "source": [
    "1- Electricity from National Grid \n",
    "C41\n",
    "2- Electricity from Mini Grid \n",
    "C83\n",
    "3- Electric geneator set\n",
    "C112\n",
    "4 - Rechargeable Battery \n",
    "C130\n",
    "5- Pico-Hydro\n",
    "C142\n",
    "6- Solar device \n",
    "C175\n",
    "\n",
    "Proportion of what they use. "
   ]
  },
  {
   "cell_type": "code",
   "execution_count": null,
   "metadata": {},
   "outputs": [],
   "source": []
  },
  {
   "cell_type": "code",
   "execution_count": 181,
   "metadata": {},
   "outputs": [],
   "source": [
    "raw_data = pd.read_excel('complete_dataset.xlsx', sheet_name= 'main_dataset')\n",
    "\n",
    "#data_C41_injuries = raw_data_C['C41_household member died or damaged because of electricity']\n"
   ]
  },
  {
   "cell_type": "code",
   "execution_count": 197,
   "metadata": {},
   "outputs": [
    {
     "data": {
      "text/plain": [
       "<AxesSubplot:title={'center':'Proportion of accident in urban areas'}>"
      ]
     },
     "execution_count": 197,
     "metadata": {},
     "output_type": "execute_result"
    },
    {
     "data": {
      "image/png": "[encoded data removed]",
      "text/plain": [
       "<Figure size 720x720 with 1 Axes>"
      ]
     },
     "metadata": {
      "needs_background": "light"
     },
     "output_type": "display_data"
    }
   ],
   "source": [
    "# 1- Electricity from National Grid C41\n",
    "data_C41 = raw_data[['C41_household member died or damaged because of electricity']]\n",
    "data_C41 = data_C41.dropna()\n",
    "data_C41_injuries = data_C41[data_C41['C41_household member died or damaged because of electricity'] == 1.0]\n",
    "data_C41_no_injuries = data_C41[data_C41['C41_household member died or damaged because of electricity'] == 2.0]\n",
    "\n",
    "\n",
    "nb_injuries_C41 = len(data_C41_injuries)\n",
    "nb_no_injuries_C41 = len(data_C41_no_injuries)\n",
    "total = nb_injuries_C41 + nb_no_injuries_C41\n",
    " \n",
    "injuries_C41_perc = 100*nb_injuries_C41/total\n",
    "no_injuries_C41_perc = 100*nb_no_injuries_C41/total\n",
    "\n",
    "percent = [injuries_C41_perc, no_injuries_C41_perc] \n",
    "index = ['Accident', 'No accident']\n",
    "pie_ = pd.DataFrame({'Number of Households': percent},\n",
    "                  index = ['{0} - {1:1.2f} %'.format(i,j) for i,j in zip(index, percent)])\n",
    "\n",
    "pie_.plot.bar(y ='Number of Households', figsize=(10, 10), title = 'Proportion of accident in urban areas')\n",
    "\n"
   ]
  },
  {
   "cell_type": "code",
   "execution_count": 206,
   "metadata": {},
   "outputs": [],
   "source": [
    "data_C83 =raw_data[['C83_household members die or injured because of the grid electricity']]\n",
    "data_C83 = data_C83.dropna()\n",
    "data_C83_injuries = data_C83[data_C83['C83_household members die or injured because of the grid electricity'] == 1.0]\n",
    "data_C83_no_injuries = data_C83[data_C83['C83_household members die or injured because of the grid electricity'] == 2.0]\n",
    "\n",
    "nb_injuries_C83 = len(data_C83_injuries)\n",
    "nb_no_injuries_C83 = len(data_C83_no_injuries)\n",
    "total = nb_injuries_C83 + nb_no_injuries_C83\n",
    " \n",
    "injuries_C83_perc = 100*nb_injuries_C83/total\n",
    "no_injuries_C83_perc = 100*nb_no_injuries_C83/total\n",
    "\n",
    "percent = [injuries_C83_perc, no_injuries_C83_perc]                                    "
   ]
  },
  {
   "cell_type": "code",
   "execution_count": 205,
   "metadata": {},
   "outputs": [],
   "source": [
    "data_C112 = raw_data[['C112_household members died or injured because of the generator']]\n",
    "data_C112 = data_C112.dropna()\n",
    "data_C112_injuries = data_C112[data_C112['C112_household members died or injured because of the generator'] == 1.0]\n",
    "data_C112_no_injuries = data_C112[data_C112['C112_household members died or injured because of the generator'] == 2.0]\n",
    "\n",
    "nb_injuries_C112 = len(data_C112_injuries)\n",
    "nb_no_injuries_C112 = len(data_C112_no_injuries)\n",
    "total = nb_injuries_C112 + nb_no_injuries_C112\n",
    " \n",
    "injuries_C112_perc = 100*nb_injuries_C112/total\n",
    "no_injuries_C112_perc = 100*nb_no_injuries_C112/total\n",
    "\n",
    "percent = [injuries_C112_perc, no_injuries_C112_perc] \n",
    "                                   "
   ]
  },
  {
   "cell_type": "markdown",
   "metadata": {},
   "source": []
  },
  {
   "cell_type": "code",
   "execution_count": 207,
   "metadata": {},
   "outputs": [
    {
     "data": {
      "text/html": [
       "<div>\n",
       "<style scoped>\n",
       "    .dataframe tbody tr th:only-of-type {\n",
       "        vertical-align: middle;\n",
       "    }\n",
       "\n",
       "    .dataframe tbody tr th {\n",
       "        vertical-align: top;\n",
       "    }\n",
       "\n",
       "    .dataframe thead th {\n",
       "        text-align: right;\n",
       "    }\n",
       "</style>\n",
       "<table border=\"1\" class=\"dataframe\">\n",
       "  <thead>\n",
       "    <tr style=\"text-align: right;\">\n",
       "      <th></th>\n",
       "      <th>C130_household members died  injured because of the rechargeable batteries</th>\n",
       "    </tr>\n",
       "  </thead>\n",
       "  <tbody>\n",
       "    <tr>\n",
       "      <th>101</th>\n",
       "      <td>2.0</td>\n",
       "    </tr>\n",
       "    <tr>\n",
       "      <th>2690</th>\n",
       "      <td>2.0</td>\n",
       "    </tr>\n",
       "    <tr>\n",
       "      <th>2897</th>\n",
       "      <td>2.0</td>\n",
       "    </tr>\n",
       "    <tr>\n",
       "      <th>3042</th>\n",
       "      <td>2.0</td>\n",
       "    </tr>\n",
       "  </tbody>\n",
       "</table>\n",
       "</div>"
      ],
      "text/plain": [
       "      C130_household members died  injured because of the rechargeable batteries\n",
       "101                                                 2.0                         \n",
       "2690                                                2.0                         \n",
       "2897                                                2.0                         \n",
       "3042                                                2.0                         "
      ]
     },
     "execution_count": 207,
     "metadata": {},
     "output_type": "execute_result"
    }
   ],
   "source": [
    "data_C130 = raw_data[['C130_household members died  injured because of the rechargeable batteries']]\n",
    "data_C130 = data_C130.dropna()\n",
    "data_C130"
   ]
  },
  {
   "cell_type": "code",
   "execution_count": 209,
   "metadata": {},
   "outputs": [
    {
     "data": {
      "text/html": [
       "<div>\n",
       "<style scoped>\n",
       "    .dataframe tbody tr th:only-of-type {\n",
       "        vertical-align: middle;\n",
       "    }\n",
       "\n",
       "    .dataframe tbody tr th {\n",
       "        vertical-align: top;\n",
       "    }\n",
       "\n",
       "    .dataframe thead th {\n",
       "        text-align: right;\n",
       "    }\n",
       "</style>\n",
       "<table border=\"1\" class=\"dataframe\">\n",
       "  <thead>\n",
       "    <tr style=\"text-align: right;\">\n",
       "      <th></th>\n",
       "      <th>C142_household members died injured because of the pico-hydro system</th>\n",
       "    </tr>\n",
       "  </thead>\n",
       "  <tbody>\n",
       "    <tr>\n",
       "      <th>1493</th>\n",
       "      <td>2.0</td>\n",
       "    </tr>\n",
       "    <tr>\n",
       "      <th>2365</th>\n",
       "      <td>2.0</td>\n",
       "    </tr>\n",
       "    <tr>\n",
       "      <th>2366</th>\n",
       "      <td>2.0</td>\n",
       "    </tr>\n",
       "    <tr>\n",
       "      <th>2367</th>\n",
       "      <td>2.0</td>\n",
       "    </tr>\n",
       "    <tr>\n",
       "      <th>2370</th>\n",
       "      <td>2.0</td>\n",
       "    </tr>\n",
       "  </tbody>\n",
       "</table>\n",
       "</div>"
      ],
      "text/plain": [
       "      C142_household members died injured because of the pico-hydro system\n",
       "1493                                                2.0                   \n",
       "2365                                                2.0                   \n",
       "2366                                                2.0                   \n",
       "2367                                                2.0                   \n",
       "2370                                                2.0                   "
      ]
     },
     "execution_count": 209,
     "metadata": {},
     "output_type": "execute_result"
    }
   ],
   "source": [
    "data_C142 = raw_data[['C142_household members died injured because of the pico-hydro system']]\n",
    "data_C142 = data_C142.dropna()\n",
    "data_C142\n",
    "\n"
   ]
  },
  {
   "cell_type": "code",
   "execution_count": 213,
   "metadata": {},
   "outputs": [
    {
     "name": "stdout",
     "output_type": "stream",
     "text": [
      "[0.0, 100.0]\n"
     ]
    },
    {
     "data": {
      "text/html": [
       "<div>\n",
       "<style scoped>\n",
       "    .dataframe tbody tr th:only-of-type {\n",
       "        vertical-align: middle;\n",
       "    }\n",
       "\n",
       "    .dataframe tbody tr th {\n",
       "        vertical-align: top;\n",
       "    }\n",
       "\n",
       "    .dataframe thead th {\n",
       "        text-align: right;\n",
       "    }\n",
       "</style>\n",
       "<table border=\"1\" class=\"dataframe\">\n",
       "  <thead>\n",
       "    <tr style=\"text-align: right;\">\n",
       "      <th></th>\n",
       "      <th>C175_household members died or  injured because of the DEVICE</th>\n",
       "    </tr>\n",
       "  </thead>\n",
       "  <tbody>\n",
       "    <tr>\n",
       "      <th>10</th>\n",
       "      <td>2.0</td>\n",
       "    </tr>\n",
       "    <tr>\n",
       "      <th>73</th>\n",
       "      <td>2.0</td>\n",
       "    </tr>\n",
       "    <tr>\n",
       "      <th>188</th>\n",
       "      <td>2.0</td>\n",
       "    </tr>\n",
       "    <tr>\n",
       "      <th>191</th>\n",
       "      <td>2.0</td>\n",
       "    </tr>\n",
       "    <tr>\n",
       "      <th>360</th>\n",
       "      <td>2.0</td>\n",
       "    </tr>\n",
       "    <tr>\n",
       "      <th>...</th>\n",
       "      <td>...</td>\n",
       "    </tr>\n",
       "    <tr>\n",
       "      <th>3148</th>\n",
       "      <td>2.0</td>\n",
       "    </tr>\n",
       "    <tr>\n",
       "      <th>3242</th>\n",
       "      <td>2.0</td>\n",
       "    </tr>\n",
       "    <tr>\n",
       "      <th>3252</th>\n",
       "      <td>2.0</td>\n",
       "    </tr>\n",
       "    <tr>\n",
       "      <th>3261</th>\n",
       "      <td>2.0</td>\n",
       "    </tr>\n",
       "    <tr>\n",
       "      <th>3290</th>\n",
       "      <td>2.0</td>\n",
       "    </tr>\n",
       "  </tbody>\n",
       "</table>\n",
       "<p>110 rows × 1 columns</p>\n",
       "</div>"
      ],
      "text/plain": [
       "      C175_household members died or  injured because of the DEVICE\n",
       "10                                                  2.0            \n",
       "73                                                  2.0            \n",
       "188                                                 2.0            \n",
       "191                                                 2.0            \n",
       "360                                                 2.0            \n",
       "...                                                 ...            \n",
       "3148                                                2.0            \n",
       "3242                                                2.0            \n",
       "3252                                                2.0            \n",
       "3261                                                2.0            \n",
       "3290                                                2.0            \n",
       "\n",
       "[110 rows x 1 columns]"
      ]
     },
     "execution_count": 213,
     "metadata": {},
     "output_type": "execute_result"
    }
   ],
   "source": [
    "data_C175 = raw_data[['C175_household members died or  injured because of the DEVICE']]\n",
    "data_C175 = data_C175.dropna()\n",
    "\n",
    "\n",
    "data_C175_injuries = data_C175[data_C175['C175_household members died or  injured because of the DEVICE'] == 1.0]\n",
    "data_C175_no_injuries = data_C175[data_C175['C175_household members died or  injured because of the DEVICE'] == 2.0]\n",
    "\n",
    "nb_injuries_C175 = len(data_C175_injuries)\n",
    "nb_no_injuries_C175 = len(data_C175_no_injuries)\n",
    "total = nb_injuries_C175 + nb_no_injuries_C175\n",
    " \n",
    "injuries_C175_perc = 100*nb_injuries_C175/total\n",
    "no_injuries_C175_perc = 100*nb_no_injuries_C175/total\n",
    "\n",
    "percent = [injuries_C175_perc, no_injuries_C175_perc] \n",
    "\n",
    "print(percent)\n",
    "data_C175\n",
    "  "
   ]
  },
  {
   "cell_type": "markdown",
   "metadata": {},
   "source": [
    "### Results/ Comments\n",
    "\n",
    "The number of injuries here is of 0.38% et almost 0 for all the rest, which does ot correspond to the MTF survey, which has a %age of accidents of 4.7% Nationwide."
   ]
  }
 ],
 "metadata": {
  "kernelspec": {
   "display_name": "Python 3",
   "language": "python",
   "name": "python3"
  },
  "language_info": {
   "codemirror_mode": {
    "name": "ipython",
    "version": 3
   },
   "file_extension": ".py",
   "mimetype": "text/x-python",
   "name": "python",
   "nbconvert_exporter": "python",
   "pygments_lexer": "ipython3",
   "version": "3.7.6"
  }
 },
 "nbformat": 4,
 "nbformat_minor": 4
}
