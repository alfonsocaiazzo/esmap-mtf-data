{
 "cells": [
  {
   "cell_type": "code",
   "execution_count": 9,
   "metadata": {},
   "outputs": [],
   "source": [
    "# Preliminaries\n",
    "\n",
    "import numpy as np\n",
    "import pandas as pd\n",
    "import matplotlib.pyplot as plt\n",
    "from IPython.display import Image"
   ]
  },
  {
   "cell_type": "markdown",
   "metadata": {},
   "source": [
    "# The Multi-tier framework for measuring energy access\n",
    "\n",
    "This notebook analized the energy access data published by the \n",
    "[ESMAP Sector of the World Bank](https://mtfenergyaccess.esmap.org/country/rwanda), related to the energy access assessment\n",
    "in Rwanda.\n",
    "\n",
    "The assessment is based on the [Multi-Tier Framework](). In this approach, energy access is evaluated across a range of dimensions (called *attributes*). Along each attribute, each household is ranked in a \n",
    "**tier** (a level), from 0 (no access to energy) to 5 (full access to energy). The final energy access ranking\n",
    "is then defined as the **minimum** over all attributed.\n",
    "\n",
    "The report concerning the study in Rwanda can be downloaded [here](https://energydata.info/dataset/rwanda-multi-tier-framework-mtf-survey-2018)\n",
    "\n"
   ]
  },
  {
   "cell_type": "markdown",
   "metadata": {},
   "source": [
    "## Structure of the Database\n",
    "\n",
    "The questionnaire consists of ... Sections.\n",
    "\n",
    "- Section A: Household hoster, informations about the people of the household and their situation.\n",
    "\n",
    "- Section B: Household Characteristics (general informations about the habitat, water, bank, etc.)\n",
    "\n",
    "- Section C: Supply of Electricity\n",
    "\n",
    "- Section D: Willingness to pay for a Grid Connection\n",
    "\n",
    "- Section E: Willingness to pay for Solar Device \n",
    "\n",
    "- Section F: Kerosene/Fuel-based/Candle Lighting\n",
    "\n",
    "- Section G: Dry-Celle Batteries\n",
    "\n",
    "- Section H: Household Fuel Consumption\n",
    "\n",
    "- Section I: Use of Cookng Solutions\n",
    "\n",
    "- Section J: Space and wtaer heating \n",
    "\n",
    "- Section K: Willigness to pay for an Improved cookstove \n",
    "\n",
    "- Section L: Transportation and agricultural equipment ownership.\n",
    "\n",
    "- Section M: Household Land Ownership\n",
    "\n",
    "- Section N: Household Economic Shocks\n",
    "\n",
    "- Section O: Street Lighting \n",
    "\n",
    "- Section P: Time Use\n",
    "\n",
    "- Section Q: Health impacts\n",
    "\n",
    "- Section R: Attitudes, Satisfactions\n",
    "\n",
    "- Section S: Women's Empowerment\n",
    "\n",
    "- Section T: Household based business/entreprise\n",
    "\n"
   ]
  },
  {
   "cell_type": "code",
   "execution_count": 67,
   "metadata": {},
   "outputs": [],
   "source": [
    "# read all the relevant data\n",
    "\n",
    "# WARNING: Time consuming so better to avoid to load this one since. Use the one bellow instead.\n",
    "\n",
    "# main dataset excel:\n",
    "main = pd.read_excel('../raw_data/complete_dataset.xlsx',sheet_name = \"main_dataset\")\n",
    "\n"
   ]
  },
  {
   "cell_type": "code",
   "execution_count": 16,
   "metadata": {},
   "outputs": [],
   "source": [
    "# Main dataset faster to load\n",
    "main = pd.read_excel('../raw_data/xlsx/main.xlsx')\n",
    "\n",
    "#delete useless column\n",
    "del main['Unnamed: 0']"
   ]
  },
  {
   "cell_type": "code",
   "execution_count": 17,
   "metadata": {},
   "outputs": [
    {
     "data": {
      "text/html": [
       "<div>\n",
       "<style scoped>\n",
       "    .dataframe tbody tr th:only-of-type {\n",
       "        vertical-align: middle;\n",
       "    }\n",
       "\n",
       "    .dataframe tbody tr th {\n",
       "        vertical-align: top;\n",
       "    }\n",
       "\n",
       "    .dataframe thead th {\n",
       "        text-align: right;\n",
       "    }\n",
       "</style>\n",
       "<table border=\"1\" class=\"dataframe\">\n",
       "  <thead>\n",
       "    <tr style=\"text-align: right;\">\n",
       "      <th></th>\n",
       "      <th>Household Identification</th>\n",
       "      <th>Cluster</th>\n",
       "      <th>strata</th>\n",
       "      <th>Province</th>\n",
       "      <th>District</th>\n",
       "      <th>Sector</th>\n",
       "      <th>Cellule</th>\n",
       "      <th>Village</th>\n",
       "      <th>Respondent id</th>\n",
       "      <th>B2_household living in this dwelling for the entire year</th>\n",
       "      <th>...</th>\n",
       "      <th>T28_Solar home system</th>\n",
       "      <th>T28b_Size</th>\n",
       "      <th>T28c_What are the solar devices used for</th>\n",
       "      <th>DATE_START</th>\n",
       "      <th>TIME_START</th>\n",
       "      <th>DATE_END</th>\n",
       "      <th>TIME_END</th>\n",
       "      <th>Cluster.1</th>\n",
       "      <th>Basic sample weight calculation and calibration process</th>\n",
       "      <th>Locality</th>\n",
       "    </tr>\n",
       "  </thead>\n",
       "  <tbody>\n",
       "    <tr>\n",
       "      <th>0</th>\n",
       "      <td>1102020811001</td>\n",
       "      <td>1</td>\n",
       "      <td>11</td>\n",
       "      <td>City of Kigali</td>\n",
       "      <td>Nyarugenge</td>\n",
       "      <td>Kanyinya</td>\n",
       "      <td>Nzove</td>\n",
       "      <td>Ruyenzi</td>\n",
       "      <td>2</td>\n",
       "      <td>1</td>\n",
       "      <td>...</td>\n",
       "      <td>NaN</td>\n",
       "      <td>NaN</td>\n",
       "      <td>NaN</td>\n",
       "      <td>2016-11-18</td>\n",
       "      <td>12:05:00</td>\n",
       "      <td>2016-11-18</td>\n",
       "      <td>12:49:00</td>\n",
       "      <td>11</td>\n",
       "      <td>476617645263672</td>\n",
       "      <td>0</td>\n",
       "    </tr>\n",
       "    <tr>\n",
       "      <th>1</th>\n",
       "      <td>1102020811002</td>\n",
       "      <td>1</td>\n",
       "      <td>12</td>\n",
       "      <td>City of Kigali</td>\n",
       "      <td>Nyarugenge</td>\n",
       "      <td>Kanyinya</td>\n",
       "      <td>Nzove</td>\n",
       "      <td>Ruyenzi</td>\n",
       "      <td>1</td>\n",
       "      <td>1</td>\n",
       "      <td>...</td>\n",
       "      <td>NaN</td>\n",
       "      <td>NaN</td>\n",
       "      <td>NaN</td>\n",
       "      <td>2016-11-18</td>\n",
       "      <td>10:23:00</td>\n",
       "      <td>2016-11-18</td>\n",
       "      <td>11:26:00</td>\n",
       "      <td>12</td>\n",
       "      <td>370042022705078</td>\n",
       "      <td>0</td>\n",
       "    </tr>\n",
       "    <tr>\n",
       "      <th>2</th>\n",
       "      <td>1102020811003</td>\n",
       "      <td>1</td>\n",
       "      <td>12</td>\n",
       "      <td>City of Kigali</td>\n",
       "      <td>Nyarugenge</td>\n",
       "      <td>Kanyinya</td>\n",
       "      <td>Nzove</td>\n",
       "      <td>Ruyenzi</td>\n",
       "      <td>1</td>\n",
       "      <td>1</td>\n",
       "      <td>...</td>\n",
       "      <td>NaN</td>\n",
       "      <td>NaN</td>\n",
       "      <td>NaN</td>\n",
       "      <td>2016-11-18</td>\n",
       "      <td>11:32:00</td>\n",
       "      <td>2016-11-18</td>\n",
       "      <td>12:24:00</td>\n",
       "      <td>12</td>\n",
       "      <td>370042022705078</td>\n",
       "      <td>0</td>\n",
       "    </tr>\n",
       "    <tr>\n",
       "      <th>3</th>\n",
       "      <td>1102020811004</td>\n",
       "      <td>1</td>\n",
       "      <td>12</td>\n",
       "      <td>City of Kigali</td>\n",
       "      <td>Nyarugenge</td>\n",
       "      <td>Kanyinya</td>\n",
       "      <td>Nzove</td>\n",
       "      <td>Ruyenzi</td>\n",
       "      <td>1</td>\n",
       "      <td>1</td>\n",
       "      <td>...</td>\n",
       "      <td>NaN</td>\n",
       "      <td>NaN</td>\n",
       "      <td>NaN</td>\n",
       "      <td>2016-11-18</td>\n",
       "      <td>10:30:00</td>\n",
       "      <td>2016-11-18</td>\n",
       "      <td>11:17:00</td>\n",
       "      <td>12</td>\n",
       "      <td>370042022705078</td>\n",
       "      <td>0</td>\n",
       "    </tr>\n",
       "    <tr>\n",
       "      <th>4</th>\n",
       "      <td>1102020811005</td>\n",
       "      <td>1</td>\n",
       "      <td>12</td>\n",
       "      <td>City of Kigali</td>\n",
       "      <td>Nyarugenge</td>\n",
       "      <td>Kanyinya</td>\n",
       "      <td>Nzove</td>\n",
       "      <td>Ruyenzi</td>\n",
       "      <td>1</td>\n",
       "      <td>1</td>\n",
       "      <td>...</td>\n",
       "      <td>2.0</td>\n",
       "      <td>NaN</td>\n",
       "      <td>NaN</td>\n",
       "      <td>2016-11-18</td>\n",
       "      <td>10:14:00</td>\n",
       "      <td>2016-11-18</td>\n",
       "      <td>11:28:00</td>\n",
       "      <td>12</td>\n",
       "      <td>370042022705078</td>\n",
       "      <td>0</td>\n",
       "    </tr>\n",
       "  </tbody>\n",
       "</table>\n",
       "<p>5 rows × 730 columns</p>\n",
       "</div>"
      ],
      "text/plain": [
       "   Household Identification  Cluster  strata        Province    District  \\\n",
       "0             1102020811001        1      11  City of Kigali  Nyarugenge   \n",
       "1             1102020811002        1      12  City of Kigali  Nyarugenge   \n",
       "2             1102020811003        1      12  City of Kigali  Nyarugenge   \n",
       "3             1102020811004        1      12  City of Kigali  Nyarugenge   \n",
       "4             1102020811005        1      12  City of Kigali  Nyarugenge   \n",
       "\n",
       "     Sector Cellule  Village  Respondent id  \\\n",
       "0  Kanyinya   Nzove  Ruyenzi              2   \n",
       "1  Kanyinya   Nzove  Ruyenzi              1   \n",
       "2  Kanyinya   Nzove  Ruyenzi              1   \n",
       "3  Kanyinya   Nzove  Ruyenzi              1   \n",
       "4  Kanyinya   Nzove  Ruyenzi              1   \n",
       "\n",
       "   B2_household living in this dwelling for the entire year  ...  \\\n",
       "0                                                  1         ...   \n",
       "1                                                  1         ...   \n",
       "2                                                  1         ...   \n",
       "3                                                  1         ...   \n",
       "4                                                  1         ...   \n",
       "\n",
       "   T28_Solar home system  T28b_Size  T28c_What are the solar devices used for  \\\n",
       "0                    NaN        NaN                                       NaN   \n",
       "1                    NaN        NaN                                       NaN   \n",
       "2                    NaN        NaN                                       NaN   \n",
       "3                    NaN        NaN                                       NaN   \n",
       "4                    2.0        NaN                                       NaN   \n",
       "\n",
       "   DATE_START  TIME_START   DATE_END  TIME_END  Cluster.1  \\\n",
       "0  2016-11-18    12:05:00 2016-11-18  12:49:00         11   \n",
       "1  2016-11-18    10:23:00 2016-11-18  11:26:00         12   \n",
       "2  2016-11-18    11:32:00 2016-11-18  12:24:00         12   \n",
       "3  2016-11-18    10:30:00 2016-11-18  11:17:00         12   \n",
       "4  2016-11-18    10:14:00 2016-11-18  11:28:00         12   \n",
       "\n",
       "   Basic sample weight calculation and calibration process  Locality  \n",
       "0                                    476617645263672               0  \n",
       "1                                    370042022705078               0  \n",
       "2                                    370042022705078               0  \n",
       "3                                    370042022705078               0  \n",
       "4                                    370042022705078               0  \n",
       "\n",
       "[5 rows x 730 columns]"
      ]
     },
     "execution_count": 17,
     "metadata": {},
     "output_type": "execute_result"
    }
   ],
   "source": [
    "# Quick look on the main dataset\n",
    "main.head()"
   ]
  },
  {
   "cell_type": "markdown",
   "metadata": {},
   "source": [
    "## Description of the sample\n",
    "\n",
    "Before starting the tier computation, we extract some general information about the sample (residential area, type of electricity/cooking solution used, etc.)\n"
   ]
  },
  {
   "cell_type": "markdown",
   "metadata": {},
   "source": [
    "### Type of habitat\n",
    "\n",
    "The question related to the habitat is in the main dataset (**B5**: \"What is the type of habitat?\"). Answers 1-3 are considered **rural**, answers 4-6 are considered **urban**."
   ]
  },
  {
   "cell_type": "code",
   "execution_count": 13,
   "metadata": {},
   "outputs": [
    {
     "data": {
      "image/png": "[encoded data removed]",
      "text/plain": [
       "<IPython.core.display.Image object>"
      ]
     },
     "execution_count": 13,
     "metadata": {},
     "output_type": "execute_result"
    }
   ],
   "source": [
    "# Here is a screenshot of the questionnaire. \n",
    "Image(\"../references/rural_urban.png\")"
   ]
  },
  {
   "cell_type": "markdown",
   "metadata": {},
   "source": [
    "To always have the information about urban/rural, we add a new column to the main dataset:"
   ]
  },
  {
   "cell_type": "code",
   "execution_count": 22,
   "metadata": {},
   "outputs": [],
   "source": [
    "# We add a new column to the main dataset, with values 'urban','rural', or 'other'\n",
    "habitat_question = \"B5_What is the type of habitat\"\n",
    "habitat = []\n",
    "for index,row in main.iterrows():\n",
    "    if row[habitat_question]==4 or row[habitat_question]==5 or row[habitat_question]==6:\n",
    "        habitat.append('urban')\n",
    "    elif row[habitat_question]==1 or row[habitat_question]==2 or row[habitat_question]==3:\n",
    "        habitat.append('rural')\n",
    "    else:\n",
    "        habitat.append('other')\n",
    "        \n",
    "main['habitat'] = habitat"
   ]
  },
  {
   "cell_type": "markdown",
   "metadata": {},
   "source": [
    "## Access to modern cooking solutions\n",
    "\n",
    "The questions related to the access to modern cooking solutions are in the section I of the quesitonaire. \n",
    "\n",
    "The main challeng is to provide all households access to cooking solutions that are clean, efficient, convinient, affordable, safe and available. \n",
    "\n",
    "In Rwanda, a high percentage of households still use highly polluting stoves, and a very low percentage use clean fuel."
   ]
  },
  {
   "cell_type": "markdown",
   "metadata": {},
   "source": [
    "### Health and Safety \n",
    "\n",
    "For this section, we are focusing on safety and health related  to the questions I31_(1 to 8).\n",
    "\n",
    "In the case of Rwanda, three different categories are considered:\n",
    "- Major injury (death, permanent health damage, burns/fire/poisoning, severe cough or respiratory problem)\n",
    "- Minor injury (e.g., watery eyes)\n",
    "- No accidents\n",
    "\n",
    "Households where major injury has occurred are ranked in **Tier 3**, otherwise in **Tier 5**.\n",
    "\n",
    "The question for the evaluation of the Tier is **I31**: \"In the last 12 months, what type of harm/injury did your household face from this cookstove?\"\n",
    "\n",
    "**Remark**[Naomi] In the report, it seems that the World consideres only injuries from the **primary** cookstove. One should check how to get this out of the data\n",
    "\n",
    "--> I.3 : In the last 12 months, which cookstove did your household use for preparing meals (up to 5 listed).\n"
   ]
  },
  {
   "cell_type": "code",
   "execution_count": 19,
   "metadata": {},
   "outputs": [
    {
     "data": {
      "image/png": "[encoded data removed]",
      "text/plain": [
       "<IPython.core.display.Image object>"
      ]
     },
     "execution_count": 19,
     "metadata": {},
     "output_type": "execute_result"
    }
   ],
   "source": [
    "# Here is a screenshot of the questionnaire. \n",
    "Image(\"../references/cooking_injuries.png\")"
   ]
  },
  {
   "cell_type": "markdown",
   "metadata": {},
   "source": [
    "There are therefore 8 options for this (multiple choice) question, which are coded as I31_1, ...,I31_8 in the database. Let us create a list of labels for this."
   ]
  },
  {
   "cell_type": "code",
   "execution_count": 20,
   "metadata": {},
   "outputs": [],
   "source": [
    "# section I\n",
    "section_I = pd.read_csv('../raw_data/csv/I.csv')\n",
    "codebook_I = pd.read_excel('../references/codebook.xlsx', sheet_name= 'Section I')\n"
   ]
  },
  {
   "cell_type": "code",
   "execution_count": 26,
   "metadata": {},
   "outputs": [],
   "source": [
    "# Type of harm/injuries in the table\n",
    "safety_questions_code = ['I31_'+str(k) for k in range(1,9)]\n"
   ]
  },
  {
   "cell_type": "code",
   "execution_count": 31,
   "metadata": {
    "scrolled": true
   },
   "outputs": [
    {
     "name": "stdout",
     "output_type": "stream",
     "text": [
      "Statistics according to cookstoves \n",
      "Death or permanent damage  =  1  ( 0.03 %)\n",
      "Burns/fire/poisoning  =  45  ( 1.24 %)\n",
      "Severe cough/respiratory problem  =  29  ( 0.8 %)\n",
      "Other major injury  =  8  ( 0.22 %)\n",
      "Minor injury  =  78  ( 2.14 %)\n",
      "Fire with no injury  =  25  ( 0.69 %)\n",
      "Itchy/watery eyes  =  5  ( 0.14 %)\n",
      "None  =  3447  ( 94.75 %)\n"
     ]
    }
   ],
   "source": [
    "# Note: we can get the total number of answers per categoty from the 'codebook'\n",
    "choices_id = []\n",
    "choices_count = []\n",
    "choices_label = []\n",
    "for index,row in codebook_I.iterrows():\n",
    "    if 'I31' in row['Variable']:\n",
    "        choices_id.append(int(row['Variable'].replace('I31_','')))\n",
    "        choices_count.append(row['Obs'])\n",
    "        choices_label.append(row['Label'].replace(row['Variable']+'_',''))\n",
    "\n",
    "total = sum(choices_count)\n",
    "print(\"Statistics according to cookstoves \")\n",
    "for l in range(0,len(choices_label)):\n",
    "    print(choices_label[l],\" = \",choices_count[l],\" (\", round(choices_count[l]/total*100,2),\"%)\")\n",
    "\n"
   ]
  },
  {
   "cell_type": "markdown",
   "metadata": {},
   "source": [
    "**Remark**: To get the data **per household** we have to go throught the database using the HHID key"
   ]
  },
  {
   "cell_type": "code",
   "execution_count": 34,
   "metadata": {},
   "outputs": [
    {
     "data": {
      "text/html": [
       "<div>\n",
       "<style scoped>\n",
       "    .dataframe tbody tr th:only-of-type {\n",
       "        vertical-align: middle;\n",
       "    }\n",
       "\n",
       "    .dataframe tbody tr th {\n",
       "        vertical-align: top;\n",
       "    }\n",
       "\n",
       "    .dataframe thead th {\n",
       "        text-align: right;\n",
       "    }\n",
       "</style>\n",
       "<table border=\"1\" class=\"dataframe\">\n",
       "  <thead>\n",
       "    <tr style=\"text-align: right;\">\n",
       "      <th></th>\n",
       "      <th>habitat</th>\n",
       "      <th>HHID</th>\n",
       "      <th>I31_1</th>\n",
       "      <th>I31_2</th>\n",
       "      <th>I31_3</th>\n",
       "      <th>I31_4</th>\n",
       "      <th>I31_5</th>\n",
       "      <th>I31_6</th>\n",
       "      <th>I31_7</th>\n",
       "      <th>I31_8</th>\n",
       "    </tr>\n",
       "  </thead>\n",
       "  <tbody>\n",
       "    <tr>\n",
       "      <th>0</th>\n",
       "      <td>urban</td>\n",
       "      <td>1102020811001</td>\n",
       "      <td>0.0</td>\n",
       "      <td>0.0</td>\n",
       "      <td>0.0</td>\n",
       "      <td>0.0</td>\n",
       "      <td>0.0</td>\n",
       "      <td>0.0</td>\n",
       "      <td>0.0</td>\n",
       "      <td>8.0</td>\n",
       "    </tr>\n",
       "    <tr>\n",
       "      <th>1</th>\n",
       "      <td>urban</td>\n",
       "      <td>1102020811002</td>\n",
       "      <td>0.0</td>\n",
       "      <td>0.0</td>\n",
       "      <td>0.0</td>\n",
       "      <td>0.0</td>\n",
       "      <td>0.0</td>\n",
       "      <td>0.0</td>\n",
       "      <td>0.0</td>\n",
       "      <td>8.0</td>\n",
       "    </tr>\n",
       "    <tr>\n",
       "      <th>2</th>\n",
       "      <td>urban</td>\n",
       "      <td>1102020811003</td>\n",
       "      <td>0.0</td>\n",
       "      <td>0.0</td>\n",
       "      <td>0.0</td>\n",
       "      <td>0.0</td>\n",
       "      <td>0.0</td>\n",
       "      <td>0.0</td>\n",
       "      <td>0.0</td>\n",
       "      <td>16.0</td>\n",
       "    </tr>\n",
       "    <tr>\n",
       "      <th>3</th>\n",
       "      <td>urban</td>\n",
       "      <td>1102020811004</td>\n",
       "      <td>0.0</td>\n",
       "      <td>0.0</td>\n",
       "      <td>0.0</td>\n",
       "      <td>0.0</td>\n",
       "      <td>0.0</td>\n",
       "      <td>0.0</td>\n",
       "      <td>0.0</td>\n",
       "      <td>8.0</td>\n",
       "    </tr>\n",
       "    <tr>\n",
       "      <th>4</th>\n",
       "      <td>urban</td>\n",
       "      <td>1102020811005</td>\n",
       "      <td>0.0</td>\n",
       "      <td>0.0</td>\n",
       "      <td>0.0</td>\n",
       "      <td>0.0</td>\n",
       "      <td>0.0</td>\n",
       "      <td>0.0</td>\n",
       "      <td>0.0</td>\n",
       "      <td>8.0</td>\n",
       "    </tr>\n",
       "    <tr>\n",
       "      <th>...</th>\n",
       "      <td>...</td>\n",
       "      <td>...</td>\n",
       "      <td>...</td>\n",
       "      <td>...</td>\n",
       "      <td>...</td>\n",
       "      <td>...</td>\n",
       "      <td>...</td>\n",
       "      <td>...</td>\n",
       "      <td>...</td>\n",
       "      <td>...</td>\n",
       "    </tr>\n",
       "    <tr>\n",
       "      <th>3290</th>\n",
       "      <td>rural</td>\n",
       "      <td>5714040157078</td>\n",
       "      <td>0.0</td>\n",
       "      <td>0.0</td>\n",
       "      <td>0.0</td>\n",
       "      <td>0.0</td>\n",
       "      <td>0.0</td>\n",
       "      <td>0.0</td>\n",
       "      <td>0.0</td>\n",
       "      <td>8.0</td>\n",
       "    </tr>\n",
       "    <tr>\n",
       "      <th>3291</th>\n",
       "      <td>rural</td>\n",
       "      <td>5714040157079</td>\n",
       "      <td>0.0</td>\n",
       "      <td>0.0</td>\n",
       "      <td>0.0</td>\n",
       "      <td>0.0</td>\n",
       "      <td>0.0</td>\n",
       "      <td>0.0</td>\n",
       "      <td>0.0</td>\n",
       "      <td>8.0</td>\n",
       "    </tr>\n",
       "    <tr>\n",
       "      <th>3292</th>\n",
       "      <td>rural</td>\n",
       "      <td>5714040157082</td>\n",
       "      <td>0.0</td>\n",
       "      <td>0.0</td>\n",
       "      <td>0.0</td>\n",
       "      <td>0.0</td>\n",
       "      <td>0.0</td>\n",
       "      <td>0.0</td>\n",
       "      <td>0.0</td>\n",
       "      <td>8.0</td>\n",
       "    </tr>\n",
       "    <tr>\n",
       "      <th>3293</th>\n",
       "      <td>rural</td>\n",
       "      <td>5714040157083</td>\n",
       "      <td>0.0</td>\n",
       "      <td>0.0</td>\n",
       "      <td>0.0</td>\n",
       "      <td>0.0</td>\n",
       "      <td>0.0</td>\n",
       "      <td>0.0</td>\n",
       "      <td>0.0</td>\n",
       "      <td>8.0</td>\n",
       "    </tr>\n",
       "    <tr>\n",
       "      <th>3294</th>\n",
       "      <td>rural</td>\n",
       "      <td>5714040157084</td>\n",
       "      <td>0.0</td>\n",
       "      <td>0.0</td>\n",
       "      <td>0.0</td>\n",
       "      <td>0.0</td>\n",
       "      <td>0.0</td>\n",
       "      <td>0.0</td>\n",
       "      <td>0.0</td>\n",
       "      <td>8.0</td>\n",
       "    </tr>\n",
       "  </tbody>\n",
       "</table>\n",
       "<p>3295 rows × 10 columns</p>\n",
       "</div>"
      ],
      "text/plain": [
       "     habitat           HHID  I31_1  I31_2  I31_3  I31_4  I31_5  I31_6  I31_7  \\\n",
       "0      urban  1102020811001    0.0    0.0    0.0    0.0    0.0    0.0    0.0   \n",
       "1      urban  1102020811002    0.0    0.0    0.0    0.0    0.0    0.0    0.0   \n",
       "2      urban  1102020811003    0.0    0.0    0.0    0.0    0.0    0.0    0.0   \n",
       "3      urban  1102020811004    0.0    0.0    0.0    0.0    0.0    0.0    0.0   \n",
       "4      urban  1102020811005    0.0    0.0    0.0    0.0    0.0    0.0    0.0   \n",
       "...      ...            ...    ...    ...    ...    ...    ...    ...    ...   \n",
       "3290   rural  5714040157078    0.0    0.0    0.0    0.0    0.0    0.0    0.0   \n",
       "3291   rural  5714040157079    0.0    0.0    0.0    0.0    0.0    0.0    0.0   \n",
       "3292   rural  5714040157082    0.0    0.0    0.0    0.0    0.0    0.0    0.0   \n",
       "3293   rural  5714040157083    0.0    0.0    0.0    0.0    0.0    0.0    0.0   \n",
       "3294   rural  5714040157084    0.0    0.0    0.0    0.0    0.0    0.0    0.0   \n",
       "\n",
       "      I31_8  \n",
       "0       8.0  \n",
       "1       8.0  \n",
       "2      16.0  \n",
       "3       8.0  \n",
       "4       8.0  \n",
       "...     ...  \n",
       "3290    8.0  \n",
       "3291    8.0  \n",
       "3292    8.0  \n",
       "3293    8.0  \n",
       "3294    8.0  \n",
       "\n",
       "[3295 rows x 10 columns]"
      ]
     },
     "execution_count": 34,
     "metadata": {},
     "output_type": "execute_result"
    }
   ],
   "source": [
    "# Check the number of household\n",
    "n_household = len(np.unique(section_I[\"HHID\"]))\n",
    "section_I_HHID = section_I.groupby(['HHID']).sum()\n",
    "\n",
    "# Let's add the type of habitat to the section I so we can separate according to rural/Urban info. \n",
    "injuries_df = pd.DataFrame.from_dict({'habitat': main['habitat'],'HHID': np.unique(section_I[\"HHID\"])})\n",
    "injuries_df\n",
    "for i in safety_questions_code:\n",
    "    injuries_df[i] = np.array(section_I_HHID[i])\n",
    "\n",
    "    \n",
    "injuries_df   "
   ]
  },
  {
   "cell_type": "code",
   "execution_count": 37,
   "metadata": {},
   "outputs": [
    {
     "name": "stdout",
     "output_type": "stream",
     "text": [
      "total {'major_accident': 2.4582701062215477, 'minor_accident': 3.1866464339908953, 'no_accident': 93.71775417298937}\n",
      "urban {'major_accident': 1.4722536806342015, 'minor_accident': 1.1325028312570782, 'no_accident': 96.82899207248018}\n",
      "rural {'major_accident': 2.682313495389774, 'minor_accident': 3.93964794635373, 'no_accident': 92.62363788767813}\n"
     ]
    }
   ],
   "source": [
    "def get_multiple_choice_values(df,questions):\n",
    "    values = []\n",
    "    for i in questions:\n",
    "        values.append(sum(df[i]>0))\n",
    "\n",
    "    # We return a dictionary with the count per injury type\n",
    "    return {\n",
    "        'major_accident': 100*(values[0]+values[1]+values[2]+values[3])/len(df),\n",
    "        'minor_accident': 100*(values[4]+values[5]+values[6])/len(df),\n",
    "        'no_accident': 100*(values[7])/len(df)\n",
    "    }\n",
    "\n",
    "# now we can calculate the results for total sample, urban and rural habitat using the same function\n",
    "total_injuries = get_multiple_choice_values(injuries_df,safety_questions_code)\n",
    "urban_injuries = get_multiple_choice_values(injuries_df.loc[injuries_df['habitat']=='urban'],safety_questions_code)\n",
    "rural_injuries = get_multiple_choice_values(injuries_df.loc[injuries_df['habitat']=='rural'],safety_questions_code)\n",
    "\n",
    "print('total',total_injuries)\n",
    "print('urban',urban_injuries)\n",
    "print('rural',rural_injuries)\n"
   ]
  },
  {
   "cell_type": "code",
   "execution_count": 39,
   "metadata": {},
   "outputs": [
    {
     "data": {
      "image/png": "[encoded data removed]",
      "text/plain": [
       "<Figure size 864x576 with 1 Axes>"
      ]
     },
     "metadata": {
      "needs_background": "light"
     },
     "output_type": "display_data"
    }
   ],
   "source": [
    "# grouped bar chart\n",
    "labels = ['No injury','Minor injury','Major injury']\n",
    "\n",
    "total_count = [total_injuries['no_accident'],total_injuries['minor_accident'],total_injuries['major_accident']]\n",
    "urban_count = [urban_injuries['no_accident'],urban_injuries['minor_accident'],urban_injuries['major_accident']]\n",
    "rural_count = [rural_injuries['no_accident'],rural_injuries['minor_accident'],rural_injuries['major_accident']]\n",
    "\n",
    "x = np.arange(len(labels))  # the label locations\n",
    "width = 0.25  # the width of the bars\n",
    "\n",
    "fig,ax = plt.subplots(figsize=(12,8))\n",
    "rects1 = ax.bar(x - width, total_count, width, label='Total Sample')\n",
    "rects2 = ax.bar(x, urban_count, width, label='Urban Households')\n",
    "rects3 = ax.bar(x + width, rural_count, width, label='Rural Households')\n",
    "\n",
    "def autolabel(rects):\n",
    "    \"\"\"Attach a text label above each bar in *rects*, displaying its height.\"\"\"\n",
    "    for rect in rects:\n",
    "        height = rect.get_height()\n",
    "        ax.annotate('{}%'.format(round(height,1)),\n",
    "                    xy=(rect.get_x() + rect.get_width() / 2, height),\n",
    "                    xytext=(0, 3),  # 3 points vertical offset\n",
    "                    textcoords=\"offset points\",\n",
    "                    ha='center', va='bottom')\n",
    "\n",
    "\n",
    "autolabel(rects1)\n",
    "autolabel(rects2)\n",
    "autolabel(rects3)\n",
    "\n",
    "fig.tight_layout()\n",
    "\n",
    "# Add some text for labels, title and custom x-axis tick labels, etc.\n",
    "\n",
    "ax.set_xticks(x)\n",
    "ax.set_xticklabels(labels)\n",
    "ax.legend()\n",
    "plt.show()"
   ]
  },
  {
   "cell_type": "code",
   "execution_count": 45,
   "metadata": {},
   "outputs": [
    {
     "data": {
      "text/plain": [
       "<AxesSubplot:title={'center':'Proportion of total accident'}>"
      ]
     },
     "execution_count": 45,
     "metadata": {},
     "output_type": "execute_result"
    },
    {
     "data": {
      "image/png": "[encoded data removed]",
      "text/plain": [
       "<Figure size 720x720 with 1 Axes>"
      ]
     },
     "metadata": {
      "needs_background": "light"
     },
     "output_type": "display_data"
    }
   ],
   "source": [
    "percent = [total_injuries['no_accident'], total_injuries['minor_accident'],total_injuries['major_accident']] \n",
    "index = ['No accident', 'Minor accident', 'Major accident']\n",
    "pie_ = pd.DataFrame({'Number of Households': percent},\n",
    "                  index = ['{0} - {1:1.2f} %'.format(i,j) for i,j in zip(index, percent)])\n",
    "\n",
    "pie_.plot.bar(y ='Number of Households', figsize=(10, 10), title = 'Proportion of total accident')\n"
   ]
  },
  {
   "cell_type": "markdown",
   "metadata": {},
   "source": [
    "### Results \n",
    "- 2.5% of households are ranked in Safety Tier 3 (in the Rwanda Report: 2.2%)\n",
    "- 97.5% of households are ranked in Safety Tier 5\n",
    "\n",
    "#### Per Habitat:\n",
    "- MTF urban Tier 3 : 1.2% - here: 1.48%\n",
    "- MTF rural Tier 3 : 2.1% - here: 2.70%\n"
   ]
  },
  {
   "cell_type": "markdown",
   "metadata": {},
   "source": [
    "____________________________________"
   ]
  },
  {
   "cell_type": "markdown",
   "metadata": {},
   "source": [
    "## Access to electricity\n",
    "\n",
    "The questions related to the access to electricity are in section C. \n",
    "\n",
    "Rwanda’s greatest challenge is to provide access to at least basic electricity supply (Tier\n",
    "1 or above) to households without any access (Tier 0).\n",
    "\n",
    "To improve access to electricity among grid-connected households, Rwanda needs to\n",
    "improve Reliability, Quality, and Availability. \n",
    "\n",
    "### Type of electricity\n"
   ]
  },
  {
   "cell_type": "code",
   "execution_count": 103,
   "metadata": {},
   "outputs": [
    {
     "data": {
      "image/png": "[encoded data removed]",
      "text/plain": [
       "<IPython.core.display.Image object>"
      ]
     },
     "execution_count": 103,
     "metadata": {},
     "output_type": "execute_result"
    }
   ],
   "source": [
    "Image('../references/main_elec_source.png')"
   ]
  },
  {
   "cell_type": "markdown",
   "metadata": {},
   "source": [
    "#### Connection to the national grid\n",
    "\n",
    "**In the questionaire:**\n",
    "\n",
    "C.2: Is the household connected to the national grid?\n"
   ]
  },
  {
   "cell_type": "code",
   "execution_count": 75,
   "metadata": {},
   "outputs": [
    {
     "data": {
      "text/html": [
       "<div>\n",
       "<style scoped>\n",
       "    .dataframe tbody tr th:only-of-type {\n",
       "        vertical-align: middle;\n",
       "    }\n",
       "\n",
       "    .dataframe tbody tr th {\n",
       "        vertical-align: top;\n",
       "    }\n",
       "\n",
       "    .dataframe thead th {\n",
       "        text-align: right;\n",
       "    }\n",
       "</style>\n",
       "<table border=\"1\" class=\"dataframe\">\n",
       "  <thead>\n",
       "    <tr style=\"text-align: right;\">\n",
       "      <th></th>\n",
       "      <th>Household Identification</th>\n",
       "      <th>C2_household connected to the national grid</th>\n",
       "      <th>habitat</th>\n",
       "    </tr>\n",
       "  </thead>\n",
       "  <tbody>\n",
       "    <tr>\n",
       "      <th>0</th>\n",
       "      <td>1102020811001</td>\n",
       "      <td>1</td>\n",
       "      <td>urban</td>\n",
       "    </tr>\n",
       "    <tr>\n",
       "      <th>1</th>\n",
       "      <td>1102020811002</td>\n",
       "      <td>2</td>\n",
       "      <td>urban</td>\n",
       "    </tr>\n",
       "    <tr>\n",
       "      <th>2</th>\n",
       "      <td>1102020811003</td>\n",
       "      <td>2</td>\n",
       "      <td>urban</td>\n",
       "    </tr>\n",
       "    <tr>\n",
       "      <th>3</th>\n",
       "      <td>1102020811004</td>\n",
       "      <td>2</td>\n",
       "      <td>urban</td>\n",
       "    </tr>\n",
       "    <tr>\n",
       "      <th>4</th>\n",
       "      <td>1102020811005</td>\n",
       "      <td>2</td>\n",
       "      <td>urban</td>\n",
       "    </tr>\n",
       "    <tr>\n",
       "      <th>...</th>\n",
       "      <td>...</td>\n",
       "      <td>...</td>\n",
       "      <td>...</td>\n",
       "    </tr>\n",
       "    <tr>\n",
       "      <th>3290</th>\n",
       "      <td>5714040157078</td>\n",
       "      <td>2</td>\n",
       "      <td>rural</td>\n",
       "    </tr>\n",
       "    <tr>\n",
       "      <th>3291</th>\n",
       "      <td>5714040157079</td>\n",
       "      <td>1</td>\n",
       "      <td>rural</td>\n",
       "    </tr>\n",
       "    <tr>\n",
       "      <th>3292</th>\n",
       "      <td>5714040157082</td>\n",
       "      <td>1</td>\n",
       "      <td>rural</td>\n",
       "    </tr>\n",
       "    <tr>\n",
       "      <th>3293</th>\n",
       "      <td>5714040157083</td>\n",
       "      <td>1</td>\n",
       "      <td>rural</td>\n",
       "    </tr>\n",
       "    <tr>\n",
       "      <th>3294</th>\n",
       "      <td>5714040157084</td>\n",
       "      <td>2</td>\n",
       "      <td>rural</td>\n",
       "    </tr>\n",
       "  </tbody>\n",
       "</table>\n",
       "<p>3295 rows × 3 columns</p>\n",
       "</div>"
      ],
      "text/plain": [
       "      Household Identification  C2_household connected to the national grid  \\\n",
       "0                1102020811001                                            1   \n",
       "1                1102020811002                                            2   \n",
       "2                1102020811003                                            2   \n",
       "3                1102020811004                                            2   \n",
       "4                1102020811005                                            2   \n",
       "...                        ...                                          ...   \n",
       "3290             5714040157078                                            2   \n",
       "3291             5714040157079                                            1   \n",
       "3292             5714040157082                                            1   \n",
       "3293             5714040157083                                            1   \n",
       "3294             5714040157084                                            2   \n",
       "\n",
       "     habitat  \n",
       "0      urban  \n",
       "1      urban  \n",
       "2      urban  \n",
       "3      urban  \n",
       "4      urban  \n",
       "...      ...  \n",
       "3290   rural  \n",
       "3291   rural  \n",
       "3292   rural  \n",
       "3293   rural  \n",
       "3294   rural  \n",
       "\n",
       "[3295 rows x 3 columns]"
      ]
     },
     "execution_count": 75,
     "metadata": {},
     "output_type": "execute_result"
    }
   ],
   "source": [
    "# Data section C2\n",
    "\n",
    "# Enter the question for the access to the national grid \n",
    "question_grid = 'C2_household connected to the national grid'\n",
    "\n",
    "data_C2 = main[['Household Identification', question_grid, 'habitat']]\n",
    "\n",
    "data_C2\n"
   ]
  },
  {
   "cell_type": "markdown",
   "metadata": {},
   "source": [
    "##### Nationwide access to the grid:"
   ]
  },
  {
   "cell_type": "code",
   "execution_count": null,
   "metadata": {},
   "outputs": [],
   "source": [
    "# 1 = Yes, 2= No \n",
    "access_grid = len(data_C2[data_C2[question_grid] == 1])\n",
    "no_access_grid = len(data_C2[data_C2[question_grid] == 2]) \n",
    "\n",
    "percent = [100*access_grid/n_household,100*no_access_grid/n_household]\n"
   ]
  },
  {
   "cell_type": "code",
   "execution_count": 67,
   "metadata": {},
   "outputs": [
    {
     "data": {
      "text/plain": [
       "<AxesSubplot:title={'center':'Proportion of households who have access to the grid'}>"
      ]
     },
     "execution_count": 67,
     "metadata": {},
     "output_type": "execute_result"
    },
    {
     "data": {
      "image/png": "[encoded data removed]",
      "text/plain": [
       "<Figure size 720x720 with 1 Axes>"
      ]
     },
     "metadata": {
      "needs_background": "light"
     },
     "output_type": "display_data"
    }
   ],
   "source": [
    "percent = [100*access_grid/n_household,100*no_access_grid/n_household]\n",
    "index = ['Access to the grid', 'No access to the grid']\n",
    "pie_ = pd.DataFrame({'Proportion of Households': percent},\n",
    "                  index = ['{0} - {1:1.2f} %'.format(i,j) for i,j in zip(index, percent)])\n",
    "\n",
    "pie_.plot.bar(y ='Proportion of Households', figsize=(10, 10), title = 'Proportion of households who have access to the grid')\n"
   ]
  },
  {
   "cell_type": "markdown",
   "metadata": {},
   "source": [
    "**According to the MTF report:**\n",
    "\n",
    "23.5% of households have access through the grid, and 5.1% have access through off-grid solutions, mostly solar. \n",
    "\n",
    "\n",
    "**Here:**\n",
    "\n",
    "We have very different results here: almost the hald have access to the national grid. \n"
   ]
  },
  {
   "cell_type": "markdown",
   "metadata": {},
   "source": [
    "##### Rural/Urban access to the grid:"
   ]
  },
  {
   "cell_type": "code",
   "execution_count": 74,
   "metadata": {},
   "outputs": [
    {
     "data": {
      "text/plain": [
       "[41.114836546521374, 58.885163453478626]"
      ]
     },
     "execution_count": 74,
     "metadata": {},
     "output_type": "execute_result"
    }
   ],
   "source": [
    "# Separation of rural/urban in the dataset\n",
    "rural_C2 = data_C2[data_C2['habitat'] == 'rural']\n",
    "urban_C2 = data_C2[data_C2['habitat'] == 'urban']\n",
    "\n",
    "\n",
    "# Urban access to the grid\n",
    "urban_access_grid = len(urban_C2[urban_C2[question_grid] == 1])\n",
    "urban_no_access_grid = len(urban_C2[urban_C2[question_grid] == 2]) \n",
    "\n",
    "urban_percent = [100*urban_access_grid/len(urban_C2),100*urban_no_access_grid/len(urban_C2)]\n",
    "\n",
    "\n",
    "# Rural access to the grid\n",
    "rural_access_grid = len(rural_C2[rural_C2[question_grid] == 1])\n",
    "rural_no_access_grid = len(rural_C2[rural_C2[question_grid] == 2]) \n",
    "\n",
    "rural_percent = [100*rural_access_grid/len(rural_C2),100*rural_no_access_grid/len(rural_C2)]\n",
    "\n"
   ]
  },
  {
   "cell_type": "code",
   "execution_count": 77,
   "metadata": {},
   "outputs": [
    {
     "data": {
      "image/png": "[encoded data removed]",
      "text/plain": [
       "<Figure size 864x576 with 1 Axes>"
      ]
     },
     "metadata": {
      "needs_background": "light"
     },
     "output_type": "display_data"
    }
   ],
   "source": [
    "# grouped bar chart\n",
    "labels = ['Connected to the grid','Not connected to the grid']\n",
    "\n",
    "x = np.arange(len(labels))  # the label locations\n",
    "width = 0.25  # the width of the bars\n",
    "\n",
    "fig,ax = plt.subplots(figsize=(12,8))\n",
    "rects1 = ax.bar(x - width, percent, width, label='Total Sample')\n",
    "rects2 = ax.bar(x, urban_percent, width, label='Urban Households')\n",
    "rects3 = ax.bar(x + width, rural_percent, width, label='Rural Households')\n",
    "\n",
    "def autolabel(rects):\n",
    "    \"\"\"Attach a text label above each bar in *rects*, displaying its height.\"\"\"\n",
    "    for rect in rects:\n",
    "        height = rect.get_height()\n",
    "        ax.annotate('{}%'.format(round(height,1)),\n",
    "                    xy=(rect.get_x() + rect.get_width() / 2, height),\n",
    "                    xytext=(0, 3),  # 3 points vertical offset\n",
    "                    textcoords=\"offset points\",\n",
    "                    ha='center', va='bottom')\n",
    "\n",
    "\n",
    "autolabel(rects1)\n",
    "autolabel(rects2)\n",
    "autolabel(rects3)\n",
    "\n",
    "fig.tight_layout()\n",
    "\n",
    "# Add some text for labels, title and custom x-axis tick labels, etc.\n",
    "\n",
    "ax.set_xticks(x)\n",
    "ax.set_xticklabels(labels)\n",
    "ax.legend()\n",
    "plt.show()"
   ]
  },
  {
   "cell_type": "markdown",
   "metadata": {},
   "source": [
    "**According to the MTF report**\n",
    "\n",
    "\n",
    "77.4% of urban households are connected to the grid, compared with 15.6% of rural households.\n",
    "\n",
    "**Here**\n",
    "\n",
    "\n",
    "71.8% of urban households are connected to the grid, compared with 41.1% of rural households. "
   ]
  },
  {
   "cell_type": "markdown",
   "metadata": {},
   "source": [
    "### Security of electricity \n",
    "\n",
    "Check if among the different type of electricity, some injuries/damages occured.\n",
    "\n",
    "\n",
    "\n",
    "##### Type of electicity  and its related security question:\n",
    "\n",
    "- 1- Electricity from National Grid C41\n",
    "- 2- Electricity from Mini Grid C83\n",
    "- 3- Electric geneator set C112\n",
    "- 4- Rechargeable Battery C130\n",
    "- 5- Pico-Hydro C142\n",
    "- 6- Solar device C175"
   ]
  },
  {
   "cell_type": "markdown",
   "metadata": {},
   "source": [
    "##### National grid "
   ]
  },
  {
   "cell_type": "code",
   "execution_count": 81,
   "metadata": {},
   "outputs": [
    {
     "data": {
      "text/plain": [
       "<AxesSubplot:title={'center':'Proportion of accident with the use of the national grid'}>"
      ]
     },
     "execution_count": 81,
     "metadata": {},
     "output_type": "execute_result"
    },
    {
     "data": {
      "image/png": "[encoded data removed]",
      "text/plain": [
       "<Figure size 720x720 with 1 Axes>"
      ]
     },
     "metadata": {
      "needs_background": "light"
     },
     "output_type": "display_data"
    }
   ],
   "source": [
    "# 1- Safety from National Grid C41\n",
    "\n",
    "\n",
    "question_injury_nat_grid =  'C41_household member died or damaged because of electricity'\n",
    "\n",
    "data_C41 = main[[question_injury_nat_grid]]\n",
    "data_C41 = data_C41.dropna()\n",
    "data_C41_injuries = data_C41[data_C41[question_injury_nat_grid] == 1.0]\n",
    "data_C41_no_injuries = data_C41[data_C41[question_injury_nat_grid] == 2.0]\n",
    "\n",
    "\n",
    "nb_injuries_C41 = len(data_C41_injuries)\n",
    "nb_no_injuries_C41 = len(data_C41_no_injuries)\n",
    "total = nb_injuries_C41 + nb_no_injuries_C41\n",
    " \n",
    "injuries_C41_perc = 100*nb_injuries_C41/total\n",
    "no_injuries_C41_perc = 100*nb_no_injuries_C41/total\n",
    "\n",
    "percent = [injuries_C41_perc, no_injuries_C41_perc] \n",
    "index = ['Accident', 'No accident']\n",
    "pie_ = pd.DataFrame({'Number of Households': percent},\n",
    "                  index = ['{0} - {1:1.2f} %'.format(i,j) for i,j in zip(index, percent)])\n",
    "\n",
    "pie_.plot.bar(y ='Number of Households', figsize=(10, 10), title = 'Proportion of accident with the use of the national grid')\n",
    "\n"
   ]
  },
  {
   "cell_type": "markdown",
   "metadata": {},
   "source": [
    "##### Mini-Grid"
   ]
  },
  {
   "cell_type": "code",
   "execution_count": 99,
   "metadata": {},
   "outputs": [
    {
     "name": "stdout",
     "output_type": "stream",
     "text": [
      "%age of injuries: 0.0 %\n"
     ]
    },
    {
     "data": {
      "text/html": [
       "<div>\n",
       "<style scoped>\n",
       "    .dataframe tbody tr th:only-of-type {\n",
       "        vertical-align: middle;\n",
       "    }\n",
       "\n",
       "    .dataframe tbody tr th {\n",
       "        vertical-align: top;\n",
       "    }\n",
       "\n",
       "    .dataframe thead th {\n",
       "        text-align: right;\n",
       "    }\n",
       "</style>\n",
       "<table border=\"1\" class=\"dataframe\">\n",
       "  <thead>\n",
       "    <tr style=\"text-align: right;\">\n",
       "      <th></th>\n",
       "      <th>C83_household members die or injured because of the grid electricity</th>\n",
       "    </tr>\n",
       "  </thead>\n",
       "  <tbody>\n",
       "    <tr>\n",
       "      <th>653</th>\n",
       "      <td>2.0</td>\n",
       "    </tr>\n",
       "    <tr>\n",
       "      <th>756</th>\n",
       "      <td>2.0</td>\n",
       "    </tr>\n",
       "    <tr>\n",
       "      <th>1493</th>\n",
       "      <td>2.0</td>\n",
       "    </tr>\n",
       "    <tr>\n",
       "      <th>1710</th>\n",
       "      <td>2.0</td>\n",
       "    </tr>\n",
       "    <tr>\n",
       "      <th>1735</th>\n",
       "      <td>2.0</td>\n",
       "    </tr>\n",
       "    <tr>\n",
       "      <th>2369</th>\n",
       "      <td>2.0</td>\n",
       "    </tr>\n",
       "    <tr>\n",
       "      <th>2371</th>\n",
       "      <td>2.0</td>\n",
       "    </tr>\n",
       "    <tr>\n",
       "      <th>2953</th>\n",
       "      <td>2.0</td>\n",
       "    </tr>\n",
       "  </tbody>\n",
       "</table>\n",
       "</div>"
      ],
      "text/plain": [
       "      C83_household members die or injured because of the grid electricity\n",
       "653                                                 2.0                   \n",
       "756                                                 2.0                   \n",
       "1493                                                2.0                   \n",
       "1710                                                2.0                   \n",
       "1735                                                2.0                   \n",
       "2369                                                2.0                   \n",
       "2371                                                2.0                   \n",
       "2953                                                2.0                   "
      ]
     },
     "execution_count": 99,
     "metadata": {},
     "output_type": "execute_result"
    }
   ],
   "source": [
    "# Enter the label of the question:\n",
    "question_injury_mini_grid = 'C83_household members die or injured because of the grid electricity'\n",
    "\n",
    "\n",
    "data_C83 = main[[question_injury_mini_grid]]\n",
    "data_C83 = data_C83.dropna()\n",
    "data_C83_injuries = data_C83[data_C83[question_injury_mini_grid] == 1.0]\n",
    "data_C83_no_injuries = data_C83[data_C83[question_injury_mini_grid] == 2.0]\n",
    "\n",
    "nb_injuries_C83 = len(data_C83_injuries)\n",
    "nb_no_injuries_C83 = len(data_C83_no_injuries)\n",
    "total = nb_injuries_C83 + nb_no_injuries_C83\n",
    " \n",
    "injuries_C83_perc = 100*nb_injuries_C83/total\n",
    "no_injuries_C83_perc = 100*nb_no_injuries_C83/total\n",
    "\n",
    "percent = [injuries_C83_perc, no_injuries_C83_perc]\n",
    "print('%age of injuries:', injuries_C83_perc, '%')\n",
    "\n",
    "data_C83\n"
   ]
  },
  {
   "cell_type": "markdown",
   "metadata": {},
   "source": [
    "According to the dataset, no injuris reported with the mini grid (only No for available answers)."
   ]
  },
  {
   "cell_type": "markdown",
   "metadata": {},
   "source": [
    "##### Generator"
   ]
  },
  {
   "cell_type": "code",
   "execution_count": 98,
   "metadata": {},
   "outputs": [
    {
     "name": "stdout",
     "output_type": "stream",
     "text": [
      "%age of injuries: 0.0 %\n"
     ]
    },
    {
     "data": {
      "text/html": [
       "<div>\n",
       "<style scoped>\n",
       "    .dataframe tbody tr th:only-of-type {\n",
       "        vertical-align: middle;\n",
       "    }\n",
       "\n",
       "    .dataframe tbody tr th {\n",
       "        vertical-align: top;\n",
       "    }\n",
       "\n",
       "    .dataframe thead th {\n",
       "        text-align: right;\n",
       "    }\n",
       "</style>\n",
       "<table border=\"1\" class=\"dataframe\">\n",
       "  <thead>\n",
       "    <tr style=\"text-align: right;\">\n",
       "      <th></th>\n",
       "      <th>C112_household members died or injured because of the generator</th>\n",
       "    </tr>\n",
       "  </thead>\n",
       "  <tbody>\n",
       "    <tr>\n",
       "      <th>1361</th>\n",
       "      <td>2.0</td>\n",
       "    </tr>\n",
       "  </tbody>\n",
       "</table>\n",
       "</div>"
      ],
      "text/plain": [
       "      C112_household members died or injured because of the generator\n",
       "1361                                                2.0              "
      ]
     },
     "execution_count": 98,
     "metadata": {},
     "output_type": "execute_result"
    }
   ],
   "source": [
    "# Enter the label of the question:\n",
    "question_injury_gene = 'C112_household members died or injured because of the generator'\n",
    "\n",
    "\n",
    "data_C112 = main[[question_injury_gene]]\n",
    "data_C112 = data_C112.dropna()\n",
    "data_C112_injuries = data_C112[data_C112[question_injury_gene] == 1.0]\n",
    "data_C112_no_injuries = data_C112[data_C112[question_injury_gene] == 2.0]\n",
    "\n",
    "nb_injuries_C112 = len(data_C112_injuries)\n",
    "nb_no_injuries_C112 = len(data_C112_no_injuries)\n",
    "total = nb_injuries_C112 + nb_no_injuries_C112\n",
    " \n",
    "injuries_C112_perc = 100*nb_injuries_C112/total\n",
    "no_injuries_C112_perc = 100*nb_no_injuries_C112/total\n",
    "\n",
    "percent = [injuries_C112_perc, no_injuries_C112_perc] \n",
    "\n",
    "print('%age of injuries:', injuries_C112_perc, '%')\n",
    "\n",
    "data_C112"
   ]
  },
  {
   "cell_type": "markdown",
   "metadata": {},
   "source": [
    "According to the dataset, no injuris reported with the generator."
   ]
  },
  {
   "cell_type": "markdown",
   "metadata": {},
   "source": [
    "##### Rechargeable batterie"
   ]
  },
  {
   "cell_type": "code",
   "execution_count": 97,
   "metadata": {},
   "outputs": [
    {
     "data": {
      "text/html": [
       "<div>\n",
       "<style scoped>\n",
       "    .dataframe tbody tr th:only-of-type {\n",
       "        vertical-align: middle;\n",
       "    }\n",
       "\n",
       "    .dataframe tbody tr th {\n",
       "        vertical-align: top;\n",
       "    }\n",
       "\n",
       "    .dataframe thead th {\n",
       "        text-align: right;\n",
       "    }\n",
       "</style>\n",
       "<table border=\"1\" class=\"dataframe\">\n",
       "  <thead>\n",
       "    <tr style=\"text-align: right;\">\n",
       "      <th></th>\n",
       "      <th>C130_household members died  injured because of the rechargeable batteries</th>\n",
       "    </tr>\n",
       "  </thead>\n",
       "  <tbody>\n",
       "    <tr>\n",
       "      <th>101</th>\n",
       "      <td>2.0</td>\n",
       "    </tr>\n",
       "    <tr>\n",
       "      <th>2690</th>\n",
       "      <td>2.0</td>\n",
       "    </tr>\n",
       "    <tr>\n",
       "      <th>2897</th>\n",
       "      <td>2.0</td>\n",
       "    </tr>\n",
       "    <tr>\n",
       "      <th>3042</th>\n",
       "      <td>2.0</td>\n",
       "    </tr>\n",
       "  </tbody>\n",
       "</table>\n",
       "</div>"
      ],
      "text/plain": [
       "      C130_household members died  injured because of the rechargeable batteries\n",
       "101                                                 2.0                         \n",
       "2690                                                2.0                         \n",
       "2897                                                2.0                         \n",
       "3042                                                2.0                         "
      ]
     },
     "execution_count": 97,
     "metadata": {},
     "output_type": "execute_result"
    }
   ],
   "source": [
    "question_injury_bat = 'C130_household members died  injured because of the rechargeable batteries'\n",
    "data_C130 = main[[question_injury_bat]]\n",
    "data_C130 = data_C130.dropna()\n",
    "data_C130"
   ]
  },
  {
   "cell_type": "markdown",
   "metadata": {},
   "source": [
    "According to the dataset, no injuris reported with the rechargeable batterie."
   ]
  },
  {
   "cell_type": "markdown",
   "metadata": {},
   "source": [
    "##### Pico-hydro system"
   ]
  },
  {
   "cell_type": "code",
   "execution_count": 100,
   "metadata": {},
   "outputs": [
    {
     "data": {
      "text/html": [
       "<div>\n",
       "<style scoped>\n",
       "    .dataframe tbody tr th:only-of-type {\n",
       "        vertical-align: middle;\n",
       "    }\n",
       "\n",
       "    .dataframe tbody tr th {\n",
       "        vertical-align: top;\n",
       "    }\n",
       "\n",
       "    .dataframe thead th {\n",
       "        text-align: right;\n",
       "    }\n",
       "</style>\n",
       "<table border=\"1\" class=\"dataframe\">\n",
       "  <thead>\n",
       "    <tr style=\"text-align: right;\">\n",
       "      <th></th>\n",
       "      <th>C142_household members died injured because of the pico-hydro system</th>\n",
       "    </tr>\n",
       "  </thead>\n",
       "  <tbody>\n",
       "    <tr>\n",
       "      <th>1493</th>\n",
       "      <td>2.0</td>\n",
       "    </tr>\n",
       "    <tr>\n",
       "      <th>2365</th>\n",
       "      <td>2.0</td>\n",
       "    </tr>\n",
       "    <tr>\n",
       "      <th>2366</th>\n",
       "      <td>2.0</td>\n",
       "    </tr>\n",
       "    <tr>\n",
       "      <th>2367</th>\n",
       "      <td>2.0</td>\n",
       "    </tr>\n",
       "    <tr>\n",
       "      <th>2370</th>\n",
       "      <td>2.0</td>\n",
       "    </tr>\n",
       "  </tbody>\n",
       "</table>\n",
       "</div>"
      ],
      "text/plain": [
       "      C142_household members died injured because of the pico-hydro system\n",
       "1493                                                2.0                   \n",
       "2365                                                2.0                   \n",
       "2366                                                2.0                   \n",
       "2367                                                2.0                   \n",
       "2370                                                2.0                   "
      ]
     },
     "execution_count": 100,
     "metadata": {},
     "output_type": "execute_result"
    }
   ],
   "source": [
    "question_injury_pico ='C142_household members died injured because of the pico-hydro system'\n",
    "data_C142 = raw_data[[question_injury_pico]]\n",
    "data_C142 = data_C142.dropna()\n",
    "data_C142"
   ]
  },
  {
   "cell_type": "markdown",
   "metadata": {},
   "source": [
    "According to the dataset, no injuris reported with the pico-hydro system."
   ]
  },
  {
   "cell_type": "markdown",
   "metadata": {},
   "source": [
    "##### Solar device"
   ]
  },
  {
   "cell_type": "code",
   "execution_count": 101,
   "metadata": {},
   "outputs": [
    {
     "name": "stdout",
     "output_type": "stream",
     "text": [
      "[0.0, 100.0]\n"
     ]
    },
    {
     "data": {
      "text/html": [
       "<div>\n",
       "<style scoped>\n",
       "    .dataframe tbody tr th:only-of-type {\n",
       "        vertical-align: middle;\n",
       "    }\n",
       "\n",
       "    .dataframe tbody tr th {\n",
       "        vertical-align: top;\n",
       "    }\n",
       "\n",
       "    .dataframe thead th {\n",
       "        text-align: right;\n",
       "    }\n",
       "</style>\n",
       "<table border=\"1\" class=\"dataframe\">\n",
       "  <thead>\n",
       "    <tr style=\"text-align: right;\">\n",
       "      <th></th>\n",
       "      <th>C175_household members died or  injured because of the DEVICE</th>\n",
       "    </tr>\n",
       "  </thead>\n",
       "  <tbody>\n",
       "    <tr>\n",
       "      <th>10</th>\n",
       "      <td>2.0</td>\n",
       "    </tr>\n",
       "    <tr>\n",
       "      <th>73</th>\n",
       "      <td>2.0</td>\n",
       "    </tr>\n",
       "    <tr>\n",
       "      <th>188</th>\n",
       "      <td>2.0</td>\n",
       "    </tr>\n",
       "    <tr>\n",
       "      <th>191</th>\n",
       "      <td>2.0</td>\n",
       "    </tr>\n",
       "    <tr>\n",
       "      <th>360</th>\n",
       "      <td>2.0</td>\n",
       "    </tr>\n",
       "    <tr>\n",
       "      <th>...</th>\n",
       "      <td>...</td>\n",
       "    </tr>\n",
       "    <tr>\n",
       "      <th>3148</th>\n",
       "      <td>2.0</td>\n",
       "    </tr>\n",
       "    <tr>\n",
       "      <th>3242</th>\n",
       "      <td>2.0</td>\n",
       "    </tr>\n",
       "    <tr>\n",
       "      <th>3252</th>\n",
       "      <td>2.0</td>\n",
       "    </tr>\n",
       "    <tr>\n",
       "      <th>3261</th>\n",
       "      <td>2.0</td>\n",
       "    </tr>\n",
       "    <tr>\n",
       "      <th>3290</th>\n",
       "      <td>2.0</td>\n",
       "    </tr>\n",
       "  </tbody>\n",
       "</table>\n",
       "<p>110 rows × 1 columns</p>\n",
       "</div>"
      ],
      "text/plain": [
       "      C175_household members died or  injured because of the DEVICE\n",
       "10                                                  2.0            \n",
       "73                                                  2.0            \n",
       "188                                                 2.0            \n",
       "191                                                 2.0            \n",
       "360                                                 2.0            \n",
       "...                                                 ...            \n",
       "3148                                                2.0            \n",
       "3242                                                2.0            \n",
       "3252                                                2.0            \n",
       "3261                                                2.0            \n",
       "3290                                                2.0            \n",
       "\n",
       "[110 rows x 1 columns]"
      ]
     },
     "execution_count": 101,
     "metadata": {},
     "output_type": "execute_result"
    }
   ],
   "source": [
    "question_injury_pico = 'C175_household members died or  injured because of the DEVICE'\n",
    "\n",
    "data_C175 = raw_data[[question_injury_pico]]\n",
    "data_C175 = data_C175.dropna()\n",
    "\n",
    "\n",
    "data_C175_injuries = data_C175[data_C175[question_injury_pico] == 1.0]\n",
    "data_C175_no_injuries = data_C175[data_C175[question_injury_pico] == 2.0]\n",
    "\n",
    "nb_injuries_C175 = len(data_C175_injuries)\n",
    "nb_no_injuries_C175 = len(data_C175_no_injuries)\n",
    "total = nb_injuries_C175 + nb_no_injuries_C175\n",
    " \n",
    "injuries_C175_perc = 100*nb_injuries_C175/total\n",
    "no_injuries_C175_perc = 100*nb_no_injuries_C175/total\n",
    "\n",
    "percent = [injuries_C175_perc, no_injuries_C175_perc] \n",
    "\n",
    "print(percent)\n",
    "data_C175\n",
    "  "
   ]
  },
  {
   "cell_type": "markdown",
   "metadata": {},
   "source": [
    "### Results/ Comments\n",
    "\n",
    "The number of injuries here is of 0.38% for national grid et 0% for  the other types of energy, which does ot correspond to the MTF survey, which has a %age of accidents of 4.7% Nationwide."
   ]
  },
  {
   "cell_type": "markdown",
   "metadata": {},
   "source": [
    "# Type of Electricity "
   ]
  },
  {
   "cell_type": "code",
   "execution_count": 106,
   "metadata": {},
   "outputs": [
    {
     "data": {
      "image/png": "[encoded data removed]",
      "text/plain": [
       "<IPython.core.display.Image object>"
      ]
     },
     "execution_count": 106,
     "metadata": {},
     "output_type": "execute_result"
    }
   ],
   "source": [
    "Image('../references/main_elec_source.png')"
   ]
  },
  {
   "cell_type": "code",
   "execution_count": 110,
   "metadata": {},
   "outputs": [
    {
     "data": {
      "text/html": [
       "<div>\n",
       "<style scoped>\n",
       "    .dataframe tbody tr th:only-of-type {\n",
       "        vertical-align: middle;\n",
       "    }\n",
       "\n",
       "    .dataframe tbody tr th {\n",
       "        vertical-align: top;\n",
       "    }\n",
       "\n",
       "    .dataframe thead th {\n",
       "        text-align: right;\n",
       "    }\n",
       "</style>\n",
       "<table border=\"1\" class=\"dataframe\">\n",
       "  <thead>\n",
       "    <tr style=\"text-align: right;\">\n",
       "      <th></th>\n",
       "      <th>Household Identification</th>\n",
       "      <th>C182_which is the source that you use most of the time</th>\n",
       "      <th>habitat</th>\n",
       "    </tr>\n",
       "  </thead>\n",
       "  <tbody>\n",
       "    <tr>\n",
       "      <th>0</th>\n",
       "      <td>1102020811001</td>\n",
       "      <td>1.0</td>\n",
       "      <td>urban</td>\n",
       "    </tr>\n",
       "    <tr>\n",
       "      <th>1</th>\n",
       "      <td>1102020811002</td>\n",
       "      <td>8.0</td>\n",
       "      <td>urban</td>\n",
       "    </tr>\n",
       "    <tr>\n",
       "      <th>2</th>\n",
       "      <td>1102020811003</td>\n",
       "      <td>8.0</td>\n",
       "      <td>urban</td>\n",
       "    </tr>\n",
       "    <tr>\n",
       "      <th>3</th>\n",
       "      <td>1102020811004</td>\n",
       "      <td>8.0</td>\n",
       "      <td>urban</td>\n",
       "    </tr>\n",
       "    <tr>\n",
       "      <th>4</th>\n",
       "      <td>1102020811005</td>\n",
       "      <td>8.0</td>\n",
       "      <td>urban</td>\n",
       "    </tr>\n",
       "    <tr>\n",
       "      <th>...</th>\n",
       "      <td>...</td>\n",
       "      <td>...</td>\n",
       "      <td>...</td>\n",
       "    </tr>\n",
       "    <tr>\n",
       "      <th>3290</th>\n",
       "      <td>5714040157078</td>\n",
       "      <td>5.0</td>\n",
       "      <td>rural</td>\n",
       "    </tr>\n",
       "    <tr>\n",
       "      <th>3291</th>\n",
       "      <td>5714040157079</td>\n",
       "      <td>1.0</td>\n",
       "      <td>rural</td>\n",
       "    </tr>\n",
       "    <tr>\n",
       "      <th>3292</th>\n",
       "      <td>5714040157082</td>\n",
       "      <td>1.0</td>\n",
       "      <td>rural</td>\n",
       "    </tr>\n",
       "    <tr>\n",
       "      <th>3293</th>\n",
       "      <td>5714040157083</td>\n",
       "      <td>4.0</td>\n",
       "      <td>rural</td>\n",
       "    </tr>\n",
       "    <tr>\n",
       "      <th>3294</th>\n",
       "      <td>5714040157084</td>\n",
       "      <td>8.0</td>\n",
       "      <td>rural</td>\n",
       "    </tr>\n",
       "  </tbody>\n",
       "</table>\n",
       "<p>3295 rows × 3 columns</p>\n",
       "</div>"
      ],
      "text/plain": [
       "      Household Identification  \\\n",
       "0                1102020811001   \n",
       "1                1102020811002   \n",
       "2                1102020811003   \n",
       "3                1102020811004   \n",
       "4                1102020811005   \n",
       "...                        ...   \n",
       "3290             5714040157078   \n",
       "3291             5714040157079   \n",
       "3292             5714040157082   \n",
       "3293             5714040157083   \n",
       "3294             5714040157084   \n",
       "\n",
       "      C182_which is the source that you use most of the time habitat  \n",
       "0                                                   1.0        urban  \n",
       "1                                                   8.0        urban  \n",
       "2                                                   8.0        urban  \n",
       "3                                                   8.0        urban  \n",
       "4                                                   8.0        urban  \n",
       "...                                                 ...          ...  \n",
       "3290                                                5.0        rural  \n",
       "3291                                                1.0        rural  \n",
       "3292                                                1.0        rural  \n",
       "3293                                                4.0        rural  \n",
       "3294                                                8.0        rural  \n",
       "\n",
       "[3295 rows x 3 columns]"
      ]
     },
     "execution_count": 110,
     "metadata": {},
     "output_type": "execute_result"
    }
   ],
   "source": [
    "question_main_source =  'C182_which is the source that you use most of the time'\n",
    "\n",
    "data_C182 = main[['Household Identification', question_main_source, 'habitat']]\n",
    "\n",
    "data_C182"
   ]
  },
  {
   "cell_type": "code",
   "execution_count": 114,
   "metadata": {},
   "outputs": [],
   "source": [
    "# Nationwide \n",
    "n_nat_grid = len(data_C182[data_C182[question_main_source] == 1.0])\n",
    "n_min_grid = len(data_C182[data_C182[question_main_source] == 2.0])\n",
    "n_gene = len(data_C182[data_C182[question_main_source] == 3.0])\n",
    "n_solar_home = len(data_C182[data_C182[question_main_source] == 4.0])\n",
    "n_solar_lantern = len(data_C182[data_C182[question_main_source] == 5.0])\n",
    "n_bat = len(data_C182[data_C182[question_main_source] == 6.0])\n",
    "n_pico = len(data_C182[data_C182[question_main_source] == 7.0])\n",
    "n_no_elec = len(data_C182[data_C182[question_main_source] == 8.0])\n",
    "\n",
    "total = len(data_C182)\n",
    "\n",
    "tot_percent = [100*n_nat_grid/len(data_C182),100*n_min_grid/len(data_C182),100*n_gene/len(data_C182),100*n_solar_home/len(data_C182),100*n_solar_lantern/len(data_C182),100*n_bat/len(data_C182),100*n_pico/len(data_C182),100*n_no_elec/len(data_C182)]\n"
   ]
  },
  {
   "cell_type": "code",
   "execution_count": 116,
   "metadata": {},
   "outputs": [],
   "source": [
    "# Rural/Urban\n",
    "\n",
    "# Separation of rural/urban in the dataset\n",
    "rural_C182 = data_C182[data_C182['habitat'] == 'rural']\n",
    "urban_C182 = data_C182[data_C182['habitat'] == 'urban']\n",
    "\n",
    "\n",
    "# Urban access to the grid\n",
    "urban_nat_grid = len(urban_C182[urban_C182[question_main_source] == 1.0])\n",
    "urban_mini_grid = len(urban_C182[urban_C182[question_main_source] == 2.0]) \n",
    "urban_gene = len(urban_C182[urban_C182[question_main_source] == 3.0])\n",
    "urban_solar_home = len(urban_C182[urban_C182[question_main_source] == 4.0]) \n",
    "urban_solar_lantern = len(urban_C182[urban_C182[question_main_source] == 5.0])\n",
    "urban_bat = len(urban_C182[urban_C182[question_main_source] == 6.0]) \n",
    "urban_pico = len(urban_C182[urban_C182[question_main_source] == 7.0])\n",
    "urban_no_elec = len(urban_C182[urban_C182[question_main_source] == 8.0]) \n",
    "\n",
    "\n",
    "urban_percent = [100*urban_nat_grid/len(urban_C182),100*urban_mini_grid/len(urban_C182),100*urban_gene/len(urban_C182),100*urban_solar_home/len(urban_C182),100*urban_solar_lantern/len(urban_C182),100*urban_bat/len(urban_C182),100*urban_pico/len(urban_C182),100*urban_no_elec/len(urban_C182)]\n",
    "\n",
    "\n",
    "# Rural access to the grid\n",
    "rural_nat_grid = len(rural_C182[rural_C182[question_main_source] == 1.0])\n",
    "rural_mini_grid = len(rural_C182[rural_C182[question_main_source] == 2.0]) \n",
    "rural_gene = len(rural_C182[rural_C182[question_main_source] == 3.0])\n",
    "rural_solar_home = len(rural_C182[rural_C182[question_main_source] == 4.0]) \n",
    "rural_solar_lantern = len(rural_C182[rural_C182[question_main_source] == 5.0])\n",
    "rural_bat = len(rural_C182[rural_C182[question_main_source] == 6.0]) \n",
    "rural_pico = len(rural_C182[rural_C182[question_main_source] == 7.0])\n",
    "rural_no_elec = len(rural_C182[rural_C182[question_main_source] == 8.0]) \n",
    "\n",
    "\n",
    "rural_percent = [100*rural_nat_grid/len(rural_C182),100*rural_mini_grid/len(rural_C182),100*rural_gene/len(rural_C182),100*rural_solar_home/len(rural_C182),100*rural_solar_lantern/len(rural_C182),100*rural_bat/len(rural_C182),100*rural_pico/len(rural_C182),100*rural_no_elec/len(rural_C182)]\n"
   ]
  },
  {
   "cell_type": "code",
   "execution_count": 117,
   "metadata": {},
   "outputs": [
    {
     "data": {
      "image/png": "[encoded data removed]",
      "text/plain": [
       "<Figure size 864x576 with 1 Axes>"
      ]
     },
     "metadata": {
      "needs_background": "light"
     },
     "output_type": "display_data"
    }
   ],
   "source": [
    "# grouped bar chart\n",
    "labels = ['National grid','Mini Grid', 'Generator', 'Solar home', 'Solar lantern/Lightning system', 'Rechargeable batterie', 'Pico-Hydro', 'No electricity']\n",
    "\n",
    "x = np.arange(len(labels))  # the label locations\n",
    "width = 0.25  # the width of the bars\n",
    "\n",
    "fig,ax = plt.subplots(figsize=(12,8))\n",
    "rects1 = ax.bar(x - width, tot_percent, width, label='Total Sample')\n",
    "rects2 = ax.bar(x, urban_percent, width, label='Urban Households')\n",
    "rects3 = ax.bar(x + width, rural_percent, width, label='Rural Households')\n",
    "\n",
    "\n",
    "\n",
    "def autolabel(rects):\n",
    "    \"\"\"Attach a text label above each bar in *rects*, displaying its height.\"\"\"\n",
    "    for rect in rects:\n",
    "        height = rect.get_height()\n",
    "        ax.annotate('{}%'.format(round(height,1)),\n",
    "                    xy=(rect.get_x() + rect.get_width() / 2, height),\n",
    "                    xytext=(0, 3),  # 3 points vertical offset\n",
    "                    textcoords=\"offset points\",\n",
    "                    ha='center', va='bottom')\n",
    "\n",
    "\n",
    "autolabel(rects1)\n",
    "autolabel(rects2)\n",
    "autolabel(rects3)\n",
    "\n",
    "fig.tight_layout()\n",
    "\n",
    "# Add some text for labels, title and custom x-axis tick labels, etc.\n",
    "\n",
    "ax.set_xticks(x)\n",
    "ax.set_xticklabels(labels)\n",
    "ax.legend()\n",
    "plt.show()"
   ]
  },
  {
   "cell_type": "markdown",
   "metadata": {},
   "source": [
    "#### Results/ Comparisons \n",
    "\n",
    "**According to the MTF report**\n",
    "\n",
    "77.4% of urban households are connected to the grid, compared with 15.6% of rural\n",
    "households.\n",
    "\n",
    "Nationwide, 28.6% of households have access to at least one source of\n",
    "electricity: 23.5% of households have access through the grid, and 5.1% have access through off-grid solutions.\n",
    "\n",
    "**Here**\n",
    "\n",
    "70.8% of urban households are connected to the grid, compared with 39.1% of rural\n",
    "households.\n",
    "\n",
    "Nationwide, 50.4% of households have access to at least one source of\n",
    "electricity: 47.8% of households have access through the grid, and 2.6% have access through off-grid solutions. \n"
   ]
  },
  {
   "cell_type": "markdown",
   "metadata": {},
   "source": [
    "### Rq: Change urban/rural proportions "
   ]
  },
  {
   "cell_type": "markdown",
   "metadata": {},
   "source": [
    "## Availability of electricity during the day.\n",
    "\n",
    "The question is: How many hours do you actually use the [DEVICE] each day for lighting and other applications during typical months ?\n",
    "\n",
    "\n",
    "- 1- Electricity from National Grid C28.b\n",
    "- 2- Electricity from Mini Grid C68.b\n",
    "- 3- Electric geneator set C107.b\n",
    "- 4- Rechargeable Battery C127.b\n",
    "- 5- Pico-Hydro C137.b\n",
    "- 6- Solar device C174.b"
   ]
  },
  {
   "cell_type": "code",
   "execution_count": null,
   "metadata": {},
   "outputs": [],
   "source": [
    "question_availability = 'C28b_hours of electricity do you use each day and night from the grid (Typical Months)'\n",
    "\n",
    "data_C28 = main['C28b_hours of electricity do you use each day and night from the grid (Typical Months)']"
   ]
  }
 ],
 "metadata": {
  "kernelspec": {
   "display_name": "Python 3",
   "language": "python",
   "name": "python3"
  },
  "language_info": {
   "codemirror_mode": {
    "name": "ipython",
    "version": 3
   },
   "file_extension": ".py",
   "mimetype": "text/x-python",
   "name": "python",
   "nbconvert_exporter": "python",
   "pygments_lexer": "ipython3",
   "version": "3.8.3"
  }
 },
 "nbformat": 4,
 "nbformat_minor": 4
}
