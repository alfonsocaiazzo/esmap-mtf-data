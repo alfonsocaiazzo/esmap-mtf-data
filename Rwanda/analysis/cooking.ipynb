{
 "cells": [
  {
   "cell_type": "markdown",
   "metadata": {},
   "source": [
    "# The Multi-Tier Framework for measuring access to cooking solutions (Rwanda)"
   ]
  },
  {
   "cell_type": "markdown",
   "metadata": {},
   "source": [
    "### Preliminaries"
   ]
  },
  {
   "cell_type": "markdown",
   "metadata": {},
   "source": [
    "The data refers to the Rwanda analysis obtained from [The World Bank](https://mtfenergyaccess.esmap.org/country/rwanda):\n",
    "\n",
    "    According to the MTF survey in 2016, almost all of Rwandan households (99.6%) cook with biomass, and a third of households use an improved cookstove as their primary stove; more than half of households use a three-stone stove, mainly burning firewood.  Urban and rural households have different cooking patterns.  Urban households cook predominantly with charcoal (63.4%), followed by firewood (34.1%) while rural households mostly cook with firewood (94.7%).  Based on MTF tier analysis, in Rwanda, more than 95% of households (98.9%) are in Tier 2 or below.\n",
    "\n",
    "    To learn more about energy access in Rwanda, download MTF’s Country Diagnostic Report, [here](https://mtfenergyaccess.esmap.org/force-download/1395).\n",
    "\n",
    "\n",
    "The *codebook* (i.e., the dictionary of variables codes and meaning) is available [here](../references/codebook.xlsx) in this repository. \n",
    "The final version of the questionnaire can be found [here](../references/rwanda_questionnaire.pdf), while the country report, which contains a description of how variables have been interpreted, can be found [here](../references/mtf_energy_access_country_diagnostic_report_rwanda_6.2018.pdf)\n",
    "\n",
    "\n",
    "Be sure to have a look to these documents before running the Notebook.\n",
    "\n"
   ]
  },
  {
   "cell_type": "code",
   "execution_count": 1,
   "metadata": {},
   "outputs": [],
   "source": [
    "import numpy as np\n",
    "import pandas as pd\n",
    "import matplotlib.pyplot as plt\n",
    "\n",
    "# Household Dataset\n",
    "hh_df = pd.read_excel(\"../raw_data/complete_dataset.xlsx\", sheet_name=\"main_dataset\")"
   ]
  },
  {
   "cell_type": "markdown",
   "metadata": {},
   "source": [
    "## General information\n",
    "\n",
    "### Typologies of cookstoves\n",
    "Cookstoves in Rwanda were classified into four categories (see annex 2 of the report for detailed information):\n",
    "\n",
    "- Three-stone stove. A pot balanced on three stones over an open fire. Fuel use and emissions are high, and\n",
    "thermal efficiency and safety are low. Three-stone stoves usually use firewood, but other solid fuels may\n",
    "also be used.\n",
    "- Traditional biomass stove. Locally produced using mud, metal, or other low-cost materials and following\n",
    "cultural practices. Traditional biomass stoves use biomass fuels. In Rwanda six types of stoves were identified\n",
    "as traditional: round mud stove, rocket stove, gisafuriya, double and triple movable metal charcoal stove, all\n",
    "metal stove, and Muyaga.\n",
    "- Improved biomass stove. Uses newer stove technology to improve efficiency, cleanliness, and safety. Improved\n",
    "biomass stoves use less energy to deliver a given amount of usable heat than three-stone and traditional\n",
    "stoves do, and they may also produce less indoor and overall air pollution. Thus, improved biomass stoves\n",
    "may enable cleaner and more efficient delivery of traditional fuels, though they may not meet emissions or\n",
    "efficiency standards. Their performance cannot be visually identified, and thus they must be tested. In Rwanda\n",
    "nine types of improved stoves were identified: Darfour 1, Darfour 2, canarumwe, canamake ivuguruye, canamake\n",
    "itavuguruye, fixed canamake itavuguruye, double and triple movable (canamake itavuguruye), sawdust/rice\n",
    "husks stove, and Save80.\n",
    "- Clean fuel stove. Uses fuels with very low levels of polluting emissions, such as biogas, LPG/cooking gas, electricity,\n",
    "ethanol, natural gas, and solar. Such fuels often provide high technical performance in emissions and efficiency\n",
    "that is largely “stove independent.” In Rwanda only biogas and LPG/cooking gas are used by households."
   ]
  },
  {
   "cell_type": "markdown",
   "metadata": {},
   "source": [
    "_________________________"
   ]
  },
  {
   "cell_type": "markdown",
   "metadata": {},
   "source": [
    "## Analysis\n",
    "\n",
    "### Fuels used for cooking\n",
    "\n",
    "Question: *In the last 12 months, what are the fuels you used on this cookstove?* and related (before and after that)"
   ]
  },
  {
   "cell_type": "code",
   "execution_count": 3,
   "metadata": {},
   "outputs": [],
   "source": [
    "# get dataframe\n",
    "\n",
    "# classify fuels (multiple!) used by each household"
   ]
  },
  {
   "cell_type": "markdown",
   "metadata": {},
   "source": [
    "### Time needed for cooking\n",
    "\n",
    "Question: *How much time do household members spend preparing the cookstove and fuel for each meal on average [including\n",
    "setting up the fuel and turning on the stove but not including gathering fuel or cooking time]?*"
   ]
  },
  {
   "cell_type": "code",
   "execution_count": null,
   "metadata": {},
   "outputs": [],
   "source": [
    "# Time needed for cooking"
   ]
  },
  {
   "cell_type": "markdown",
   "metadata": {},
   "source": [
    "### Safety of the cooking solution\n",
    "\n",
    "Question: *In the last 12 months, what type of harm/injury did your household face from this cookstove?*"
   ]
  },
  {
   "cell_type": "code",
   "execution_count": null,
   "metadata": {},
   "outputs": [],
   "source": []
  }
 ],
 "metadata": {
  "kernelspec": {
   "display_name": "Python 3",
   "language": "python",
   "name": "python3"
  },
  "language_info": {
   "codemirror_mode": {
    "name": "ipython",
    "version": 3
   },
   "file_extension": ".py",
   "mimetype": "text/x-python",
   "name": "python",
   "nbconvert_exporter": "python",
   "pygments_lexer": "ipython3",
   "version": "3.7.6"
  },
  "toc": {
   "base_numbering": 1,
   "nav_menu": {
    "height": "486px",
    "width": "905px"
   },
   "number_sections": true,
   "sideBar": true,
   "skip_h1_title": false,
   "title_cell": "Table of Contents",
   "title_sidebar": "Contents",
   "toc_cell": false,
   "toc_position": {},
   "toc_section_display": true,
   "toc_window_display": true
  }
 },
 "nbformat": 4,
 "nbformat_minor": 4
}
