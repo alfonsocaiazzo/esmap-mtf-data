{
 "cells": [
  {
   "cell_type": "code",
   "execution_count": null,
   "metadata": {},
   "outputs": [],
   "source": [
    "# Preliminaries\n",
    "SRC_PATH = '../../src/'\n",
    "DATA_PATH = '../../Rwanda/raw_data/'\n",
    "\n",
    "\n",
    "import numpy as np\n",
    "import pandas as pd\n",
    "import matplotlib.pyplot as plt\n",
    "plt.rcParams['font.size'] = 18\n",
    "\n",
    "from IPython.display import Image\n",
    "import os,sys\n",
    "\n",
    "sys.path.insert(0, os.path.normpath(os.path.join(os.path.abspath(''), SRC_PATH)))\n",
    "\n",
    "from plot_utils import *\n",
    "from plot_utils import COLOR_SCHEME, TIER_COLORS\n",
    "\n",
    "# load data\n",
    "main = pd.read_excel(DATA_PATH + '/main.xlsx')"
   ]
  },
  {
   "cell_type": "markdown",
   "metadata": {},
   "source": [
    "# The Multi-tier framework for measuring access to modern cooking solutions"
   ]
  },
  {
   "cell_type": "code",
   "execution_count": null,
   "metadata": {},
   "outputs": [],
   "source": [
    "# Fuels used"
   ]
  },
  {
   "cell_type": "code",
   "execution_count": null,
   "metadata": {},
   "outputs": [],
   "source": [
    "# Availability: check section I (I19)\n",
    "question_availability = {}\n",
    "\n",
    "\n",
    "\n",
    "# Safety\n",
    "question_safety = {}\n",
    "\n",
    "\n",
    "# Convenience\n",
    "question_convenience = {}\n",
    "\n",
    "\n"
   ]
  }
 ],
 "metadata": {
  "kernelspec": {
   "display_name": "Python 3",
   "language": "python",
   "name": "python3"
  },
  "language_info": {
   "codemirror_mode": {
    "name": "ipython",
    "version": 3
   },
   "file_extension": ".py",
   "mimetype": "text/x-python",
   "name": "python",
   "nbconvert_exporter": "python",
   "pygments_lexer": "ipython3",
   "version": "3.7.6"
  }
 },
 "nbformat": 4,
 "nbformat_minor": 4
}
