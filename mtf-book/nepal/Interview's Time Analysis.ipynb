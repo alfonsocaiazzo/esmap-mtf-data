{
 "cells": [
  {
   "cell_type": "code",
   "execution_count": 1,
   "metadata": {
    "ExecuteTime": {
     "end_time": "2021-04-25T17:37:24.993652Z",
     "start_time": "2021-04-25T17:37:23.679193Z"
    }
   },
   "outputs": [],
   "source": [
    "import pandas as pd\n",
    "import numpy as np\n",
    "import matplotlib.pyplot as plt\n",
    "from dateutil.parser import parse\n",
    "plt.style.use('fivethirtyeight')\n",
    "import warnings\n",
    "warnings.filterwarnings('ignore')"
   ]
  },
  {
   "cell_type": "markdown",
   "metadata": {},
   "source": [
    "# Reading the data, calculating the interview durations"
   ]
  },
  {
   "cell_type": "code",
   "execution_count": 2,
   "metadata": {
    "ExecuteTime": {
     "end_time": "2021-04-25T17:37:25.395593Z",
     "start_time": "2021-04-25T17:37:24.997665Z"
    }
   },
   "outputs": [
    {
     "data": {
      "text/html": [
       "<div>\n",
       "<style scoped>\n",
       "    .dataframe tbody tr th:only-of-type {\n",
       "        vertical-align: middle;\n",
       "    }\n",
       "\n",
       "    .dataframe tbody tr th {\n",
       "        vertical-align: top;\n",
       "    }\n",
       "\n",
       "    .dataframe thead th {\n",
       "        text-align: right;\n",
       "    }\n",
       "</style>\n",
       "<table border=\"1\" class=\"dataframe\">\n",
       "  <thead>\n",
       "    <tr style=\"text-align: right;\">\n",
       "      <th></th>\n",
       "      <th>HHID</th>\n",
       "      <th>Date_HH_Visit</th>\n",
       "      <th>DATE_INTERVIEW</th>\n",
       "      <th>START_TIME</th>\n",
       "      <th>TIME_END_VISIT1</th>\n",
       "    </tr>\n",
       "  </thead>\n",
       "  <tbody>\n",
       "    <tr>\n",
       "      <th>0</th>\n",
       "      <td>110148801</td>\n",
       "      <td>2017-11-11</td>\n",
       "      <td>2017-11-11</td>\n",
       "      <td>2017-11-11T01:22:15Z</td>\n",
       "      <td>2017-11-11T02:49:33Z</td>\n",
       "    </tr>\n",
       "    <tr>\n",
       "      <th>1</th>\n",
       "      <td>110148802</td>\n",
       "      <td>2017-11-11</td>\n",
       "      <td>2017-11-11</td>\n",
       "      <td>2017-06-11T02:37:45Z</td>\n",
       "      <td>2017-11-11T04:04:27Z</td>\n",
       "    </tr>\n",
       "    <tr>\n",
       "      <th>2</th>\n",
       "      <td>110148803</td>\n",
       "      <td>2017-11-11</td>\n",
       "      <td>2017-11-11</td>\n",
       "      <td>2017-11-11T03:23:40Z</td>\n",
       "      <td>2017-11-11T04:47:09Z</td>\n",
       "    </tr>\n",
       "    <tr>\n",
       "      <th>3</th>\n",
       "      <td>110148804</td>\n",
       "      <td>2017-11-11</td>\n",
       "      <td>2017-11-11</td>\n",
       "      <td>2017-11-11T04:24:47Z</td>\n",
       "      <td>2017-11-11T05:41:59Z</td>\n",
       "    </tr>\n",
       "    <tr>\n",
       "      <th>4</th>\n",
       "      <td>110148805</td>\n",
       "      <td>2017-11-11</td>\n",
       "      <td>2017-11-11</td>\n",
       "      <td>2017-11-11T05:56:16Z</td>\n",
       "      <td>2017-11-11T07:00:32Z</td>\n",
       "    </tr>\n",
       "  </tbody>\n",
       "</table>\n",
       "</div>"
      ],
      "text/plain": [
       "        HHID Date_HH_Visit DATE_INTERVIEW            START_TIME  \\\n",
       "0  110148801    2017-11-11     2017-11-11  2017-11-11T01:22:15Z   \n",
       "1  110148802    2017-11-11     2017-11-11  2017-06-11T02:37:45Z   \n",
       "2  110148803    2017-11-11     2017-11-11  2017-11-11T03:23:40Z   \n",
       "3  110148804    2017-11-11     2017-11-11  2017-11-11T04:24:47Z   \n",
       "4  110148805    2017-11-11     2017-11-11  2017-11-11T05:56:16Z   \n",
       "\n",
       "        TIME_END_VISIT1  \n",
       "0  2017-11-11T02:49:33Z  \n",
       "1  2017-11-11T04:04:27Z  \n",
       "2  2017-11-11T04:47:09Z  \n",
       "3  2017-11-11T05:41:59Z  \n",
       "4  2017-11-11T07:00:32Z  "
      ]
     },
     "execution_count": 2,
     "metadata": {},
     "output_type": "execute_result"
    }
   ],
   "source": [
    "# Reading in the dataset and selecting the columns related to interview date & time\n",
    "time = pd.read_csv('main.csv', usecols = ['HHID','Date_HH_Visit', 'DATE_INTERVIEW','START_TIME','TIME_END_VISIT1'])\n",
    "time.head()"
   ]
  },
  {
   "cell_type": "code",
   "execution_count": 3,
   "metadata": {
    "ExecuteTime": {
     "end_time": "2021-04-25T17:37:25.418527Z",
     "start_time": "2021-04-25T17:37:25.398492Z"
    }
   },
   "outputs": [],
   "source": [
    "def parse_date(date):\n",
    "    \"\"\"\n",
    "    Converts the date into YYYY-MM-DD HH:MM:SS if the date is a valid date, else NaN\n",
    "    \"\"\"\n",
    "    try:\n",
    "        return parse(date)\n",
    "    except:\n",
    "        return np.nan"
   ]
  },
  {
   "cell_type": "code",
   "execution_count": 4,
   "metadata": {
    "ExecuteTime": {
     "end_time": "2021-04-25T17:37:28.232942Z",
     "start_time": "2021-04-25T17:37:25.420048Z"
    }
   },
   "outputs": [],
   "source": [
    "time['start_time'] = time['START_TIME'].apply(lambda x: parse_date(x))\n",
    "time['end_time'] = time['TIME_END_VISIT1'].apply(lambda x: parse_date(x))\n",
    "time['interview_date'] = time['DATE_INTERVIEW'].apply(lambda x: parse_date(x))"
   ]
  },
  {
   "cell_type": "code",
   "execution_count": 5,
   "metadata": {
    "ExecuteTime": {
     "end_time": "2021-04-25T17:37:28.260130Z",
     "start_time": "2021-04-25T17:37:28.235899Z"
    }
   },
   "outputs": [
    {
     "data": {
      "text/plain": [
       "HHID               0\n",
       "Date_HH_Visit      0\n",
       "DATE_INTERVIEW     0\n",
       "START_TIME         0\n",
       "TIME_END_VISIT1    0\n",
       "start_time         0\n",
       "end_time           1\n",
       "interview_date     0\n",
       "dtype: int64"
      ]
     },
     "execution_count": 5,
     "metadata": {},
     "output_type": "execute_result"
    }
   ],
   "source": [
    "# Checking whether there is an invalid datetime\n",
    "time.isna().sum()"
   ]
  },
  {
   "cell_type": "markdown",
   "metadata": {},
   "source": [
    "> One record has an invalid End date (time)"
   ]
  },
  {
   "cell_type": "code",
   "execution_count": 6,
   "metadata": {
    "ExecuteTime": {
     "end_time": "2021-04-25T17:37:28.441540Z",
     "start_time": "2021-04-25T17:37:28.263529Z"
    }
   },
   "outputs": [],
   "source": [
    "#Removing the errornous record\n",
    "time.dropna(inplace = True)"
   ]
  },
  {
   "cell_type": "code",
   "execution_count": 7,
   "metadata": {
    "ExecuteTime": {
     "end_time": "2021-04-25T17:37:28.671820Z",
     "start_time": "2021-04-25T17:37:28.447154Z"
    }
   },
   "outputs": [],
   "source": [
    "# Adding the Day, Month and Year of the interview\n",
    "time['day'] = time['interview_date'].apply(lambda x: x.day)\n",
    "time['month'] = time['interview_date'].apply(lambda x: x.month)\n",
    "time['year'] = time['interview_date'].apply(lambda x: x.year)"
   ]
  },
  {
   "cell_type": "code",
   "execution_count": 8,
   "metadata": {
    "ExecuteTime": {
     "end_time": "2021-04-25T17:37:28.716715Z",
     "start_time": "2021-04-25T17:37:28.676728Z"
    }
   },
   "outputs": [],
   "source": [
    "#Calculating the duration\n",
    "time['duration'] = time['end_time'] - time['start_time']"
   ]
  },
  {
   "cell_type": "code",
   "execution_count": 9,
   "metadata": {
    "ExecuteTime": {
     "end_time": "2021-04-25T17:37:28.884631Z",
     "start_time": "2021-04-25T17:37:28.718761Z"
    }
   },
   "outputs": [
    {
     "data": {
      "text/html": [
       "<div>\n",
       "<style scoped>\n",
       "    .dataframe tbody tr th:only-of-type {\n",
       "        vertical-align: middle;\n",
       "    }\n",
       "\n",
       "    .dataframe tbody tr th {\n",
       "        vertical-align: top;\n",
       "    }\n",
       "\n",
       "    .dataframe thead th {\n",
       "        text-align: right;\n",
       "    }\n",
       "</style>\n",
       "<table border=\"1\" class=\"dataframe\">\n",
       "  <thead>\n",
       "    <tr style=\"text-align: right;\">\n",
       "      <th></th>\n",
       "      <th>HHID</th>\n",
       "      <th>Date_HH_Visit</th>\n",
       "      <th>DATE_INTERVIEW</th>\n",
       "      <th>START_TIME</th>\n",
       "      <th>TIME_END_VISIT1</th>\n",
       "      <th>start_time</th>\n",
       "      <th>end_time</th>\n",
       "      <th>interview_date</th>\n",
       "      <th>day</th>\n",
       "      <th>month</th>\n",
       "      <th>year</th>\n",
       "      <th>duration</th>\n",
       "    </tr>\n",
       "  </thead>\n",
       "  <tbody>\n",
       "    <tr>\n",
       "      <th>0</th>\n",
       "      <td>110148801</td>\n",
       "      <td>2017-11-11</td>\n",
       "      <td>2017-11-11</td>\n",
       "      <td>2017-11-11T01:22:15Z</td>\n",
       "      <td>2017-11-11T02:49:33Z</td>\n",
       "      <td>2017-11-11 01:22:15+00:00</td>\n",
       "      <td>2017-11-11 02:49:33+00:00</td>\n",
       "      <td>2017-11-11</td>\n",
       "      <td>11</td>\n",
       "      <td>11</td>\n",
       "      <td>2017</td>\n",
       "      <td>0 days 01:27:18</td>\n",
       "    </tr>\n",
       "    <tr>\n",
       "      <th>1</th>\n",
       "      <td>110148802</td>\n",
       "      <td>2017-11-11</td>\n",
       "      <td>2017-11-11</td>\n",
       "      <td>2017-06-11T02:37:45Z</td>\n",
       "      <td>2017-11-11T04:04:27Z</td>\n",
       "      <td>2017-06-11 02:37:45+00:00</td>\n",
       "      <td>2017-11-11 04:04:27+00:00</td>\n",
       "      <td>2017-11-11</td>\n",
       "      <td>11</td>\n",
       "      <td>11</td>\n",
       "      <td>2017</td>\n",
       "      <td>153 days 01:26:42</td>\n",
       "    </tr>\n",
       "    <tr>\n",
       "      <th>2</th>\n",
       "      <td>110148803</td>\n",
       "      <td>2017-11-11</td>\n",
       "      <td>2017-11-11</td>\n",
       "      <td>2017-11-11T03:23:40Z</td>\n",
       "      <td>2017-11-11T04:47:09Z</td>\n",
       "      <td>2017-11-11 03:23:40+00:00</td>\n",
       "      <td>2017-11-11 04:47:09+00:00</td>\n",
       "      <td>2017-11-11</td>\n",
       "      <td>11</td>\n",
       "      <td>11</td>\n",
       "      <td>2017</td>\n",
       "      <td>0 days 01:23:29</td>\n",
       "    </tr>\n",
       "    <tr>\n",
       "      <th>3</th>\n",
       "      <td>110148804</td>\n",
       "      <td>2017-11-11</td>\n",
       "      <td>2017-11-11</td>\n",
       "      <td>2017-11-11T04:24:47Z</td>\n",
       "      <td>2017-11-11T05:41:59Z</td>\n",
       "      <td>2017-11-11 04:24:47+00:00</td>\n",
       "      <td>2017-11-11 05:41:59+00:00</td>\n",
       "      <td>2017-11-11</td>\n",
       "      <td>11</td>\n",
       "      <td>11</td>\n",
       "      <td>2017</td>\n",
       "      <td>0 days 01:17:12</td>\n",
       "    </tr>\n",
       "    <tr>\n",
       "      <th>4</th>\n",
       "      <td>110148805</td>\n",
       "      <td>2017-11-11</td>\n",
       "      <td>2017-11-11</td>\n",
       "      <td>2017-11-11T05:56:16Z</td>\n",
       "      <td>2017-11-11T07:00:32Z</td>\n",
       "      <td>2017-11-11 05:56:16+00:00</td>\n",
       "      <td>2017-11-11 07:00:32+00:00</td>\n",
       "      <td>2017-11-11</td>\n",
       "      <td>11</td>\n",
       "      <td>11</td>\n",
       "      <td>2017</td>\n",
       "      <td>0 days 01:04:16</td>\n",
       "    </tr>\n",
       "    <tr>\n",
       "      <th>...</th>\n",
       "      <td>...</td>\n",
       "      <td>...</td>\n",
       "      <td>...</td>\n",
       "      <td>...</td>\n",
       "      <td>...</td>\n",
       "      <td>...</td>\n",
       "      <td>...</td>\n",
       "      <td>...</td>\n",
       "      <td>...</td>\n",
       "      <td>...</td>\n",
       "      <td>...</td>\n",
       "      <td>...</td>\n",
       "    </tr>\n",
       "    <tr>\n",
       "      <th>5995</th>\n",
       "      <td>432714011</td>\n",
       "      <td>2017-09-14</td>\n",
       "      <td>2017-09-14</td>\n",
       "      <td>2017-09-14T05:33:09Z</td>\n",
       "      <td>2017-09-14T06:54:08Z</td>\n",
       "      <td>2017-09-14 05:33:09+00:00</td>\n",
       "      <td>2017-09-14 06:54:08+00:00</td>\n",
       "      <td>2017-09-14</td>\n",
       "      <td>14</td>\n",
       "      <td>9</td>\n",
       "      <td>2017</td>\n",
       "      <td>0 days 01:20:59</td>\n",
       "    </tr>\n",
       "    <tr>\n",
       "      <th>5996</th>\n",
       "      <td>432714012</td>\n",
       "      <td>2017-09-14</td>\n",
       "      <td>2017-09-14</td>\n",
       "      <td>2017-09-14T07:02:09Z</td>\n",
       "      <td>2017-09-14T08:23:09Z</td>\n",
       "      <td>2017-09-14 07:02:09+00:00</td>\n",
       "      <td>2017-09-14 08:23:09+00:00</td>\n",
       "      <td>2017-09-14</td>\n",
       "      <td>14</td>\n",
       "      <td>9</td>\n",
       "      <td>2017</td>\n",
       "      <td>0 days 01:21:00</td>\n",
       "    </tr>\n",
       "    <tr>\n",
       "      <th>5997</th>\n",
       "      <td>432714013</td>\n",
       "      <td>2017-09-14</td>\n",
       "      <td>2017-09-14</td>\n",
       "      <td>2017-09-14T09:07:50Z</td>\n",
       "      <td>2017-09-14T10:33:06Z</td>\n",
       "      <td>2017-09-14 09:07:50+00:00</td>\n",
       "      <td>2017-09-14 10:33:06+00:00</td>\n",
       "      <td>2017-09-14</td>\n",
       "      <td>14</td>\n",
       "      <td>9</td>\n",
       "      <td>2017</td>\n",
       "      <td>0 days 01:25:16</td>\n",
       "    </tr>\n",
       "    <tr>\n",
       "      <th>5998</th>\n",
       "      <td>432714014</td>\n",
       "      <td>2017-09-15</td>\n",
       "      <td>2017-09-15</td>\n",
       "      <td>2017-09-15T07:11:35Z</td>\n",
       "      <td>2017-09-15T08:39:54Z</td>\n",
       "      <td>2017-09-15 07:11:35+00:00</td>\n",
       "      <td>2017-09-15 08:39:54+00:00</td>\n",
       "      <td>2017-09-15</td>\n",
       "      <td>15</td>\n",
       "      <td>9</td>\n",
       "      <td>2017</td>\n",
       "      <td>0 days 01:28:19</td>\n",
       "    </tr>\n",
       "    <tr>\n",
       "      <th>5999</th>\n",
       "      <td>432714015</td>\n",
       "      <td>2017-09-15</td>\n",
       "      <td>2017-09-15</td>\n",
       "      <td>2017-09-15T08:52:20Z</td>\n",
       "      <td>2017-09-15T10:30:52Z</td>\n",
       "      <td>2017-09-15 08:52:20+00:00</td>\n",
       "      <td>2017-09-15 10:30:52+00:00</td>\n",
       "      <td>2017-09-15</td>\n",
       "      <td>15</td>\n",
       "      <td>9</td>\n",
       "      <td>2017</td>\n",
       "      <td>0 days 01:38:32</td>\n",
       "    </tr>\n",
       "  </tbody>\n",
       "</table>\n",
       "<p>5999 rows × 12 columns</p>\n",
       "</div>"
      ],
      "text/plain": [
       "           HHID Date_HH_Visit DATE_INTERVIEW            START_TIME  \\\n",
       "0     110148801    2017-11-11     2017-11-11  2017-11-11T01:22:15Z   \n",
       "1     110148802    2017-11-11     2017-11-11  2017-06-11T02:37:45Z   \n",
       "2     110148803    2017-11-11     2017-11-11  2017-11-11T03:23:40Z   \n",
       "3     110148804    2017-11-11     2017-11-11  2017-11-11T04:24:47Z   \n",
       "4     110148805    2017-11-11     2017-11-11  2017-11-11T05:56:16Z   \n",
       "...         ...           ...            ...                   ...   \n",
       "5995  432714011    2017-09-14     2017-09-14  2017-09-14T05:33:09Z   \n",
       "5996  432714012    2017-09-14     2017-09-14  2017-09-14T07:02:09Z   \n",
       "5997  432714013    2017-09-14     2017-09-14  2017-09-14T09:07:50Z   \n",
       "5998  432714014    2017-09-15     2017-09-15  2017-09-15T07:11:35Z   \n",
       "5999  432714015    2017-09-15     2017-09-15  2017-09-15T08:52:20Z   \n",
       "\n",
       "           TIME_END_VISIT1                 start_time  \\\n",
       "0     2017-11-11T02:49:33Z  2017-11-11 01:22:15+00:00   \n",
       "1     2017-11-11T04:04:27Z  2017-06-11 02:37:45+00:00   \n",
       "2     2017-11-11T04:47:09Z  2017-11-11 03:23:40+00:00   \n",
       "3     2017-11-11T05:41:59Z  2017-11-11 04:24:47+00:00   \n",
       "4     2017-11-11T07:00:32Z  2017-11-11 05:56:16+00:00   \n",
       "...                    ...                        ...   \n",
       "5995  2017-09-14T06:54:08Z  2017-09-14 05:33:09+00:00   \n",
       "5996  2017-09-14T08:23:09Z  2017-09-14 07:02:09+00:00   \n",
       "5997  2017-09-14T10:33:06Z  2017-09-14 09:07:50+00:00   \n",
       "5998  2017-09-15T08:39:54Z  2017-09-15 07:11:35+00:00   \n",
       "5999  2017-09-15T10:30:52Z  2017-09-15 08:52:20+00:00   \n",
       "\n",
       "                       end_time interview_date  day  month  year  \\\n",
       "0     2017-11-11 02:49:33+00:00     2017-11-11   11     11  2017   \n",
       "1     2017-11-11 04:04:27+00:00     2017-11-11   11     11  2017   \n",
       "2     2017-11-11 04:47:09+00:00     2017-11-11   11     11  2017   \n",
       "3     2017-11-11 05:41:59+00:00     2017-11-11   11     11  2017   \n",
       "4     2017-11-11 07:00:32+00:00     2017-11-11   11     11  2017   \n",
       "...                         ...            ...  ...    ...   ...   \n",
       "5995  2017-09-14 06:54:08+00:00     2017-09-14   14      9  2017   \n",
       "5996  2017-09-14 08:23:09+00:00     2017-09-14   14      9  2017   \n",
       "5997  2017-09-14 10:33:06+00:00     2017-09-14   14      9  2017   \n",
       "5998  2017-09-15 08:39:54+00:00     2017-09-15   15      9  2017   \n",
       "5999  2017-09-15 10:30:52+00:00     2017-09-15   15      9  2017   \n",
       "\n",
       "              duration  \n",
       "0      0 days 01:27:18  \n",
       "1    153 days 01:26:42  \n",
       "2      0 days 01:23:29  \n",
       "3      0 days 01:17:12  \n",
       "4      0 days 01:04:16  \n",
       "...                ...  \n",
       "5995   0 days 01:20:59  \n",
       "5996   0 days 01:21:00  \n",
       "5997   0 days 01:25:16  \n",
       "5998   0 days 01:28:19  \n",
       "5999   0 days 01:38:32  \n",
       "\n",
       "[5999 rows x 12 columns]"
      ]
     },
     "execution_count": 9,
     "metadata": {},
     "output_type": "execute_result"
    }
   ],
   "source": [
    "time"
   ]
  },
  {
   "cell_type": "markdown",
   "metadata": {},
   "source": [
    "> The second record has an error (I bet an interview can't go beyond/belowa day)"
   ]
  },
  {
   "cell_type": "markdown",
   "metadata": {
    "ExecuteTime": {
     "end_time": "2021-04-25T12:33:16.436998Z",
     "start_time": "2021-04-25T12:33:16.431175Z"
    }
   },
   "source": [
    "# Removing all interviews that went beyond/below a day"
   ]
  },
  {
   "cell_type": "code",
   "execution_count": 10,
   "metadata": {
    "ExecuteTime": {
     "end_time": "2021-04-25T17:37:29.221788Z",
     "start_time": "2021-04-25T17:37:28.885637Z"
    }
   },
   "outputs": [
    {
     "data": {
      "text/html": [
       "<div>\n",
       "<style scoped>\n",
       "    .dataframe tbody tr th:only-of-type {\n",
       "        vertical-align: middle;\n",
       "    }\n",
       "\n",
       "    .dataframe tbody tr th {\n",
       "        vertical-align: top;\n",
       "    }\n",
       "\n",
       "    .dataframe thead th {\n",
       "        text-align: right;\n",
       "    }\n",
       "</style>\n",
       "<table border=\"1\" class=\"dataframe\">\n",
       "  <thead>\n",
       "    <tr style=\"text-align: right;\">\n",
       "      <th></th>\n",
       "      <th>HHID</th>\n",
       "      <th>Date_HH_Visit</th>\n",
       "      <th>DATE_INTERVIEW</th>\n",
       "      <th>START_TIME</th>\n",
       "      <th>TIME_END_VISIT1</th>\n",
       "      <th>start_time</th>\n",
       "      <th>end_time</th>\n",
       "      <th>interview_date</th>\n",
       "      <th>day</th>\n",
       "      <th>month</th>\n",
       "      <th>year</th>\n",
       "      <th>duration</th>\n",
       "    </tr>\n",
       "  </thead>\n",
       "  <tbody>\n",
       "    <tr>\n",
       "      <th>1</th>\n",
       "      <td>110148802</td>\n",
       "      <td>2017-11-11</td>\n",
       "      <td>2017-11-11</td>\n",
       "      <td>2017-06-11T02:37:45Z</td>\n",
       "      <td>2017-11-11T04:04:27Z</td>\n",
       "      <td>2017-06-11 02:37:45+00:00</td>\n",
       "      <td>2017-11-11 04:04:27+00:00</td>\n",
       "      <td>2017-11-11</td>\n",
       "      <td>11</td>\n",
       "      <td>11</td>\n",
       "      <td>2017</td>\n",
       "      <td>153 days 01:26:42</td>\n",
       "    </tr>\n",
       "    <tr>\n",
       "      <th>36</th>\n",
       "      <td>110149007</td>\n",
       "      <td>2017-08-08</td>\n",
       "      <td>2017-08-08</td>\n",
       "      <td>2017-08-08T05:42:34Z</td>\n",
       "      <td>2017-08-09T07:25:16Z</td>\n",
       "      <td>2017-08-08 05:42:34+00:00</td>\n",
       "      <td>2017-08-09 07:25:16+00:00</td>\n",
       "      <td>2017-08-08</td>\n",
       "      <td>8</td>\n",
       "      <td>8</td>\n",
       "      <td>2017</td>\n",
       "      <td>1 days 01:42:42</td>\n",
       "    </tr>\n",
       "    <tr>\n",
       "      <th>39</th>\n",
       "      <td>110149010</td>\n",
       "      <td>2017-08-09</td>\n",
       "      <td>2017-08-09</td>\n",
       "      <td>2017-08-09T06:17:01Z</td>\n",
       "      <td>2017-08-08T09:29:52Z</td>\n",
       "      <td>2017-08-09 06:17:01+00:00</td>\n",
       "      <td>2017-08-08 09:29:52+00:00</td>\n",
       "      <td>2017-08-09</td>\n",
       "      <td>9</td>\n",
       "      <td>8</td>\n",
       "      <td>2017</td>\n",
       "      <td>-1 days +03:12:51</td>\n",
       "    </tr>\n",
       "    <tr>\n",
       "      <th>42</th>\n",
       "      <td>110149013</td>\n",
       "      <td>2017-08-08</td>\n",
       "      <td>2017-08-08</td>\n",
       "      <td>2017-08-08T08:15:40Z</td>\n",
       "      <td>2017-08-07T22:27:16Z</td>\n",
       "      <td>2017-08-08 08:15:40+00:00</td>\n",
       "      <td>2017-08-07 22:27:16+00:00</td>\n",
       "      <td>2017-08-08</td>\n",
       "      <td>8</td>\n",
       "      <td>8</td>\n",
       "      <td>2017</td>\n",
       "      <td>-1 days +14:11:36</td>\n",
       "    </tr>\n",
       "    <tr>\n",
       "      <th>61</th>\n",
       "      <td>110149202</td>\n",
       "      <td>2017-08-13</td>\n",
       "      <td>2017-08-13</td>\n",
       "      <td>2017-08-13T07:46:23Z</td>\n",
       "      <td>2017-08-12T06:54:01Z</td>\n",
       "      <td>2017-08-13 07:46:23+00:00</td>\n",
       "      <td>2017-08-12 06:54:01+00:00</td>\n",
       "      <td>2017-08-13</td>\n",
       "      <td>13</td>\n",
       "      <td>8</td>\n",
       "      <td>2017</td>\n",
       "      <td>-2 days +23:07:38</td>\n",
       "    </tr>\n",
       "    <tr>\n",
       "      <th>...</th>\n",
       "      <td>...</td>\n",
       "      <td>...</td>\n",
       "      <td>...</td>\n",
       "      <td>...</td>\n",
       "      <td>...</td>\n",
       "      <td>...</td>\n",
       "      <td>...</td>\n",
       "      <td>...</td>\n",
       "      <td>...</td>\n",
       "      <td>...</td>\n",
       "      <td>...</td>\n",
       "      <td>...</td>\n",
       "    </tr>\n",
       "    <tr>\n",
       "      <th>5870</th>\n",
       "      <td>432713206</td>\n",
       "      <td>2017-07-27</td>\n",
       "      <td>2017-07-27</td>\n",
       "      <td>2017-07-27T08:22:37Z</td>\n",
       "      <td>2017-07-28T13:21:55Z</td>\n",
       "      <td>2017-07-27 08:22:37+00:00</td>\n",
       "      <td>2017-07-28 13:21:55+00:00</td>\n",
       "      <td>2017-07-27</td>\n",
       "      <td>27</td>\n",
       "      <td>7</td>\n",
       "      <td>2017</td>\n",
       "      <td>1 days 04:59:18</td>\n",
       "    </tr>\n",
       "    <tr>\n",
       "      <th>5871</th>\n",
       "      <td>432713207</td>\n",
       "      <td>2017-07-29</td>\n",
       "      <td>2017-07-29</td>\n",
       "      <td>2017-08-11T07:58:08Z</td>\n",
       "      <td>2017-07-29T09:59:18Z</td>\n",
       "      <td>2017-08-11 07:58:08+00:00</td>\n",
       "      <td>2017-07-29 09:59:18+00:00</td>\n",
       "      <td>2017-07-29</td>\n",
       "      <td>29</td>\n",
       "      <td>7</td>\n",
       "      <td>2017</td>\n",
       "      <td>-13 days +02:01:10</td>\n",
       "    </tr>\n",
       "    <tr>\n",
       "      <th>5873</th>\n",
       "      <td>432713209</td>\n",
       "      <td>2017-07-29</td>\n",
       "      <td>2017-07-29</td>\n",
       "      <td>2017-07-29T16:08:38Z</td>\n",
       "      <td>2017-08-01T12:12:11Z</td>\n",
       "      <td>2017-07-29 16:08:38+00:00</td>\n",
       "      <td>2017-08-01 12:12:11+00:00</td>\n",
       "      <td>2017-07-29</td>\n",
       "      <td>29</td>\n",
       "      <td>7</td>\n",
       "      <td>2017</td>\n",
       "      <td>2 days 20:03:33</td>\n",
       "    </tr>\n",
       "    <tr>\n",
       "      <th>5944</th>\n",
       "      <td>432713705</td>\n",
       "      <td>2017-07-29</td>\n",
       "      <td>2017-07-29</td>\n",
       "      <td>2017-07-28T01:50:07Z</td>\n",
       "      <td>2017-07-29T03:31:12Z</td>\n",
       "      <td>2017-07-28 01:50:07+00:00</td>\n",
       "      <td>2017-07-29 03:31:12+00:00</td>\n",
       "      <td>2017-07-29</td>\n",
       "      <td>29</td>\n",
       "      <td>7</td>\n",
       "      <td>2017</td>\n",
       "      <td>1 days 01:41:05</td>\n",
       "    </tr>\n",
       "    <tr>\n",
       "      <th>5951</th>\n",
       "      <td>432713712</td>\n",
       "      <td>2017-07-29</td>\n",
       "      <td>2017-07-29</td>\n",
       "      <td>2017-07-29T17:49:45Z</td>\n",
       "      <td>2017-07-28T19:18:09Z</td>\n",
       "      <td>2017-07-29 17:49:45+00:00</td>\n",
       "      <td>2017-07-28 19:18:09+00:00</td>\n",
       "      <td>2017-07-29</td>\n",
       "      <td>29</td>\n",
       "      <td>7</td>\n",
       "      <td>2017</td>\n",
       "      <td>-1 days +01:28:24</td>\n",
       "    </tr>\n",
       "  </tbody>\n",
       "</table>\n",
       "<p>126 rows × 12 columns</p>\n",
       "</div>"
      ],
      "text/plain": [
       "           HHID Date_HH_Visit DATE_INTERVIEW            START_TIME  \\\n",
       "1     110148802    2017-11-11     2017-11-11  2017-06-11T02:37:45Z   \n",
       "36    110149007    2017-08-08     2017-08-08  2017-08-08T05:42:34Z   \n",
       "39    110149010    2017-08-09     2017-08-09  2017-08-09T06:17:01Z   \n",
       "42    110149013    2017-08-08     2017-08-08  2017-08-08T08:15:40Z   \n",
       "61    110149202    2017-08-13     2017-08-13  2017-08-13T07:46:23Z   \n",
       "...         ...           ...            ...                   ...   \n",
       "5870  432713206    2017-07-27     2017-07-27  2017-07-27T08:22:37Z   \n",
       "5871  432713207    2017-07-29     2017-07-29  2017-08-11T07:58:08Z   \n",
       "5873  432713209    2017-07-29     2017-07-29  2017-07-29T16:08:38Z   \n",
       "5944  432713705    2017-07-29     2017-07-29  2017-07-28T01:50:07Z   \n",
       "5951  432713712    2017-07-29     2017-07-29  2017-07-29T17:49:45Z   \n",
       "\n",
       "           TIME_END_VISIT1                 start_time  \\\n",
       "1     2017-11-11T04:04:27Z  2017-06-11 02:37:45+00:00   \n",
       "36    2017-08-09T07:25:16Z  2017-08-08 05:42:34+00:00   \n",
       "39    2017-08-08T09:29:52Z  2017-08-09 06:17:01+00:00   \n",
       "42    2017-08-07T22:27:16Z  2017-08-08 08:15:40+00:00   \n",
       "61    2017-08-12T06:54:01Z  2017-08-13 07:46:23+00:00   \n",
       "...                    ...                        ...   \n",
       "5870  2017-07-28T13:21:55Z  2017-07-27 08:22:37+00:00   \n",
       "5871  2017-07-29T09:59:18Z  2017-08-11 07:58:08+00:00   \n",
       "5873  2017-08-01T12:12:11Z  2017-07-29 16:08:38+00:00   \n",
       "5944  2017-07-29T03:31:12Z  2017-07-28 01:50:07+00:00   \n",
       "5951  2017-07-28T19:18:09Z  2017-07-29 17:49:45+00:00   \n",
       "\n",
       "                       end_time interview_date  day  month  year  \\\n",
       "1     2017-11-11 04:04:27+00:00     2017-11-11   11     11  2017   \n",
       "36    2017-08-09 07:25:16+00:00     2017-08-08    8      8  2017   \n",
       "39    2017-08-08 09:29:52+00:00     2017-08-09    9      8  2017   \n",
       "42    2017-08-07 22:27:16+00:00     2017-08-08    8      8  2017   \n",
       "61    2017-08-12 06:54:01+00:00     2017-08-13   13      8  2017   \n",
       "...                         ...            ...  ...    ...   ...   \n",
       "5870  2017-07-28 13:21:55+00:00     2017-07-27   27      7  2017   \n",
       "5871  2017-07-29 09:59:18+00:00     2017-07-29   29      7  2017   \n",
       "5873  2017-08-01 12:12:11+00:00     2017-07-29   29      7  2017   \n",
       "5944  2017-07-29 03:31:12+00:00     2017-07-29   29      7  2017   \n",
       "5951  2017-07-28 19:18:09+00:00     2017-07-29   29      7  2017   \n",
       "\n",
       "               duration  \n",
       "1     153 days 01:26:42  \n",
       "36      1 days 01:42:42  \n",
       "39    -1 days +03:12:51  \n",
       "42    -1 days +14:11:36  \n",
       "61    -2 days +23:07:38  \n",
       "...                 ...  \n",
       "5870    1 days 04:59:18  \n",
       "5871 -13 days +02:01:10  \n",
       "5873    2 days 20:03:33  \n",
       "5944    1 days 01:41:05  \n",
       "5951  -1 days +01:28:24  \n",
       "\n",
       "[126 rows x 12 columns]"
      ]
     },
     "execution_count": 10,
     "metadata": {},
     "output_type": "execute_result"
    }
   ],
   "source": [
    "bad_records = time[~time['duration'].astype(str).str.startswith('0')]\n",
    "bad_records"
   ]
  },
  {
   "cell_type": "markdown",
   "metadata": {},
   "source": [
    "> 126 records has an error in start or end state."
   ]
  },
  {
   "cell_type": "code",
   "execution_count": 11,
   "metadata": {
    "ExecuteTime": {
     "end_time": "2021-04-25T17:37:29.428280Z",
     "start_time": "2021-04-25T17:37:29.226437Z"
    }
   },
   "outputs": [
    {
     "data": {
      "text/html": [
       "<div>\n",
       "<style scoped>\n",
       "    .dataframe tbody tr th:only-of-type {\n",
       "        vertical-align: middle;\n",
       "    }\n",
       "\n",
       "    .dataframe tbody tr th {\n",
       "        vertical-align: top;\n",
       "    }\n",
       "\n",
       "    .dataframe thead th {\n",
       "        text-align: right;\n",
       "    }\n",
       "</style>\n",
       "<table border=\"1\" class=\"dataframe\">\n",
       "  <thead>\n",
       "    <tr style=\"text-align: right;\">\n",
       "      <th></th>\n",
       "      <th>HHID</th>\n",
       "      <th>Date_HH_Visit</th>\n",
       "      <th>DATE_INTERVIEW</th>\n",
       "      <th>START_TIME</th>\n",
       "      <th>TIME_END_VISIT1</th>\n",
       "      <th>start_time</th>\n",
       "      <th>end_time</th>\n",
       "      <th>interview_date</th>\n",
       "      <th>day</th>\n",
       "      <th>month</th>\n",
       "      <th>year</th>\n",
       "      <th>duration</th>\n",
       "    </tr>\n",
       "  </thead>\n",
       "  <tbody>\n",
       "    <tr>\n",
       "      <th>0</th>\n",
       "      <td>110148801</td>\n",
       "      <td>2017-11-11</td>\n",
       "      <td>2017-11-11</td>\n",
       "      <td>2017-11-11T01:22:15Z</td>\n",
       "      <td>2017-11-11T02:49:33Z</td>\n",
       "      <td>2017-11-11 01:22:15+00:00</td>\n",
       "      <td>2017-11-11 02:49:33+00:00</td>\n",
       "      <td>2017-11-11</td>\n",
       "      <td>11</td>\n",
       "      <td>11</td>\n",
       "      <td>2017</td>\n",
       "      <td>0 days 01:27:18</td>\n",
       "    </tr>\n",
       "    <tr>\n",
       "      <th>2</th>\n",
       "      <td>110148803</td>\n",
       "      <td>2017-11-11</td>\n",
       "      <td>2017-11-11</td>\n",
       "      <td>2017-11-11T03:23:40Z</td>\n",
       "      <td>2017-11-11T04:47:09Z</td>\n",
       "      <td>2017-11-11 03:23:40+00:00</td>\n",
       "      <td>2017-11-11 04:47:09+00:00</td>\n",
       "      <td>2017-11-11</td>\n",
       "      <td>11</td>\n",
       "      <td>11</td>\n",
       "      <td>2017</td>\n",
       "      <td>0 days 01:23:29</td>\n",
       "    </tr>\n",
       "    <tr>\n",
       "      <th>3</th>\n",
       "      <td>110148804</td>\n",
       "      <td>2017-11-11</td>\n",
       "      <td>2017-11-11</td>\n",
       "      <td>2017-11-11T04:24:47Z</td>\n",
       "      <td>2017-11-11T05:41:59Z</td>\n",
       "      <td>2017-11-11 04:24:47+00:00</td>\n",
       "      <td>2017-11-11 05:41:59+00:00</td>\n",
       "      <td>2017-11-11</td>\n",
       "      <td>11</td>\n",
       "      <td>11</td>\n",
       "      <td>2017</td>\n",
       "      <td>0 days 01:17:12</td>\n",
       "    </tr>\n",
       "    <tr>\n",
       "      <th>4</th>\n",
       "      <td>110148805</td>\n",
       "      <td>2017-11-11</td>\n",
       "      <td>2017-11-11</td>\n",
       "      <td>2017-11-11T05:56:16Z</td>\n",
       "      <td>2017-11-11T07:00:32Z</td>\n",
       "      <td>2017-11-11 05:56:16+00:00</td>\n",
       "      <td>2017-11-11 07:00:32+00:00</td>\n",
       "      <td>2017-11-11</td>\n",
       "      <td>11</td>\n",
       "      <td>11</td>\n",
       "      <td>2017</td>\n",
       "      <td>0 days 01:04:16</td>\n",
       "    </tr>\n",
       "    <tr>\n",
       "      <th>5</th>\n",
       "      <td>110148806</td>\n",
       "      <td>2017-11-11</td>\n",
       "      <td>2017-11-11</td>\n",
       "      <td>2017-11-11T05:41:32Z</td>\n",
       "      <td>2017-11-11T07:00:03Z</td>\n",
       "      <td>2017-11-11 05:41:32+00:00</td>\n",
       "      <td>2017-11-11 07:00:03+00:00</td>\n",
       "      <td>2017-11-11</td>\n",
       "      <td>11</td>\n",
       "      <td>11</td>\n",
       "      <td>2017</td>\n",
       "      <td>0 days 01:18:31</td>\n",
       "    </tr>\n",
       "    <tr>\n",
       "      <th>...</th>\n",
       "      <td>...</td>\n",
       "      <td>...</td>\n",
       "      <td>...</td>\n",
       "      <td>...</td>\n",
       "      <td>...</td>\n",
       "      <td>...</td>\n",
       "      <td>...</td>\n",
       "      <td>...</td>\n",
       "      <td>...</td>\n",
       "      <td>...</td>\n",
       "      <td>...</td>\n",
       "      <td>...</td>\n",
       "    </tr>\n",
       "    <tr>\n",
       "      <th>5995</th>\n",
       "      <td>432714011</td>\n",
       "      <td>2017-09-14</td>\n",
       "      <td>2017-09-14</td>\n",
       "      <td>2017-09-14T05:33:09Z</td>\n",
       "      <td>2017-09-14T06:54:08Z</td>\n",
       "      <td>2017-09-14 05:33:09+00:00</td>\n",
       "      <td>2017-09-14 06:54:08+00:00</td>\n",
       "      <td>2017-09-14</td>\n",
       "      <td>14</td>\n",
       "      <td>9</td>\n",
       "      <td>2017</td>\n",
       "      <td>0 days 01:20:59</td>\n",
       "    </tr>\n",
       "    <tr>\n",
       "      <th>5996</th>\n",
       "      <td>432714012</td>\n",
       "      <td>2017-09-14</td>\n",
       "      <td>2017-09-14</td>\n",
       "      <td>2017-09-14T07:02:09Z</td>\n",
       "      <td>2017-09-14T08:23:09Z</td>\n",
       "      <td>2017-09-14 07:02:09+00:00</td>\n",
       "      <td>2017-09-14 08:23:09+00:00</td>\n",
       "      <td>2017-09-14</td>\n",
       "      <td>14</td>\n",
       "      <td>9</td>\n",
       "      <td>2017</td>\n",
       "      <td>0 days 01:21:00</td>\n",
       "    </tr>\n",
       "    <tr>\n",
       "      <th>5997</th>\n",
       "      <td>432714013</td>\n",
       "      <td>2017-09-14</td>\n",
       "      <td>2017-09-14</td>\n",
       "      <td>2017-09-14T09:07:50Z</td>\n",
       "      <td>2017-09-14T10:33:06Z</td>\n",
       "      <td>2017-09-14 09:07:50+00:00</td>\n",
       "      <td>2017-09-14 10:33:06+00:00</td>\n",
       "      <td>2017-09-14</td>\n",
       "      <td>14</td>\n",
       "      <td>9</td>\n",
       "      <td>2017</td>\n",
       "      <td>0 days 01:25:16</td>\n",
       "    </tr>\n",
       "    <tr>\n",
       "      <th>5998</th>\n",
       "      <td>432714014</td>\n",
       "      <td>2017-09-15</td>\n",
       "      <td>2017-09-15</td>\n",
       "      <td>2017-09-15T07:11:35Z</td>\n",
       "      <td>2017-09-15T08:39:54Z</td>\n",
       "      <td>2017-09-15 07:11:35+00:00</td>\n",
       "      <td>2017-09-15 08:39:54+00:00</td>\n",
       "      <td>2017-09-15</td>\n",
       "      <td>15</td>\n",
       "      <td>9</td>\n",
       "      <td>2017</td>\n",
       "      <td>0 days 01:28:19</td>\n",
       "    </tr>\n",
       "    <tr>\n",
       "      <th>5999</th>\n",
       "      <td>432714015</td>\n",
       "      <td>2017-09-15</td>\n",
       "      <td>2017-09-15</td>\n",
       "      <td>2017-09-15T08:52:20Z</td>\n",
       "      <td>2017-09-15T10:30:52Z</td>\n",
       "      <td>2017-09-15 08:52:20+00:00</td>\n",
       "      <td>2017-09-15 10:30:52+00:00</td>\n",
       "      <td>2017-09-15</td>\n",
       "      <td>15</td>\n",
       "      <td>9</td>\n",
       "      <td>2017</td>\n",
       "      <td>0 days 01:38:32</td>\n",
       "    </tr>\n",
       "  </tbody>\n",
       "</table>\n",
       "<p>5873 rows × 12 columns</p>\n",
       "</div>"
      ],
      "text/plain": [
       "           HHID Date_HH_Visit DATE_INTERVIEW            START_TIME  \\\n",
       "0     110148801    2017-11-11     2017-11-11  2017-11-11T01:22:15Z   \n",
       "2     110148803    2017-11-11     2017-11-11  2017-11-11T03:23:40Z   \n",
       "3     110148804    2017-11-11     2017-11-11  2017-11-11T04:24:47Z   \n",
       "4     110148805    2017-11-11     2017-11-11  2017-11-11T05:56:16Z   \n",
       "5     110148806    2017-11-11     2017-11-11  2017-11-11T05:41:32Z   \n",
       "...         ...           ...            ...                   ...   \n",
       "5995  432714011    2017-09-14     2017-09-14  2017-09-14T05:33:09Z   \n",
       "5996  432714012    2017-09-14     2017-09-14  2017-09-14T07:02:09Z   \n",
       "5997  432714013    2017-09-14     2017-09-14  2017-09-14T09:07:50Z   \n",
       "5998  432714014    2017-09-15     2017-09-15  2017-09-15T07:11:35Z   \n",
       "5999  432714015    2017-09-15     2017-09-15  2017-09-15T08:52:20Z   \n",
       "\n",
       "           TIME_END_VISIT1                 start_time  \\\n",
       "0     2017-11-11T02:49:33Z  2017-11-11 01:22:15+00:00   \n",
       "2     2017-11-11T04:47:09Z  2017-11-11 03:23:40+00:00   \n",
       "3     2017-11-11T05:41:59Z  2017-11-11 04:24:47+00:00   \n",
       "4     2017-11-11T07:00:32Z  2017-11-11 05:56:16+00:00   \n",
       "5     2017-11-11T07:00:03Z  2017-11-11 05:41:32+00:00   \n",
       "...                    ...                        ...   \n",
       "5995  2017-09-14T06:54:08Z  2017-09-14 05:33:09+00:00   \n",
       "5996  2017-09-14T08:23:09Z  2017-09-14 07:02:09+00:00   \n",
       "5997  2017-09-14T10:33:06Z  2017-09-14 09:07:50+00:00   \n",
       "5998  2017-09-15T08:39:54Z  2017-09-15 07:11:35+00:00   \n",
       "5999  2017-09-15T10:30:52Z  2017-09-15 08:52:20+00:00   \n",
       "\n",
       "                       end_time interview_date  day  month  year  \\\n",
       "0     2017-11-11 02:49:33+00:00     2017-11-11   11     11  2017   \n",
       "2     2017-11-11 04:47:09+00:00     2017-11-11   11     11  2017   \n",
       "3     2017-11-11 05:41:59+00:00     2017-11-11   11     11  2017   \n",
       "4     2017-11-11 07:00:32+00:00     2017-11-11   11     11  2017   \n",
       "5     2017-11-11 07:00:03+00:00     2017-11-11   11     11  2017   \n",
       "...                         ...            ...  ...    ...   ...   \n",
       "5995  2017-09-14 06:54:08+00:00     2017-09-14   14      9  2017   \n",
       "5996  2017-09-14 08:23:09+00:00     2017-09-14   14      9  2017   \n",
       "5997  2017-09-14 10:33:06+00:00     2017-09-14   14      9  2017   \n",
       "5998  2017-09-15 08:39:54+00:00     2017-09-15   15      9  2017   \n",
       "5999  2017-09-15 10:30:52+00:00     2017-09-15   15      9  2017   \n",
       "\n",
       "            duration  \n",
       "0    0 days 01:27:18  \n",
       "2    0 days 01:23:29  \n",
       "3    0 days 01:17:12  \n",
       "4    0 days 01:04:16  \n",
       "5    0 days 01:18:31  \n",
       "...              ...  \n",
       "5995 0 days 01:20:59  \n",
       "5996 0 days 01:21:00  \n",
       "5997 0 days 01:25:16  \n",
       "5998 0 days 01:28:19  \n",
       "5999 0 days 01:38:32  \n",
       "\n",
       "[5873 rows x 12 columns]"
      ]
     },
     "execution_count": 11,
     "metadata": {},
     "output_type": "execute_result"
    }
   ],
   "source": [
    "good_records = time[time['duration'].astype(str).str.startswith('0')]\n",
    "good_records"
   ]
  },
  {
   "cell_type": "markdown",
   "metadata": {
    "ExecuteTime": {
     "end_time": "2021-04-25T12:40:16.499704Z",
     "start_time": "2021-04-25T12:40:16.486364Z"
    }
   },
   "source": [
    "# Durations Analysis"
   ]
  },
  {
   "cell_type": "markdown",
   "metadata": {},
   "source": [
    "## Summary Statistics"
   ]
  },
  {
   "cell_type": "code",
   "execution_count": 12,
   "metadata": {
    "ExecuteTime": {
     "end_time": "2021-04-25T17:37:29.471498Z",
     "start_time": "2021-04-25T17:37:29.431833Z"
    }
   },
   "outputs": [
    {
     "data": {
      "text/html": [
       "<div>\n",
       "<style scoped>\n",
       "    .dataframe tbody tr th:only-of-type {\n",
       "        vertical-align: middle;\n",
       "    }\n",
       "\n",
       "    .dataframe tbody tr th {\n",
       "        vertical-align: top;\n",
       "    }\n",
       "\n",
       "    .dataframe thead th {\n",
       "        text-align: right;\n",
       "    }\n",
       "</style>\n",
       "<table border=\"1\" class=\"dataframe\">\n",
       "  <thead>\n",
       "    <tr style=\"text-align: right;\">\n",
       "      <th></th>\n",
       "      <th>Value</th>\n",
       "    </tr>\n",
       "  </thead>\n",
       "  <tbody>\n",
       "    <tr>\n",
       "      <th>count</th>\n",
       "      <td>5873</td>\n",
       "    </tr>\n",
       "    <tr>\n",
       "      <th>mean</th>\n",
       "      <td>0 days 01:59:33.213860037</td>\n",
       "    </tr>\n",
       "    <tr>\n",
       "      <th>std</th>\n",
       "      <td>0 days 01:24:16.285962196</td>\n",
       "    </tr>\n",
       "    <tr>\n",
       "      <th>min</th>\n",
       "      <td>0 days 00:00:17</td>\n",
       "    </tr>\n",
       "    <tr>\n",
       "      <th>25%</th>\n",
       "      <td>0 days 01:35:03</td>\n",
       "    </tr>\n",
       "    <tr>\n",
       "      <th>50%</th>\n",
       "      <td>0 days 01:51:52</td>\n",
       "    </tr>\n",
       "    <tr>\n",
       "      <th>75%</th>\n",
       "      <td>0 days 02:07:00</td>\n",
       "    </tr>\n",
       "    <tr>\n",
       "      <th>max</th>\n",
       "      <td>0 days 22:25:14</td>\n",
       "    </tr>\n",
       "  </tbody>\n",
       "</table>\n",
       "</div>"
      ],
      "text/plain": [
       "                           Value\n",
       "count                       5873\n",
       "mean   0 days 01:59:33.213860037\n",
       "std    0 days 01:24:16.285962196\n",
       "min              0 days 00:00:17\n",
       "25%              0 days 01:35:03\n",
       "50%              0 days 01:51:52\n",
       "75%              0 days 02:07:00\n",
       "max              0 days 22:25:14"
      ]
     },
     "execution_count": 12,
     "metadata": {},
     "output_type": "execute_result"
    }
   ],
   "source": [
    "key_statistics = good_records['duration'].describe().to_frame()\n",
    "key_statistics.columns = ['Value']\n",
    "key_statistics"
   ]
  },
  {
   "cell_type": "markdown",
   "metadata": {
    "ExecuteTime": {
     "end_time": "2021-04-25T14:19:42.834138Z",
     "start_time": "2021-04-25T14:19:42.828158Z"
    }
   },
   "source": [
    "> 25% to 75% of the interviews took between 1h35min and 2h07min"
   ]
  },
  {
   "cell_type": "code",
   "execution_count": 13,
   "metadata": {
    "ExecuteTime": {
     "end_time": "2021-04-25T17:37:29.625735Z",
     "start_time": "2021-04-25T17:37:29.475971Z"
    }
   },
   "outputs": [
    {
     "name": "stdout",
     "output_type": "stream",
     "text": [
      "Unique Values:  3306\n"
     ]
    }
   ],
   "source": [
    "print('Unique Values: ',len(good_records['duration'].unique()))"
   ]
  },
  {
   "cell_type": "markdown",
   "metadata": {},
   "source": [
    "> In 5873 records with duration less than a day, we have 3306 unique durations. This means that several interviews have similar duration."
   ]
  },
  {
   "cell_type": "markdown",
   "metadata": {},
   "source": [
    "## Top durations"
   ]
  },
  {
   "cell_type": "code",
   "execution_count": 14,
   "metadata": {
    "ExecuteTime": {
     "end_time": "2021-04-25T17:37:29.862928Z",
     "start_time": "2021-04-25T17:37:29.632108Z"
    }
   },
   "outputs": [
    {
     "data": {
      "text/plain": [
       "(0 days 01:20:58.820000, 0 days 01:34:25.790000]    14.949770\n",
       "(0 days 01:34:25.790000, 0 days 01:47:52.760000]    18.763834\n",
       "(0 days 01:47:52.760000, 0 days 02:01:19.730000]    21.862762\n",
       "(0 days 02:01:19.730000, 0 days 02:14:46.700000]    20.824110\n",
       "(0 days 02:14:46.700000, 0 days 02:28:13.670000]     7.594075\n",
       "Name: duration, dtype: float64"
      ]
     },
     "execution_count": 14,
     "metadata": {},
     "output_type": "execute_result"
    }
   ],
   "source": [
    "good_records['duration'].value_counts(bins=100, normalize =True).head().sort_index()*100"
   ]
  },
  {
   "cell_type": "markdown",
   "metadata": {},
   "source": [
    "> Around 83% of the interviews took between 01h20 and 02h28"
   ]
  },
  {
   "cell_type": "code",
   "execution_count": 15,
   "metadata": {
    "ExecuteTime": {
     "end_time": "2021-04-25T17:37:29.954938Z",
     "start_time": "2021-04-25T17:37:29.865419Z"
    }
   },
   "outputs": [
    {
     "data": {
      "text/plain": [
       "0 days 01:24:59     7\n",
       "0 days 01:25:00     6\n",
       "0 days 01:26:00     6\n",
       "0 days 01:30:59     6\n",
       "0 days 01:31:00    10\n",
       "                   ..\n",
       "0 days 02:12:59     8\n",
       "0 days 02:13:00    10\n",
       "0 days 02:14:00    11\n",
       "0 days 02:14:59     6\n",
       "0 days 02:15:00     9\n",
       "Name: duration, Length: 100, dtype: int64"
      ]
     },
     "execution_count": 15,
     "metadata": {},
     "output_type": "execute_result"
    }
   ],
   "source": [
    "good_records['duration'].value_counts().head(100).sort_index()"
   ]
  },
  {
   "cell_type": "markdown",
   "metadata": {},
   "source": [
    "> 825 Records in top 100 durations range between 1h24min and 2h:15min."
   ]
  },
  {
   "cell_type": "markdown",
   "metadata": {
    "ExecuteTime": {
     "end_time": "2021-04-25T14:44:22.051698Z",
     "start_time": "2021-04-25T14:44:22.048689Z"
    }
   },
   "source": [
    "## Daily Interviews"
   ]
  },
  {
   "cell_type": "code",
   "execution_count": 16,
   "metadata": {
    "ExecuteTime": {
     "end_time": "2021-04-25T17:37:30.053131Z",
     "start_time": "2021-04-25T17:37:29.960823Z"
    }
   },
   "outputs": [],
   "source": [
    "daily = good_records.groupby(['year','month','day'], as_index = False).size()"
   ]
  },
  {
   "cell_type": "code",
   "execution_count": 17,
   "metadata": {
    "ExecuteTime": {
     "end_time": "2021-04-25T17:37:30.191586Z",
     "start_time": "2021-04-25T17:37:30.060500Z"
    }
   },
   "outputs": [
    {
     "data": {
      "text/html": [
       "<div>\n",
       "<style scoped>\n",
       "    .dataframe tbody tr th:only-of-type {\n",
       "        vertical-align: middle;\n",
       "    }\n",
       "\n",
       "    .dataframe tbody tr th {\n",
       "        vertical-align: top;\n",
       "    }\n",
       "\n",
       "    .dataframe thead th {\n",
       "        text-align: right;\n",
       "    }\n",
       "</style>\n",
       "<table border=\"1\" class=\"dataframe\">\n",
       "  <thead>\n",
       "    <tr style=\"text-align: right;\">\n",
       "      <th></th>\n",
       "      <th>year</th>\n",
       "      <th>month</th>\n",
       "      <th>day</th>\n",
       "      <th>size</th>\n",
       "    </tr>\n",
       "  </thead>\n",
       "  <tbody>\n",
       "    <tr>\n",
       "      <th>0</th>\n",
       "      <td>2015</td>\n",
       "      <td>7</td>\n",
       "      <td>29</td>\n",
       "      <td>1</td>\n",
       "    </tr>\n",
       "    <tr>\n",
       "      <th>1</th>\n",
       "      <td>2017</td>\n",
       "      <td>7</td>\n",
       "      <td>26</td>\n",
       "      <td>3</td>\n",
       "    </tr>\n",
       "    <tr>\n",
       "      <th>2</th>\n",
       "      <td>2017</td>\n",
       "      <td>7</td>\n",
       "      <td>27</td>\n",
       "      <td>52</td>\n",
       "    </tr>\n",
       "    <tr>\n",
       "      <th>3</th>\n",
       "      <td>2017</td>\n",
       "      <td>7</td>\n",
       "      <td>28</td>\n",
       "      <td>106</td>\n",
       "    </tr>\n",
       "    <tr>\n",
       "      <th>4</th>\n",
       "      <td>2017</td>\n",
       "      <td>7</td>\n",
       "      <td>29</td>\n",
       "      <td>99</td>\n",
       "    </tr>\n",
       "    <tr>\n",
       "      <th>...</th>\n",
       "      <td>...</td>\n",
       "      <td>...</td>\n",
       "      <td>...</td>\n",
       "      <td>...</td>\n",
       "    </tr>\n",
       "    <tr>\n",
       "      <th>90</th>\n",
       "      <td>2017</td>\n",
       "      <td>11</td>\n",
       "      <td>19</td>\n",
       "      <td>10</td>\n",
       "    </tr>\n",
       "    <tr>\n",
       "      <th>91</th>\n",
       "      <td>2017</td>\n",
       "      <td>11</td>\n",
       "      <td>20</td>\n",
       "      <td>7</td>\n",
       "    </tr>\n",
       "    <tr>\n",
       "      <th>92</th>\n",
       "      <td>2017</td>\n",
       "      <td>11</td>\n",
       "      <td>22</td>\n",
       "      <td>5</td>\n",
       "    </tr>\n",
       "    <tr>\n",
       "      <th>93</th>\n",
       "      <td>2017</td>\n",
       "      <td>11</td>\n",
       "      <td>23</td>\n",
       "      <td>5</td>\n",
       "    </tr>\n",
       "    <tr>\n",
       "      <th>94</th>\n",
       "      <td>2017</td>\n",
       "      <td>11</td>\n",
       "      <td>24</td>\n",
       "      <td>5</td>\n",
       "    </tr>\n",
       "  </tbody>\n",
       "</table>\n",
       "<p>95 rows × 4 columns</p>\n",
       "</div>"
      ],
      "text/plain": [
       "    year  month  day  size\n",
       "0   2015      7   29     1\n",
       "1   2017      7   26     3\n",
       "2   2017      7   27    52\n",
       "3   2017      7   28   106\n",
       "4   2017      7   29    99\n",
       "..   ...    ...  ...   ...\n",
       "90  2017     11   19    10\n",
       "91  2017     11   20     7\n",
       "92  2017     11   22     5\n",
       "93  2017     11   23     5\n",
       "94  2017     11   24     5\n",
       "\n",
       "[95 rows x 4 columns]"
      ]
     },
     "execution_count": 17,
     "metadata": {},
     "output_type": "execute_result"
    }
   ],
   "source": [
    "daily"
   ]
  },
  {
   "cell_type": "markdown",
   "metadata": {},
   "source": [
    "> 1 record is probably errornous (year = 2015)"
   ]
  },
  {
   "cell_type": "code",
   "execution_count": 18,
   "metadata": {
    "ExecuteTime": {
     "end_time": "2021-04-25T17:37:30.305649Z",
     "start_time": "2021-04-25T17:37:30.198857Z"
    }
   },
   "outputs": [],
   "source": [
    "daily = daily[daily['year'] != 2015]"
   ]
  },
  {
   "cell_type": "code",
   "execution_count": 19,
   "metadata": {
    "ExecuteTime": {
     "end_time": "2021-04-25T17:37:30.450489Z",
     "start_time": "2021-04-25T17:37:30.310834Z"
    }
   },
   "outputs": [],
   "source": [
    "def range_interviews(number, interval = 5):\n",
    "    \"\"\"\n",
    "    Return the boundary of interviews conducted on a specific day, default interval of 5\n",
    "    \"\"\"\n",
    "    \n",
    "    upper_range = number + (interval - number) % interval    \n",
    "    lower_range = upper_range - interval\n",
    "    \n",
    "    return f'{lower_range} - {upper_range}'"
   ]
  },
  {
   "cell_type": "code",
   "execution_count": 20,
   "metadata": {
    "ExecuteTime": {
     "end_time": "2021-04-25T17:37:30.606000Z",
     "start_time": "2021-04-25T17:37:30.457092Z"
    }
   },
   "outputs": [],
   "source": [
    "daily['n_interviews'] = daily['size'].apply(lambda x: range_interviews(x))"
   ]
  },
  {
   "cell_type": "code",
   "execution_count": 21,
   "metadata": {
    "ExecuteTime": {
     "end_time": "2021-04-25T17:37:30.755404Z",
     "start_time": "2021-04-25T17:37:30.615147Z"
    }
   },
   "outputs": [
    {
     "data": {
      "text/html": [
       "<div>\n",
       "<style scoped>\n",
       "    .dataframe tbody tr th:only-of-type {\n",
       "        vertical-align: middle;\n",
       "    }\n",
       "\n",
       "    .dataframe tbody tr th {\n",
       "        vertical-align: top;\n",
       "    }\n",
       "\n",
       "    .dataframe thead th {\n",
       "        text-align: right;\n",
       "    }\n",
       "</style>\n",
       "<table border=\"1\" class=\"dataframe\">\n",
       "  <thead>\n",
       "    <tr style=\"text-align: right;\">\n",
       "      <th></th>\n",
       "      <th>n_days</th>\n",
       "      <th>n_interviews</th>\n",
       "    </tr>\n",
       "  </thead>\n",
       "  <tbody>\n",
       "    <tr>\n",
       "      <th>0</th>\n",
       "      <td>13</td>\n",
       "      <td>5 - 10</td>\n",
       "    </tr>\n",
       "    <tr>\n",
       "      <th>1</th>\n",
       "      <td>11</td>\n",
       "      <td>0 - 5</td>\n",
       "    </tr>\n",
       "    <tr>\n",
       "      <th>2</th>\n",
       "      <td>7</td>\n",
       "      <td>95 - 100</td>\n",
       "    </tr>\n",
       "    <tr>\n",
       "      <th>3</th>\n",
       "      <td>7</td>\n",
       "      <td>85 - 90</td>\n",
       "    </tr>\n",
       "    <tr>\n",
       "      <th>4</th>\n",
       "      <td>7</td>\n",
       "      <td>100 - 105</td>\n",
       "    </tr>\n",
       "    <tr>\n",
       "      <th>5</th>\n",
       "      <td>5</td>\n",
       "      <td>105 - 110</td>\n",
       "    </tr>\n",
       "    <tr>\n",
       "      <th>6</th>\n",
       "      <td>5</td>\n",
       "      <td>90 - 95</td>\n",
       "    </tr>\n",
       "    <tr>\n",
       "      <th>7</th>\n",
       "      <td>5</td>\n",
       "      <td>15 - 20</td>\n",
       "    </tr>\n",
       "    <tr>\n",
       "      <th>8</th>\n",
       "      <td>4</td>\n",
       "      <td>110 - 115</td>\n",
       "    </tr>\n",
       "    <tr>\n",
       "      <th>9</th>\n",
       "      <td>3</td>\n",
       "      <td>80 - 85</td>\n",
       "    </tr>\n",
       "    <tr>\n",
       "      <th>10</th>\n",
       "      <td>3</td>\n",
       "      <td>115 - 120</td>\n",
       "    </tr>\n",
       "    <tr>\n",
       "      <th>11</th>\n",
       "      <td>3</td>\n",
       "      <td>10 - 15</td>\n",
       "    </tr>\n",
       "    <tr>\n",
       "      <th>12</th>\n",
       "      <td>2</td>\n",
       "      <td>60 - 65</td>\n",
       "    </tr>\n",
       "    <tr>\n",
       "      <th>13</th>\n",
       "      <td>2</td>\n",
       "      <td>25 - 30</td>\n",
       "    </tr>\n",
       "    <tr>\n",
       "      <th>14</th>\n",
       "      <td>2</td>\n",
       "      <td>20 - 25</td>\n",
       "    </tr>\n",
       "    <tr>\n",
       "      <th>15</th>\n",
       "      <td>2</td>\n",
       "      <td>120 - 125</td>\n",
       "    </tr>\n",
       "    <tr>\n",
       "      <th>16</th>\n",
       "      <td>2</td>\n",
       "      <td>50 - 55</td>\n",
       "    </tr>\n",
       "    <tr>\n",
       "      <th>17</th>\n",
       "      <td>2</td>\n",
       "      <td>130 - 135</td>\n",
       "    </tr>\n",
       "    <tr>\n",
       "      <th>18</th>\n",
       "      <td>2</td>\n",
       "      <td>35 - 40</td>\n",
       "    </tr>\n",
       "    <tr>\n",
       "      <th>19</th>\n",
       "      <td>2</td>\n",
       "      <td>75 - 80</td>\n",
       "    </tr>\n",
       "    <tr>\n",
       "      <th>20</th>\n",
       "      <td>1</td>\n",
       "      <td>135 - 140</td>\n",
       "    </tr>\n",
       "    <tr>\n",
       "      <th>21</th>\n",
       "      <td>1</td>\n",
       "      <td>30 - 35</td>\n",
       "    </tr>\n",
       "    <tr>\n",
       "      <th>22</th>\n",
       "      <td>1</td>\n",
       "      <td>125 - 130</td>\n",
       "    </tr>\n",
       "    <tr>\n",
       "      <th>23</th>\n",
       "      <td>1</td>\n",
       "      <td>65 - 70</td>\n",
       "    </tr>\n",
       "    <tr>\n",
       "      <th>24</th>\n",
       "      <td>1</td>\n",
       "      <td>70 - 75</td>\n",
       "    </tr>\n",
       "  </tbody>\n",
       "</table>\n",
       "</div>"
      ],
      "text/plain": [
       "    n_days n_interviews\n",
       "0       13       5 - 10\n",
       "1       11        0 - 5\n",
       "2        7     95 - 100\n",
       "3        7      85 - 90\n",
       "4        7    100 - 105\n",
       "5        5    105 - 110\n",
       "6        5      90 - 95\n",
       "7        5      15 - 20\n",
       "8        4    110 - 115\n",
       "9        3      80 - 85\n",
       "10       3    115 - 120\n",
       "11       3      10 - 15\n",
       "12       2      60 - 65\n",
       "13       2      25 - 30\n",
       "14       2      20 - 25\n",
       "15       2    120 - 125\n",
       "16       2      50 - 55\n",
       "17       2    130 - 135\n",
       "18       2      35 - 40\n",
       "19       2      75 - 80\n",
       "20       1    135 - 140\n",
       "21       1      30 - 35\n",
       "22       1    125 - 130\n",
       "23       1      65 - 70\n",
       "24       1      70 - 75"
      ]
     },
     "execution_count": 21,
     "metadata": {},
     "output_type": "execute_result"
    }
   ],
   "source": [
    "daily_statistics = daily['n_interviews'].value_counts().to_frame().reset_index()\n",
    "daily_statistics.columns = ['n_interviews','n_days']\n",
    "daily_statistics = daily_statistics[['n_days','n_interviews']]\n",
    "daily_statistics"
   ]
  },
  {
   "cell_type": "code",
   "execution_count": 22,
   "metadata": {
    "ExecuteTime": {
     "end_time": "2021-04-25T17:37:30.892554Z",
     "start_time": "2021-04-25T17:37:30.760797Z"
    }
   },
   "outputs": [],
   "source": [
    "daily_statistics['key'] = daily_statistics['n_interviews'].apply(lambda x: int(x.split(' - ')[1]))\n",
    "daily_statistics.sort_values(by='key', inplace = True)"
   ]
  },
  {
   "cell_type": "code",
   "execution_count": 23,
   "metadata": {
    "ExecuteTime": {
     "end_time": "2021-04-25T17:37:32.560381Z",
     "start_time": "2021-04-25T17:37:30.900159Z"
    }
   },
   "outputs": [
    {
     "data": {
      "image/png": "[encoded data removed]",
      "text/plain": [
       "<Figure size 1440x720 with 1 Axes>"
      ]
     },
     "metadata": {},
     "output_type": "display_data"
    }
   ],
   "source": [
    "#Ploting\n",
    "plt.figure(figsize=(20,10))\n",
    "plt.bar(daily_statistics['n_interviews'], daily_statistics['n_days'])\n",
    "plt.title('Number of Interviews per Day')\n",
    "plt.xticks(rotation=40);\n",
    "plt.xlabel('Number of Interviews')\n",
    "plt.ylabel('Number of Days')\n",
    "for i, value in enumerate(daily_statistics['n_days']):\n",
    "    plt.text(i-0.2,value+0.2, value)"
   ]
  },
  {
   "cell_type": "markdown",
   "metadata": {},
   "source": [
    "> - 6 days recorded between 120 and 140 interviews/day\n",
    "> - 26 days recorded 85 to 105 interviews/day\n",
    "> - 24 days interviews recorded up to 10 interviews/day"
   ]
  },
  {
   "cell_type": "markdown",
   "metadata": {},
   "source": [
    "# Monthly Interviews"
   ]
  },
  {
   "cell_type": "code",
   "execution_count": 24,
   "metadata": {
    "ExecuteTime": {
     "end_time": "2021-04-25T17:37:32.576436Z",
     "start_time": "2021-04-25T17:37:32.563389Z"
    }
   },
   "outputs": [],
   "source": [
    "monthly = daily[['month','size']].groupby(['month'],as_index=False).sum()\n",
    "monthly.columns = ['month', 'n_interviews']"
   ]
  },
  {
   "cell_type": "code",
   "execution_count": 25,
   "metadata": {
    "ExecuteTime": {
     "end_time": "2021-04-25T17:37:32.752246Z",
     "start_time": "2021-04-25T17:37:32.588468Z"
    }
   },
   "outputs": [
    {
     "data": {
      "text/html": [
       "<div>\n",
       "<style scoped>\n",
       "    .dataframe tbody tr th:only-of-type {\n",
       "        vertical-align: middle;\n",
       "    }\n",
       "\n",
       "    .dataframe tbody tr th {\n",
       "        vertical-align: top;\n",
       "    }\n",
       "\n",
       "    .dataframe thead th {\n",
       "        text-align: right;\n",
       "    }\n",
       "</style>\n",
       "<table border=\"1\" class=\"dataframe\">\n",
       "  <thead>\n",
       "    <tr style=\"text-align: right;\">\n",
       "      <th></th>\n",
       "      <th>month</th>\n",
       "      <th>n_interviews</th>\n",
       "    </tr>\n",
       "  </thead>\n",
       "  <tbody>\n",
       "    <tr>\n",
       "      <th>0</th>\n",
       "      <td>7</td>\n",
       "      <td>339</td>\n",
       "    </tr>\n",
       "    <tr>\n",
       "      <th>1</th>\n",
       "      <td>8</td>\n",
       "      <td>2852</td>\n",
       "    </tr>\n",
       "    <tr>\n",
       "      <th>2</th>\n",
       "      <td>9</td>\n",
       "      <td>2409</td>\n",
       "    </tr>\n",
       "    <tr>\n",
       "      <th>3</th>\n",
       "      <td>10</td>\n",
       "      <td>109</td>\n",
       "    </tr>\n",
       "    <tr>\n",
       "      <th>4</th>\n",
       "      <td>11</td>\n",
       "      <td>163</td>\n",
       "    </tr>\n",
       "  </tbody>\n",
       "</table>\n",
       "</div>"
      ],
      "text/plain": [
       "   month  n_interviews\n",
       "0      7           339\n",
       "1      8          2852\n",
       "2      9          2409\n",
       "3     10           109\n",
       "4     11           163"
      ]
     },
     "execution_count": 25,
     "metadata": {},
     "output_type": "execute_result"
    }
   ],
   "source": [
    "monthly"
   ]
  },
  {
   "cell_type": "markdown",
   "metadata": {},
   "source": [
    "> The survey was conducted in July to November. Most interviews were conducted in August and September"
   ]
  },
  {
   "cell_type": "code",
   "execution_count": 26,
   "metadata": {
    "ExecuteTime": {
     "end_time": "2021-04-25T17:37:33.319658Z",
     "start_time": "2021-04-25T17:37:32.768018Z"
    }
   },
   "outputs": [
    {
     "data": {
      "image/png": "[encoded data removed]",
      "text/plain": [
       "<Figure size 720x360 with 1 Axes>"
      ]
     },
     "metadata": {},
     "output_type": "display_data"
    }
   ],
   "source": [
    "#Ploting\n",
    "plt.figure(figsize=(10,5))\n",
    "plt.bar(monthly.index, monthly['n_interviews']);\n",
    "plt.title('Number of Interviews per Month')\n",
    "plt.xticks(monthly.index, ['July','August','September','October','November'])\n",
    "#plt.xticks(rotation=40);\n",
    "plt.xlabel('Month')\n",
    "plt.ylabel('Number of interviews')\n",
    "for i, value in enumerate(monthly['n_interviews']):\n",
    "    plt.text(i-0.15,value+1, value)"
   ]
  }
 ],
 "metadata": {
  "kernelspec": {
   "display_name": "Python 3",
   "language": "python",
   "name": "python3"
  },
  "language_info": {
   "codemirror_mode": {
    "name": "ipython",
    "version": 3
   },
   "file_extension": ".py",
   "mimetype": "text/x-python",
   "name": "python",
   "nbconvert_exporter": "python",
   "pygments_lexer": "ipython3",
   "version": "3.8.5"
  },
  "toc": {
   "base_numbering": 1,
   "nav_menu": {},
   "number_sections": true,
   "sideBar": true,
   "skip_h1_title": false,
   "title_cell": "Table of Contents",
   "title_sidebar": "Contents",
   "toc_cell": false,
   "toc_position": {},
   "toc_section_display": true,
   "toc_window_display": false
  },
  "varInspector": {
   "cols": {
    "lenName": 16,
    "lenType": 16,
    "lenVar": 40
   },
   "kernels_config": {
    "python": {
     "delete_cmd_postfix": "",
     "delete_cmd_prefix": "del ",
     "library": "var_list.py",
     "varRefreshCmd": "print(var_dic_list())"
    },
    "r": {
     "delete_cmd_postfix": ") ",
     "delete_cmd_prefix": "rm(",
     "library": "var_list.r",
     "varRefreshCmd": "cat(var_dic_list()) "
    }
   },
   "types_to_exclude": [
    "module",
    "function",
    "builtin_function_or_method",
    "instance",
    "_Feature"
   ],
   "window_display": false
  }
 },
 "nbformat": 4,
 "nbformat_minor": 4
}
